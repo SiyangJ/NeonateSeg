{
 "cells": [
  {
   "cell_type": "code",
   "execution_count": 1,
   "metadata": {},
   "outputs": [],
   "source": [
    "import tensorflow as tf\n",
    "import sys\n",
    "#sys.path.append('/nas/longleaf/home/siyangj/NiftyNet/')\n",
    "#import niftynet as nn\n",
    "import numpy as np\n",
    "import matplotlib.pyplot as plt\n",
    "%matplotlib inline\n",
    "import SimpleITK as sitk\n",
    "import os\n",
    "import re\n",
    "#import nibabel as nib\n",
    "import sklearn as skl\n",
    "#import pandas as pd\n",
    "\n",
    "#pd.options.display.max_colwidth = 100\n",
    "#pd.options.display.max_columns = 10000"
   ]
  },
  {
   "cell_type": "code",
   "execution_count": 2,
   "metadata": {},
   "outputs": [],
   "source": [
    "def Dice(pred,true,labels=[0,1,2,3]):\n",
    "    l = len(labels)\n",
    "    ret = np.zeros(l)\n",
    "    for i in range(l):\n",
    "        lab = labels[i]\n",
    "        p = pred==lab\n",
    "        t = true==lab\n",
    "        ret[i] = 2*np.logical_and(p,t).sum()/(p.sum()+t.sum())\n",
    "    return ret"
   ]
  },
  {
   "cell_type": "code",
   "execution_count": 29,
   "metadata": {},
   "outputs": [],
   "source": [
    "data_path = '/proj/NIRAL/users/siyangj/myData/min_normal/seg_inf_1/8.nrrd'\n",
    "inf_path  = '/proj/NIRAL/users/siyangj/NewModels/model_0215_class_weight/models/1/provide_weights_real_validate_on_1/prediction-8.nrrd'"
   ]
  },
  {
   "cell_type": "code",
   "execution_count": 30,
   "metadata": {},
   "outputs": [],
   "source": [
    "seg = sitk.GetArrayFromImage(sitk.ReadImage(data_path))\n",
    "inf = sitk.GetArrayFromImage(sitk.ReadImage(inf_path))\n"
   ]
  },
  {
   "cell_type": "code",
   "execution_count": 26,
   "metadata": {},
   "outputs": [
    {
     "data": {
      "text/plain": [
       "array([0.99511906, 0.79120141, 0.82832828, 0.83931543])"
      ]
     },
     "execution_count": 26,
     "metadata": {},
     "output_type": "execute_result"
    }
   ],
   "source": [
    "Dice(inf,seg)"
   ]
  },
  {
   "cell_type": "code",
   "execution_count": 31,
   "metadata": {},
   "outputs": [
    {
     "data": {
      "text/plain": [
       "array([0.9998547 , 0.86560087, 0.85965276, 0.85073617])"
      ]
     },
     "execution_count": 31,
     "metadata": {},
     "output_type": "execute_result"
    }
   ],
   "source": [
    "Dice(inf,seg)"
   ]
  },
  {
   "cell_type": "code",
   "execution_count": null,
   "metadata": {},
   "outputs": [],
   "source": []
  }
 ],
 "metadata": {
  "kernelspec": {
   "display_name": "Python 2",
   "language": "python",
   "name": "python2"
  },
  "language_info": {
   "codemirror_mode": {
    "name": "ipython",
    "version": 3
   },
   "file_extension": ".py",
   "mimetype": "text/x-python",
   "name": "python",
   "nbconvert_exporter": "python",
   "pygments_lexer": "ipython3",
   "version": "3.6.7"
  }
 },
 "nbformat": 4,
 "nbformat_minor": 2
}
