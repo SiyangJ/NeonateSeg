{
 "cells": [
  {
   "cell_type": "code",
   "execution_count": 1,
   "metadata": {},
   "outputs": [],
   "source": [
    "import tensorflow as tf\n",
    "import sys\n",
    "#sys.path.append('/nas/longleaf/home/siyangj/NiftyNet/')\n",
    "#import niftynet as nn\n",
    "import numpy as np\n",
    "import matplotlib.pyplot as plt\n",
    "%matplotlib inline\n",
    "import SimpleITK as sitk\n",
    "import os\n",
    "import re\n",
    "#import nibabel as nib\n",
    "import sklearn as skl\n",
    "#import pandas as pd\n",
    "\n",
    "#pd.options.display.max_colwidth = 100\n",
    "#pd.options.display.max_columns = 10000"
   ]
  },
  {
   "cell_type": "code",
   "execution_count": 2,
   "metadata": {},
   "outputs": [],
   "source": [
    "def Dice(pred,true,labels=[0,1,2,3]):\n",
    "    l = len(labels)\n",
    "    ret = np.zeros(l)\n",
    "    for i in range(l):\n",
    "        lab = labels[i]\n",
    "        p = pred==lab\n",
    "        t = true==lab\n",
    "        ret[i] = 2*np.logical_and(p,t).sum()/(p.sum()+t.sum())\n",
    "    return ret"
   ]
  },
  {
   "cell_type": "code",
   "execution_count": 20,
   "metadata": {},
   "outputs": [],
   "source": [
    "def load_sitk(sitk_path):\n",
    "    return sitk.GetArrayFromImage(sitk.ReadImage(sitk_path))"
   ]
  },
  {
   "cell_type": "code",
   "execution_count": 27,
   "metadata": {},
   "outputs": [],
   "source": [
    "def ShowDice(pred_path,true_path,cr_path=None):\n",
    "    pred = load_sitk(pred_path)\n",
    "    true = load_sitk(true_path)\n",
    "    print(Dice(pred,true))\n",
    "    if cr_path is not None:\n",
    "        cr_mask = load_sitk(cr_path)\n",
    "        pred[cr_mask==1] = 0\n",
    "        true[cr_mask==1] = 0\n",
    "        print(Dice(pred,true))"
   ]
  },
  {
   "cell_type": "code",
   "execution_count": 28,
   "metadata": {},
   "outputs": [],
   "source": [
    "def ShowDiceDir(pred_dir,true_dir,im_num=1,cr_mask=True):\n",
    "    ShowDice(os.path.join(pred_dir,'prediction-%d.nrrd'%im_num),\n",
    "             os.path.join(true_dir,'%d.nrrd'%im_num),\n",
    "            ('/proj/NIRAL/users/siyangj/myData/min_normal/CerebellumMask/%d.nrrd'%im_num) if cr_mask else None)"
   ]
  },
  {
   "cell_type": "code",
   "execution_count": null,
   "metadata": {},
   "outputs": [],
   "source": []
  },
  {
   "cell_type": "code",
   "execution_count": 30,
   "metadata": {},
   "outputs": [],
   "source": [
    "data_path = '/proj/NIRAL/users/siyangj/myData/min_normal/seg_inf_1/8.nrrd'\n",
    "inf_path  = '/proj/NIRAL/users/siyangj/NewModels/model_0218_patch/models/1/real1/prediction-8.nrrd'\n",
    "cr_path = '/proj/NIRAL/users/siyangj/myData/min_normal/CerebellumMask/1.nrrd'"
   ]
  },
  {
   "cell_type": "code",
   "execution_count": 35,
   "metadata": {},
   "outputs": [],
   "source": [
    "data_dir = '/proj/NIRAL/users/siyangj/myData/min_normal/seg_inf_1/'\n",
    "inf_dir  = '/proj/NIRAL/users/siyangj/NewModels/model_0218_patch/models/1/real1/'\n",
    "cr_dir = '/proj/NIRAL/users/siyangj/myData/min_normal/CerebellumMask/'"
   ]
  },
  {
   "cell_type": "code",
   "execution_count": 36,
   "metadata": {},
   "outputs": [
    {
     "name": "stdout",
     "output_type": "stream",
     "text": [
      "[0.9950454  0.82561722 0.83896731 0.84048327]\n",
      "[0.99654515 0.83547703 0.83292141 0.84999759]\n"
     ]
    }
   ],
   "source": [
    "ShowDiceDir(inf_dir,data_dir,1,True)"
   ]
  },
  {
   "cell_type": "code",
   "execution_count": 33,
   "metadata": {},
   "outputs": [
    {
     "name": "stdout",
     "output_type": "stream",
     "text": [
      "[0.9950454  0.82561722 0.83896731 0.84048327]\n",
      "[0.99654515 0.83547703 0.83292141 0.84999759]\n"
     ]
    }
   ],
   "source": [
    "ShowDiceDir(inf_dir,data_dir,1,True)"
   ]
  },
  {
   "cell_type": "code",
   "execution_count": 37,
   "metadata": {},
   "outputs": [
    {
     "name": "stdout",
     "output_type": "stream",
     "text": [
      "[0.99981756 0.88386362 0.87342285 0.85878282]\n",
      "[0.99983253 0.89558643 0.87505924 0.8646236 ]\n"
     ]
    }
   ],
   "source": [
    "ShowDiceDir(inf_dir,data_dir,8,True)"
   ]
  },
  {
   "cell_type": "code",
   "execution_count": 19,
   "metadata": {},
   "outputs": [
    {
     "data": {
      "text/plain": [
       "array([0.99981756, 0.88386362, 0.87342285, 0.85878282])"
      ]
     },
     "execution_count": 19,
     "metadata": {},
     "output_type": "execute_result"
    }
   ],
   "source": [
    "## Data augmentation on 1\n",
    "## inf_path  = '/proj/NIRAL/users/siyangj/NewModels/model_0218_patch/models/1/real1/prediction-1.nrrd'\n",
    "## array([0.9950454 , 0.82561722, 0.83896731, 0.84048327])\n",
    "\n",
    "## Data augmentation on 8\n",
    "## inf_path  = '/proj/NIRAL/users/siyangj/NewModels/model_0218_patch/models/1/real1/prediction-8.nrrd'\n",
    "## array([0.99981756, 0.88386362, 0.87342285, 0.85878282])\n",
    "Dice(inf,seg)"
   ]
  },
  {
   "cell_type": "code",
   "execution_count": 10,
   "metadata": {},
   "outputs": [
    {
     "data": {
      "text/plain": [
       "array([0.99493095, 0.82080061, 0.82948852, 0.83784337])"
      ]
     },
     "execution_count": 10,
     "metadata": {},
     "output_type": "execute_result"
    }
   ],
   "source": [
    "## Data augmentation on 1\n",
    "##inf_path  = '/proj/NIRAL/users/siyangj/myData/min_normal/stage2/prediction-2-1.nrrd'\n",
    "## array([0.99493095, 0.82080061, 0.82948852, 0.83784337])\n",
    "\n",
    "## Data augmentation on 8\n",
    "##inf_path  = '/proj/NIRAL/users/siyangj/myData/min_normal/stage2/prediction-2-8.nrrd'\n",
    "##array([0.99984149, 0.88862115, 0.88321894, 0.86640754])\n",
    "Dice(inf,seg)"
   ]
  },
  {
   "cell_type": "code",
   "execution_count": 42,
   "metadata": {},
   "outputs": [
    {
     "data": {
      "text/plain": [
       "array([0.99985222, 0.87666222, 0.86911162, 0.86009736])"
      ]
     },
     "execution_count": 42,
     "metadata": {},
     "output_type": "execute_result"
    }
   ],
   "source": [
    "## Data augmentation on 1\n",
    "##inf_path  = '/proj/NIRAL/users/siyangj/NewModels/model_0217_data_aug/models/1/data_aug_2_validate_on_1/prediction-1.nrrd'\n",
    "## array([0.99507099, 0.81366027, 0.83624629, 0.84060861])\n",
    "\n",
    "## Data augmentation on 8\n",
    "##inf_path  = '/proj/NIRAL/users/siyangj/NewModels/model_0217_data_aug/models/1/data_aug_2_validate_on_1/prediction-8.nrrd'\n",
    "##array([0.99985222, 0.87666222, 0.86911162, 0.86009736])\n",
    "Dice(inf,seg)"
   ]
  },
  {
   "cell_type": "code",
   "execution_count": null,
   "metadata": {},
   "outputs": [],
   "source": []
  },
  {
   "cell_type": "code",
   "execution_count": 29,
   "metadata": {},
   "outputs": [],
   "source": [
    "data_path = '/proj/NIRAL/users/siyangj/myData/min_normal/seg_inf_1/8.nrrd'\n",
    "inf_path  = '/proj/NIRAL/users/siyangj/NewModels/model_0215_class_weight/models/1/provide_weights_real_validate_on_1/prediction-8.nrrd'"
   ]
  },
  {
   "cell_type": "code",
   "execution_count": 35,
   "metadata": {},
   "outputs": [],
   "source": [
    "seg = sitk.GetArrayFromImage(sitk.ReadImage(data_path))\n",
    "inf = sitk.GetArrayFromImage(sitk.ReadImage(inf_path))\n"
   ]
  },
  {
   "cell_type": "code",
   "execution_count": 36,
   "metadata": {},
   "outputs": [
    {
     "data": {
      "text/plain": [
       "array([0.99511906, 0.79120141, 0.82832828, 0.83931543])"
      ]
     },
     "execution_count": 36,
     "metadata": {},
     "output_type": "execute_result"
    }
   ],
   "source": [
    "## No data augmentation on 1\n",
    "## inf_path  = '/proj/NIRAL/users/siyangj/NewModels/model_0215_class_weight/models/1/provide_weights_real_validate_on_1/prediction-1.nrrd'\n",
    "## array([0.99511906, 0.79120141, 0.82832828, 0.83931543])\n",
    "Dice(inf,seg)"
   ]
  },
  {
   "cell_type": "code",
   "execution_count": null,
   "metadata": {},
   "outputs": [],
   "source": []
  }
 ],
 "metadata": {
  "kernelspec": {
   "display_name": "Python 2",
   "language": "python",
   "name": "python2"
  },
  "language_info": {
   "codemirror_mode": {
    "name": "ipython",
    "version": 3
   },
   "file_extension": ".py",
   "mimetype": "text/x-python",
   "name": "python",
   "nbconvert_exporter": "python",
   "pygments_lexer": "ipython3",
   "version": "3.6.7"
  }
 },
 "nbformat": 4,
 "nbformat_minor": 2
}
