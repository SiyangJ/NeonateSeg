{
 "cells": [
  {
   "cell_type": "code",
   "execution_count": 1,
   "metadata": {},
   "outputs": [],
   "source": [
    "import tensorflow as tf\n",
    "import sys\n",
    "#sys.path.append('/nas/longleaf/home/siyangj/NiftyNet/')\n",
    "#import niftynet as nn\n",
    "import numpy as np\n",
    "import matplotlib.pyplot as plt\n",
    "%matplotlib inline\n",
    "import SimpleITK as sitk\n",
    "import os\n",
    "import re\n",
    "#import nibabel as nib\n",
    "import sklearn as skl\n",
    "#import pandas as pd\n",
    "\n",
    "#pd.options.display.max_colwidth = 100\n",
    "#pd.options.display.max_columns = 10000"
   ]
  },
  {
   "cell_type": "code",
   "execution_count": 2,
   "metadata": {},
   "outputs": [],
   "source": [
    "def Dice(pred,true,labels=[0,1,2,3]):\n",
    "    l = len(labels)\n",
    "    ret = np.zeros(l)\n",
    "    for i in range(l):\n",
    "        lab = labels[i]\n",
    "        p = pred==lab\n",
    "        t = true==lab\n",
    "        ret[i] = 2*float(np.logical_and(p,t).sum())/(p.sum()+t.sum())\n",
    "    return ret"
   ]
  },
  {
   "cell_type": "code",
   "execution_count": 3,
   "metadata": {},
   "outputs": [],
   "source": [
    "def load_sitk(sitk_path):\n",
    "    return sitk.GetArrayFromImage(sitk.ReadImage(sitk_path))"
   ]
  },
  {
   "cell_type": "code",
   "execution_count": 84,
   "metadata": {},
   "outputs": [
    {
     "data": {
      "image/png": "[encoded data removed]",
      "text/plain": [
       "<Figure size 720x720 with 1 Axes>"
      ]
     },
     "metadata": {
      "needs_background": "light"
     },
     "output_type": "display_data"
    }
   ],
   "source": [
    "data_dir = '/proj/NIRAL/users/siyangj/NewModels/model_0227_unet/models/1/patch_pretrain1'\n",
    "true_dir = '/proj/NIRAL/users/siyangj/myData/min_normal/seg_inf_1/'\n",
    "cr_dir = '/proj/NIRAL/users/siyangj/myData/min_normal/CerebellumMask/'\n",
    "\n",
    "Dice_all = []\n",
    "Dice_mask = []\n",
    "\n",
    "for i in range(1,9):\n",
    "    im_pred = load_sitk(os.path.join(data_dir, 'prediction-%d.nrrd'%i))\n",
    "    im_true = load_sitk(os.path.join(true_dir, '%d.nrrd'%i))\n",
    "    im_mask = load_sitk(os.path.join(cr_dir, '%d.nrrd'%i))\n",
    "    \n",
    "    Dice_all += [Dice(im_pred,im_true),]\n",
    "    im_pred[im_mask==1] = 0\n",
    "    im_true[im_mask==1] = 0\n",
    "    Dice_mask += [Dice(im_pred,im_true),]\n",
    "\n",
    "Dice_all = np.array(Dice_all)\n",
    "Dice_mask = np.array(Dice_mask)\n",
    "\n",
    "plt.figure(figsize=(10,10))\n",
    "box1 = plt.boxplot(Dice_all[:,1:],positions=[1,2,3])\n",
    "for item in ['boxes', 'whiskers', 'fliers', 'medians', 'caps']:\n",
    "        plt.setp(box1[item], color='blue')\n",
    "box2 = plt.boxplot(Dice_mask[:,1:],positions=[1.5,2.5,3.5])\n",
    "for item in ['boxes', 'whiskers', 'fliers', 'medians', 'caps']:\n",
    "        plt.setp(box2[item], color='red')\n",
    "plt.xlim(0.5,4)\n",
    "\n",
    "for line in box1['medians']:\n",
    "    # get position data for median line\n",
    "    x, y = line.get_xydata()[1] # top of median line\n",
    "    v = line.get_data()[1][1] \n",
    "    # overlay median value\n",
    "    plt.text(x-0.15, y+0.001, '%.4f' % v,\n",
    "         horizontalalignment='center') # draw above, centered\n",
    "    \n",
    "for line in box2['medians']:\n",
    "    # get position data for median line\n",
    "    x, y = line.get_xydata()[1] # top of median line\n",
    "    v = line.get_data()[1][1] \n",
    "    # overlay median value\n",
    "    plt.text(x-0.15, y+0.001, '%.4f' % v,\n",
    "         horizontalalignment='center') # draw above, centered"
   ]
  },
  {
   "cell_type": "code",
   "execution_count": 83,
   "metadata": {},
   "outputs": [
    {
     "data": {
      "image/png": "[encoded data removed]",
      "text/plain": [
       "<Figure size 720x720 with 1 Axes>"
      ]
     },
     "metadata": {
      "needs_background": "light"
     },
     "output_type": "display_data"
    }
   ],
   "source": [
    "data_dir = '/proj/NIRAL/users/siyangj/NewModels/model_0228_unet_early/models/1/patch_pretrain1/'\n",
    "true_dir = '/proj/NIRAL/users/siyangj/myData/min_normal/seg_inf_1/'\n",
    "cr_dir = '/proj/NIRAL/users/siyangj/myData/min_normal/CerebellumMask/'\n",
    "\n",
    "Dice_all = []\n",
    "Dice_mask = []\n",
    "\n",
    "for i in range(1,9):\n",
    "    im_pred = load_sitk(os.path.join(data_dir, 'prediction-%d.nrrd'%i))\n",
    "    im_true = load_sitk(os.path.join(true_dir, '%d.nrrd'%i))\n",
    "    im_mask = load_sitk(os.path.join(cr_dir, '%d.nrrd'%i))\n",
    "    \n",
    "    Dice_all += [Dice(im_pred,im_true),]\n",
    "    im_pred[im_mask==1] = 0\n",
    "    im_true[im_mask==1] = 0\n",
    "    Dice_mask += [Dice(im_pred,im_true),]\n",
    "\n",
    "Dice_all = np.array(Dice_all)\n",
    "Dice_mask = np.array(Dice_mask)\n",
    "\n",
    "plt.figure(figsize=(10,10))\n",
    "box1 = plt.boxplot(Dice_all[:,1:],positions=[1,2,3])\n",
    "for item in ['boxes', 'whiskers', 'fliers', 'medians', 'caps']:\n",
    "        plt.setp(box1[item], color='blue')\n",
    "box2 = plt.boxplot(Dice_mask[:,1:],positions=[1.5,2.5,3.5])\n",
    "for item in ['boxes', 'whiskers', 'fliers', 'medians', 'caps']:\n",
    "        plt.setp(box2[item], color='red')\n",
    "plt.xlim(0.5,4)\n",
    "\n",
    "for line in box1['medians']:\n",
    "    # get position data for median line\n",
    "    x, y = line.get_xydata()[1] # top of median line\n",
    "    v = line.get_data()[1][1] \n",
    "    # overlay median value\n",
    "    plt.text(x-0.15, y+0.001, '%.4f' % v,\n",
    "         horizontalalignment='center') # draw above, centered\n",
    "    \n",
    "for line in box2['medians']:\n",
    "    # get position data for median line\n",
    "    x, y = line.get_xydata()[1] # top of median line\n",
    "    v = line.get_data()[1][1] \n",
    "    # overlay median value\n",
    "    plt.text(x-0.15, y+0.001, '%.4f' % v,\n",
    "         horizontalalignment='center') # draw above, centered"
   ]
  },
  {
   "cell_type": "code",
   "execution_count": 72,
   "metadata": {},
   "outputs": [
    {
     "data": {
      "text/plain": [
       "(array([2.85, 3.15]), array([0.85215868, 0.85215868]))"
      ]
     },
     "execution_count": 72,
     "metadata": {},
     "output_type": "execute_result"
    }
   ],
   "source": [
    "line.get_data()"
   ]
  },
  {
   "cell_type": "code",
   "execution_count": 4,
   "metadata": {},
   "outputs": [],
   "source": [
    "def ShowDice(pred_path,true_path,cr_path=None):\n",
    "    pred = load_sitk(pred_path)\n",
    "    true = load_sitk(true_path)\n",
    "    print(Dice(pred,true))\n",
    "    if cr_path is not None:\n",
    "        cr_mask = load_sitk(cr_path)\n",
    "        pred[cr_mask==1] = 0\n",
    "        true[cr_mask==1] = 0\n",
    "        print(Dice(pred,true))"
   ]
  },
  {
   "cell_type": "code",
   "execution_count": 7,
   "metadata": {},
   "outputs": [],
   "source": [
    "def ShowDiceDir(pred_dir,true_dir,im_num=1,cr_mask=True,phase=1):\n",
    "    ShowDice(os.path.join(pred_dir,('prediction-%d.nrrd'if phase==1 else 'prediction-2-%d.nrrd')%im_num),\n",
    "             os.path.join(true_dir,'%d.nrrd'%im_num),\n",
    "            ('/proj/NIRAL/users/siyangj/myData/min_normal/CerebellumMask/%d.nrrd'%im_num) if cr_mask else None)"
   ]
  },
  {
   "cell_type": "code",
   "execution_count": 6,
   "metadata": {},
   "outputs": [
    {
     "name": "stdout",
     "output_type": "stream",
     "text": [
      "[0.99181732 0.80702226 0.81557006 0.80506268]\n",
      "[0.99399111 0.82549374 0.81865764 0.81500557]\n"
     ]
    }
   ],
   "source": [
    "data_path = '/proj/NIRAL/users/siyangj/myData/min_normal/seg_inf_1/'\n",
    "inf_path  = '/proj/NIRAL/users/siyangj/NewModels/model_0307_architecture_search/models/1/32real/'\n",
    "cr_path = '/proj/NIRAL/users/siyangj/myData/min_normal/CerebellumMask/'\n",
    "\n",
    "ShowDiceDir(inf_path,data_path,1,True)"
   ]
  },
  {
   "cell_type": "code",
   "execution_count": 9,
   "metadata": {},
   "outputs": [
    {
     "name": "stdout",
     "output_type": "stream",
     "text": [
      "[0.9949036  0.84058714 0.84830454 0.83632703]\n",
      "[0.99644358 0.85311612 0.84528585 0.8453317 ]\n"
     ]
    }
   ],
   "source": [
    "data_path = '/proj/NIRAL/users/siyangj/myData/min_normal/seg_inf_1/'\n",
    "inf_path  = '/proj/NIRAL/users/siyangj/NewModels/model_0307_architecture_search/models/1/48real/'\n",
    "cr_path = '/proj/NIRAL/users/siyangj/myData/min_normal/CerebellumMask/'\n",
    "\n",
    "ShowDiceDir(inf_path,data_path,1,True)"
   ]
  },
  {
   "cell_type": "code",
   "execution_count": 6,
   "metadata": {},
   "outputs": [
    {
     "name": "stdout",
     "output_type": "stream",
     "text": [
      "[0.99416496 0.84269006 0.85152221 0.84112628]\n",
      "[0.99590687 0.85413464 0.84875171 0.85116572]\n"
     ]
    }
   ],
   "source": [
    "data_path = '/proj/NIRAL/users/siyangj/myData/min_normal/seg_inf_1/'\n",
    "inf_path  = '/proj/NIRAL/users/siyangj/NewModels/model_0307_architecture_search/models/1/80real/'\n",
    "cr_path = '/proj/NIRAL/users/siyangj/myData/min_normal/CerebellumMask/'\n",
    "\n",
    "ShowDiceDir(inf_path,data_path,1,True)"
   ]
  },
  {
   "cell_type": "code",
   "execution_count": null,
   "metadata": {},
   "outputs": [],
   "source": []
  },
  {
   "cell_type": "code",
   "execution_count": 9,
   "metadata": {},
   "outputs": [
    {
     "name": "stdout",
     "output_type": "stream",
     "text": [
      "[0.9940521  0.80306931 0.84025485 0.83015227]\n",
      "[0.99582584 0.81808179 0.84018802 0.84037788]\n"
     ]
    }
   ],
   "source": [
    "data_path = '/proj/NIRAL/users/siyangj/myData/min_normal/seg_inf_1/'\n",
    "inf_path  = '/proj/NIRAL/users/siyangj/NewModels/model_0228_unet_early/models/1/patch_pretrain1/'\n",
    "cr_path = '/proj/NIRAL/users/siyangj/myData/min_normal/CerebellumMask/'\n",
    "\n",
    "ShowDiceDir(inf_path,data_path,1,True)"
   ]
  },
  {
   "cell_type": "code",
   "execution_count": 7,
   "metadata": {},
   "outputs": [
    {
     "name": "stdout",
     "output_type": "stream",
     "text": [
      "[0.99467305 0.84294256 0.85346965 0.84229262]\n",
      "[0.99624584 0.85575369 0.85138184 0.85165244]\n"
     ]
    }
   ],
   "source": [
    "data_path = '/proj/NIRAL/users/siyangj/myData/min_normal/seg_inf_1/'\n",
    "inf_path  = '/proj/NIRAL/users/siyangj/NewModels/model_0228_unet_early/models/1/patch_real_noaug1/inf_real/'\n",
    "cr_path = '/proj/NIRAL/users/siyangj/myData/min_normal/CerebellumMask/'\n",
    "\n",
    "ShowDiceDir(inf_path,data_path,1,True)"
   ]
  },
  {
   "cell_type": "code",
   "execution_count": 8,
   "metadata": {},
   "outputs": [
    {
     "name": "stdout",
     "output_type": "stream",
     "text": [
      "[0.99457762 0.84519755 0.85571531 0.84343307]\n",
      "[0.9962189  0.85812679 0.85443005 0.85363797]\n"
     ]
    }
   ],
   "source": [
    "data_path = '/proj/NIRAL/users/siyangj/myData/min_normal/seg_inf_1/'\n",
    "inf_path  = '/proj/NIRAL/users/siyangj/NewModels/model_0228_unet_early/models/2/patch_real1/'\n",
    "cr_path = '/proj/NIRAL/users/siyangj/myData/min_normal/CerebellumMask/'\n",
    "\n",
    "ShowDiceDir(inf_path,data_path,1,True,2)"
   ]
  },
  {
   "cell_type": "code",
   "execution_count": 7,
   "metadata": {},
   "outputs": [
    {
     "name": "stdout",
     "output_type": "stream",
     "text": [
      "[0.99323584 0.80517471 0.84568442 0.83480879]\n",
      "[0.99512021 0.8183951  0.84467006 0.84448828]\n"
     ]
    }
   ],
   "source": [
    "data_path = '/proj/NIRAL/users/siyangj/myData/min_normal/seg_inf_1/'\n",
    "inf_path  = '/proj/NIRAL/users/siyangj/NewModels/model_0228_unet_early/models/1/whole_pretrain1/'\n",
    "cr_path = '/proj/NIRAL/users/siyangj/myData/min_normal/CerebellumMask/'\n",
    "\n",
    "ShowDiceDir(inf_path,data_path,1,True)"
   ]
  },
  {
   "cell_type": "code",
   "execution_count": 8,
   "metadata": {},
   "outputs": [
    {
     "name": "stdout",
     "output_type": "stream",
     "text": [
      "[0.9923143  0.80548467 0.83887296 0.82324576]\n",
      "[0.99429736 0.81819518 0.83724616 0.83142247]\n"
     ]
    }
   ],
   "source": [
    "data_path = '/proj/NIRAL/users/siyangj/myData/min_normal/seg_inf_1/'\n",
    "inf_path  = '/proj/NIRAL/users/siyangj/NewModels/model_0227_unet/models/1/whole_pretrain1/'\n",
    "cr_path = '/proj/NIRAL/users/siyangj/myData/min_normal/CerebellumMask/'\n",
    "\n",
    "ShowDiceDir(inf_path,data_path,1,True)"
   ]
  },
  {
   "cell_type": "code",
   "execution_count": 7,
   "metadata": {},
   "outputs": [
    {
     "name": "stdout",
     "output_type": "stream",
     "text": [
      "[0.99416732 0.81037851 0.84462799 0.82775788]\n",
      "[0.99589083 0.82297521 0.8419843  0.83692241]\n"
     ]
    }
   ],
   "source": [
    "data_path = '/proj/NIRAL/users/siyangj/myData/min_normal/seg_inf_1/'\n",
    "inf_path  = '/proj/NIRAL/users/siyangj/NewModels/model_0227_unet/models/1/patch_pretrain1/'\n",
    "cr_path = '/proj/NIRAL/users/siyangj/myData/min_normal/CerebellumMask/'\n",
    "\n",
    "ShowDiceDir(inf_path,data_path,1,True)"
   ]
  },
  {
   "cell_type": "code",
   "execution_count": 8,
   "metadata": {},
   "outputs": [
    {
     "name": "stdout",
     "output_type": "stream",
     "text": [
      "[0.9940521  0.80306705 0.84025264 0.83015227]\n",
      "[0.99582584 0.81807939 0.84018547 0.84037788]\n"
     ]
    }
   ],
   "source": [
    "data_path = '/proj/NIRAL/users/siyangj/myData/min_normal/seg_inf_1/'\n",
    "inf_path  = '/proj/NIRAL/users/siyangj/NewModels/model_0228_unet_early/models/1/patch_pretrain1/'\n",
    "cr_path = '/proj/NIRAL/users/siyangj/myData/min_normal/CerebellumMask/'\n",
    "\n",
    "ShowDiceDir(inf_path,data_path,1,True)"
   ]
  },
  {
   "cell_type": "code",
   "execution_count": 9,
   "metadata": {},
   "outputs": [
    {
     "name": "stdout",
     "output_type": "stream",
     "text": [
      "[0.99974575 0.81720621 0.85636761 0.87678938]\n",
      "[0.99976414 0.83341774 0.85647505 0.8830192 ]\n"
     ]
    }
   ],
   "source": [
    "data_path = '/proj/NIRAL/users/siyangj/myData/min_normal/seg_inf_1/'\n",
    "inf_path  = '/proj/NIRAL/users/siyangj/NewModels/model_0218_patch/models/1/pretrain1/'\n",
    "cr_path = '/proj/NIRAL/users/siyangj/myData/min_normal/CerebellumMask/'\n",
    "\n",
    "ShowDiceDir(inf_path,data_path,8,True)"
   ]
  },
  {
   "cell_type": "code",
   "execution_count": 10,
   "metadata": {},
   "outputs": [
    {
     "name": "stdout",
     "output_type": "stream",
     "text": [
      "[0.99487252 0.79183102 0.8409444  0.84036079]\n",
      "[0.99638876 0.8045053  0.83588579 0.84807513]\n"
     ]
    }
   ],
   "source": [
    "ShowDiceDir(inf_path,data_path,1,True)"
   ]
  },
  {
   "cell_type": "code",
   "execution_count": 12,
   "metadata": {},
   "outputs": [
    {
     "name": "stdout",
     "output_type": "stream",
     "text": [
      "[0.99502344 0.82102482 0.83800684 0.83883334]\n",
      "[0.99654528 0.83226682 0.83301685 0.84798649]\n"
     ]
    }
   ],
   "source": [
    "data_path = '/proj/NIRAL/users/siyangj/myData/min_normal/seg_inf_1/'\n",
    "inf_path  = '/proj/NIRAL/users/siyangj/NewModels/model_0220_no_pretraining/patch_1_save/'\n",
    "cr_path = '/proj/NIRAL/users/siyangj/myData/min_normal/CerebellumMask/'\n",
    "\n",
    "ShowDiceDir(inf_path,data_path,1,True)"
   ]
  },
  {
   "cell_type": "code",
   "execution_count": 18,
   "metadata": {},
   "outputs": [
    {
     "name": "stdout",
     "output_type": "stream",
     "text": [
      "[0.99984727 0.88502894 0.88169458 0.86660041]\n",
      "[0.99986161 0.89612221 0.8827334  0.87244933]\n"
     ]
    }
   ],
   "source": [
    "data_path = '/proj/NIRAL/users/siyangj/myData/min_normal/seg_inf_1/'\n",
    "inf_path  = '/proj/NIRAL/users/siyangj/NewModels/model_0220_no_pretraining/patch_1_save/'\n",
    "cr_path = '/proj/NIRAL/users/siyangj/myData/min_normal/CerebellumMask/'\n",
    "\n",
    "ShowDiceDir(inf_path,data_path,8,True)"
   ]
  },
  {
   "cell_type": "code",
   "execution_count": 15,
   "metadata": {},
   "outputs": [
    {
     "name": "stdout",
     "output_type": "stream",
     "text": [
      "[0.99507896 0.78901059 0.81862302 0.82556169]\n",
      "[0.99657835 0.79965727 0.81221051 0.83509992]\n"
     ]
    }
   ],
   "source": [
    "data_path = '/proj/NIRAL/users/siyangj/myData/min_normal/seg_inf_1/'\n",
    "inf_path  = '/proj/NIRAL/users/siyangj/NewModels/model_0220_no_pretraining/whole_1_save/'\n",
    "cr_path = '/proj/NIRAL/users/siyangj/myData/min_normal/CerebellumMask/'\n",
    "\n",
    "ShowDiceDir(inf_path,data_path,1,True)"
   ]
  },
  {
   "cell_type": "code",
   "execution_count": 9,
   "metadata": {},
   "outputs": [
    {
     "name": "stdout",
     "output_type": "stream",
     "text": [
      "[0.99487252 0.79183102 0.8409444  0.84036079]\n",
      "[0.99638876 0.8045053  0.83588579 0.84807513]\n"
     ]
    }
   ],
   "source": [
    "data_dir = '/proj/NIRAL/users/siyangj/myData/min_normal/seg_inf_1/'\n",
    "inf_dir  = '/proj/NIRAL/users/siyangj/NewModels/model_0218_patch/models/1/pretrain1/'\n",
    "cr_dir = '/proj/NIRAL/users/siyangj/myData/min_normal/CerebellumMask/'\n",
    "\n",
    "ShowDiceDir(inf_dir,data_dir,1,True)"
   ]
  },
  {
   "cell_type": "code",
   "execution_count": 10,
   "metadata": {},
   "outputs": [
    {
     "name": "stdout",
     "output_type": "stream",
     "text": [
      "[0.99974575 0.81720621 0.85636761 0.87678938]\n",
      "[0.99976414 0.83341774 0.85647505 0.8830192 ]\n"
     ]
    }
   ],
   "source": [
    "ShowDiceDir(inf_dir,data_dir,8,True)"
   ]
  },
  {
   "cell_type": "code",
   "execution_count": 30,
   "metadata": {},
   "outputs": [],
   "source": [
    "data_path = '/proj/NIRAL/users/siyangj/myData/min_normal/seg_inf_1/8.nrrd'\n",
    "inf_path  = '/proj/NIRAL/users/siyangj/NewModels/model_0218_patch/models/1/real1/prediction-8.nrrd'\n",
    "cr_path = '/proj/NIRAL/users/siyangj/myData/min_normal/CerebellumMask/1.nrrd'"
   ]
  },
  {
   "cell_type": "code",
   "execution_count": 16,
   "metadata": {},
   "outputs": [
    {
     "name": "stdout",
     "output_type": "stream",
     "text": [
      "[0.9950454  0.82561722 0.83896731 0.84048327]\n",
      "[0.99654515 0.83547703 0.83292141 0.84999759]\n"
     ]
    }
   ],
   "source": [
    "data_dir = '/proj/NIRAL/users/siyangj/myData/min_normal/seg_inf_1/'\n",
    "inf_dir  = '/proj/NIRAL/users/siyangj/NewModels/model_0218_patch/models/1/real1/'\n",
    "cr_dir = '/proj/NIRAL/users/siyangj/myData/min_normal/CerebellumMask/'\n",
    "\n",
    "ShowDiceDir(inf_dir,data_dir,1,True)"
   ]
  },
  {
   "cell_type": "code",
   "execution_count": 33,
   "metadata": {},
   "outputs": [
    {
     "name": "stdout",
     "output_type": "stream",
     "text": [
      "[0.9950454  0.82561722 0.83896731 0.84048327]\n",
      "[0.99654515 0.83547703 0.83292141 0.84999759]\n"
     ]
    }
   ],
   "source": [
    "ShowDiceDir(inf_dir,data_dir,1,True)"
   ]
  },
  {
   "cell_type": "code",
   "execution_count": 17,
   "metadata": {},
   "outputs": [
    {
     "name": "stdout",
     "output_type": "stream",
     "text": [
      "[0.99981756 0.88386362 0.87342285 0.85878282]\n",
      "[0.99983253 0.89558643 0.87505924 0.8646236 ]\n"
     ]
    }
   ],
   "source": [
    "ShowDiceDir(inf_dir,data_dir,8,True)"
   ]
  },
  {
   "cell_type": "code",
   "execution_count": 19,
   "metadata": {},
   "outputs": [
    {
     "data": {
      "text/plain": [
       "array([0.99981756, 0.88386362, 0.87342285, 0.85878282])"
      ]
     },
     "execution_count": 19,
     "metadata": {},
     "output_type": "execute_result"
    }
   ],
   "source": [
    "## Data augmentation on 1\n",
    "## inf_path  = '/proj/NIRAL/users/siyangj/NewModels/model_0218_patch/models/1/real1/prediction-1.nrrd'\n",
    "## array([0.9950454 , 0.82561722, 0.83896731, 0.84048327])\n",
    "\n",
    "## Data augmentation on 8\n",
    "## inf_path  = '/proj/NIRAL/users/siyangj/NewModels/model_0218_patch/models/1/real1/prediction-8.nrrd'\n",
    "## array([0.99981756, 0.88386362, 0.87342285, 0.85878282])\n",
    "Dice(inf,seg)"
   ]
  },
  {
   "cell_type": "code",
   "execution_count": 10,
   "metadata": {},
   "outputs": [
    {
     "data": {
      "text/plain": [
       "array([0.99493095, 0.82080061, 0.82948852, 0.83784337])"
      ]
     },
     "execution_count": 10,
     "metadata": {},
     "output_type": "execute_result"
    }
   ],
   "source": [
    "## Data augmentation on 1\n",
    "##inf_path  = '/proj/NIRAL/users/siyangj/myData/min_normal/stage2/prediction-2-1.nrrd'\n",
    "## array([0.99493095, 0.82080061, 0.82948852, 0.83784337])\n",
    "\n",
    "## Data augmentation on 8\n",
    "##inf_path  = '/proj/NIRAL/users/siyangj/myData/min_normal/stage2/prediction-2-8.nrrd'\n",
    "##array([0.99984149, 0.88862115, 0.88321894, 0.86640754])\n",
    "Dice(inf,seg)"
   ]
  },
  {
   "cell_type": "code",
   "execution_count": 42,
   "metadata": {},
   "outputs": [
    {
     "data": {
      "text/plain": [
       "array([0.99985222, 0.87666222, 0.86911162, 0.86009736])"
      ]
     },
     "execution_count": 42,
     "metadata": {},
     "output_type": "execute_result"
    }
   ],
   "source": [
    "## Data augmentation on 1\n",
    "##inf_path  = '/proj/NIRAL/users/siyangj/NewModels/model_0217_data_aug/models/1/data_aug_2_validate_on_1/prediction-1.nrrd'\n",
    "## array([0.99507099, 0.81366027, 0.83624629, 0.84060861])\n",
    "\n",
    "## Data augmentation on 8\n",
    "##inf_path  = '/proj/NIRAL/users/siyangj/NewModels/model_0217_data_aug/models/1/data_aug_2_validate_on_1/prediction-8.nrrd'\n",
    "##array([0.99985222, 0.87666222, 0.86911162, 0.86009736])\n",
    "Dice(inf,seg)"
   ]
  },
  {
   "cell_type": "code",
   "execution_count": null,
   "metadata": {},
   "outputs": [],
   "source": []
  },
  {
   "cell_type": "code",
   "execution_count": 1,
   "metadata": {},
   "outputs": [],
   "source": [
    "data_path = '/proj/NIRAL/users/siyangj/myData/min_normal/seg_inf_1/8.nrrd'\n",
    "inf_path  = '/proj/NIRAL/users/siyangj/NewModels/model_0215_class_weight/models/1/provide_weights_real_validate_on_1/prediction-8.nrrd'"
   ]
  },
  {
   "cell_type": "code",
   "execution_count": 35,
   "metadata": {},
   "outputs": [],
   "source": [
    "seg = sitk.GetArrayFromImage(sitk.ReadImage(data_path))\n",
    "inf = sitk.GetArrayFromImage(sitk.ReadImage(inf_path))\n"
   ]
  },
  {
   "cell_type": "code",
   "execution_count": 36,
   "metadata": {},
   "outputs": [
    {
     "data": {
      "text/plain": [
       "array([0.99511906, 0.79120141, 0.82832828, 0.83931543])"
      ]
     },
     "execution_count": 36,
     "metadata": {},
     "output_type": "execute_result"
    }
   ],
   "source": [
    "## No data augmentation on 1\n",
    "## inf_path  = '/proj/NIRAL/users/siyangj/NewModels/model_0215_class_weight/models/1/provide_weights_real_validate_on_1/prediction-1.nrrd'\n",
    "## array([0.99511906, 0.79120141, 0.82832828, 0.83931543])\n",
    "Dice(inf,seg)"
   ]
  },
  {
   "cell_type": "code",
   "execution_count": null,
   "metadata": {},
   "outputs": [],
   "source": []
  }
 ],
 "metadata": {
  "kernelspec": {
   "display_name": "Python 3",
   "language": "python",
   "name": "python3"
  },
  "language_info": {
   "codemirror_mode": {
    "name": "ipython",
    "version": 2
   },
   "file_extension": ".py",
   "mimetype": "text/x-python",
   "name": "python",
   "nbconvert_exporter": "python",
   "pygments_lexer": "ipython2",
   "version": "2.7.12"
  }
 },
 "nbformat": 4,
 "nbformat_minor": 2
}
