{
 "cells": [
  {
   "cell_type": "code",
   "execution_count": 10,
   "metadata": {},
   "outputs": [],
   "source": [
    "eval_df.to_csv('/proj/NIRAL/users/siyangj/Bern_eval.csv',index=None)"
   ]
  },
  {
   "cell_type": "code",
   "execution_count": 10,
   "metadata": {},
   "outputs": [],
   "source": [
    "import tensorflow as tf\n",
    "import sys\n",
    "sys.path.append('/nas/longleaf/home/siyangj/NiftyNet/')\n",
    "import niftynet as nn\n",
    "import numpy as np\n",
    "import matplotlib.pyplot as plt\n",
    "%matplotlib inline\n",
    "import SimpleITK as sitk\n",
    "import os\n",
    "import re\n",
    "import nibabel as nib\n",
    "import sklearn as skl\n",
    "import pandas as pd\n",
    "\n",
    "pd.options.display.max_colwidth = 100\n",
    "pd.options.display.max_columns = 10000"
   ]
  },
  {
   "cell_type": "code",
   "execution_count": 11,
   "metadata": {},
   "outputs": [],
   "source": [
    "data_path = '/proj/NIRAL/users/siyangj/myData/BernNet/Test'\n",
    "inf_path  = '/proj/NIRAL/users/siyangj/myData/BernNet/Test'"
   ]
  },
  {
   "cell_type": "code",
   "execution_count": 12,
   "metadata": {},
   "outputs": [],
   "source": [
    "def Dice(pred,true,labels=[0,1,2,3]):\n",
    "    l = len(labels)\n",
    "    ret = np.zeros(l)\n",
    "    for i in range(l):\n",
    "        lab = labels[i]\n",
    "        p = pred==lab\n",
    "        t = true==lab\n",
    "        ret[i] = 2*np.logical_and(p,t).sum()/(p.sum()+t.sum())\n",
    "    return ret"
   ]
  },
  {
   "cell_type": "code",
   "execution_count": 14,
   "metadata": {},
   "outputs": [],
   "source": [
    "## id : T1,T2,label,inf1,inf2\n",
    "def GenerateDict():\n",
    "    im_range = [1,8]\n",
    "    \n",
    "    ret = {str(i):[\n",
    "        os.path.join(data_path,'subject-{:d}'.format(i),'subject-{:d}-T1.nii.gz'.format(i)),\n",
    "        os.path.join(data_path,'subject-{:d}'.format(i),'subject-{:d}-T2.nii.gz'.format(i)),\n",
    "        os.path.join(data_path,'subject-{:d}'.format(i),'subject-{:d}-label.nii.gz'.format(i)),\n",
    "        os.path.join(inf_path, 'subject-{:d}'.format(i),'subject-{:d}_prediction.nii.gz'.format(i)),\n",
    "        os.path.join(inf_path, 'subject-{:d}'.format(i),'subject-{:d}_prediction_2stage.nii.gz'.format(i))\n",
    "    ] for i in im_range}\n",
    "    \n",
    "    return ret"
   ]
  },
  {
   "cell_type": "code",
   "execution_count": 15,
   "metadata": {},
   "outputs": [],
   "source": [
    "data_dict = GenerateDict()"
   ]
  },
  {
   "cell_type": "code",
   "execution_count": 16,
   "metadata": {
    "scrolled": true
   },
   "outputs": [
    {
     "data": {
      "text/plain": [
       "{'1': ['/proj/NIRAL/users/siyangj/myData/BernNet/Test/subject-1/subject-1-T1.nii.gz',\n",
       "  '/proj/NIRAL/users/siyangj/myData/BernNet/Test/subject-1/subject-1-T2.nii.gz',\n",
       "  '/proj/NIRAL/users/siyangj/myData/BernNet/Test/subject-1/subject-1-label.nii.gz',\n",
       "  '/proj/NIRAL/users/siyangj/myData/BernNet/Test/subject-1/subject-1_prediction.nii.gz',\n",
       "  '/proj/NIRAL/users/siyangj/myData/BernNet/Test/subject-1/subject-1_prediction_2stage.nii.gz'],\n",
       " '8': ['/proj/NIRAL/users/siyangj/myData/BernNet/Test/subject-8/subject-8-T1.nii.gz',\n",
       "  '/proj/NIRAL/users/siyangj/myData/BernNet/Test/subject-8/subject-8-T2.nii.gz',\n",
       "  '/proj/NIRAL/users/siyangj/myData/BernNet/Test/subject-8/subject-8-label.nii.gz',\n",
       "  '/proj/NIRAL/users/siyangj/myData/BernNet/Test/subject-8/subject-8_prediction.nii.gz',\n",
       "  '/proj/NIRAL/users/siyangj/myData/BernNet/Test/subject-8/subject-8_prediction_2stage.nii.gz']}"
      ]
     },
     "execution_count": 16,
     "metadata": {},
     "output_type": "execute_result"
    }
   ],
   "source": [
    "data_dict"
   ]
  },
  {
   "cell_type": "code",
   "execution_count": 17,
   "metadata": {},
   "outputs": [],
   "source": [
    "def InfDict(data_dict):\n",
    "    eval_df = pd.DataFrame(columns=['subject_id',\n",
    "                                '1_11','1_12','1_21','1_22',\n",
    "                                '1_11+22','1_12+21',\n",
    "                                '1_confusion_matrix',\n",
    "                                '1_Dice0','1_Dice1','1_Dice2','1_Dice3',\n",
    "                                '2_11','2_12','2_21','2_22',\n",
    "                                '2_11+22','2_12+21',\n",
    "                                '2_confusion_matrix',\n",
    "                                '2_Dice0','2_Dice1','2_Dice2','2_Dice3'],dtype=object)\n",
    "    for im_id,data_list in data_dict.items():\n",
    "        \n",
    "        inf1_arr = sitk.GetArrayFromImage(sitk.ReadImage(data_list[3]))\n",
    "        inf2_arr = sitk.GetArrayFromImage(sitk.ReadImage(data_list[4]))\n",
    "        \n",
    "        true_arr = sitk.GetArrayFromImage(sitk.ReadImage(data_list[2]))\n",
    "        \n",
    "        Dice_1 = Dice(inf1_arr,true_arr)\n",
    "        Dice_2 = Dice(inf2_arr,true_arr)\n",
    "        \n",
    "        c_mat1 = skl.metrics.confusion_matrix(true_arr.flatten(),inf1_arr.flatten())\n",
    "        p_mat1 = c_mat1.T / c_mat1.astype(np.float).sum(axis=1)\n",
    "        p_mat1 = p_mat1.T\n",
    "        \n",
    "        c_mat2 = skl.metrics.confusion_matrix(true_arr.flatten(),inf2_arr.flatten())\n",
    "        p_mat2 = c_mat2.T / c_mat2.astype(np.float).sum(axis=1)\n",
    "        p_mat2 = p_mat2.T\n",
    "        \n",
    "        l = len(eval_df.index)\n",
    "        eval_df.loc[l,'subject_id']=im_id\n",
    "        eval_df.loc[l,'1_11']=p_mat1[1,1]\n",
    "        eval_df.loc[l,'1_12']=p_mat1[1,2]\n",
    "        eval_df.loc[l,'1_21']=p_mat1[2,1]\n",
    "        eval_df.loc[l,'1_22']=p_mat1[2,2]      \n",
    "        eval_df.loc[l,'1_confusion_matrix'] = p_mat1\n",
    "        \n",
    "        eval_df.loc[l,'1_Dice0'] = Dice_1[0]\n",
    "        eval_df.loc[l,'1_Dice1'] = Dice_1[1]\n",
    "        eval_df.loc[l,'1_Dice2'] = Dice_1[2]\n",
    "        eval_df.loc[l,'1_Dice3'] = Dice_1[3]\n",
    "              \n",
    "        eval_df.loc[l,'2_11']=p_mat2[1,1]\n",
    "        eval_df.loc[l,'2_12']=p_mat2[1,2]\n",
    "        eval_df.loc[l,'2_21']=p_mat2[2,1]\n",
    "        eval_df.loc[l,'2_22']=p_mat2[2,2]\n",
    "        eval_df.loc[l,'2_confusion_matrix'] = p_mat2\n",
    "        \n",
    "        eval_df.loc[l,'2_Dice0'] = Dice_2[0]\n",
    "        eval_df.loc[l,'2_Dice1'] = Dice_2[1]\n",
    "        eval_df.loc[l,'2_Dice2'] = Dice_2[2]\n",
    "        eval_df.loc[l,'2_Dice3'] = Dice_2[3]\n",
    "        \n",
    "    return eval_df"
   ]
  },
  {
   "cell_type": "code",
   "execution_count": 18,
   "metadata": {},
   "outputs": [],
   "source": [
    "eval_df = InfDict(data_dict)"
   ]
  },
  {
   "cell_type": "code",
   "execution_count": 19,
   "metadata": {},
   "outputs": [
    {
     "data": {
      "text/html": [
       "<div>\n",
       "<style scoped>\n",
       "    .dataframe tbody tr th:only-of-type {\n",
       "        vertical-align: middle;\n",
       "    }\n",
       "\n",
       "    .dataframe tbody tr th {\n",
       "        vertical-align: top;\n",
       "    }\n",
       "\n",
       "    .dataframe thead th {\n",
       "        text-align: right;\n",
       "    }\n",
       "</style>\n",
       "<table border=\"1\" class=\"dataframe\">\n",
       "  <thead>\n",
       "    <tr style=\"text-align: right;\">\n",
       "      <th></th>\n",
       "      <th>subject_id</th>\n",
       "      <th>1_11</th>\n",
       "      <th>1_12</th>\n",
       "      <th>1_21</th>\n",
       "      <th>1_22</th>\n",
       "      <th>1_11+22</th>\n",
       "      <th>1_12+21</th>\n",
       "      <th>1_confusion_matrix</th>\n",
       "      <th>1_Dice0</th>\n",
       "      <th>1_Dice1</th>\n",
       "      <th>1_Dice2</th>\n",
       "      <th>1_Dice3</th>\n",
       "      <th>2_11</th>\n",
       "      <th>2_12</th>\n",
       "      <th>2_21</th>\n",
       "      <th>2_22</th>\n",
       "      <th>2_11+22</th>\n",
       "      <th>2_12+21</th>\n",
       "      <th>2_confusion_matrix</th>\n",
       "      <th>2_Dice0</th>\n",
       "      <th>2_Dice1</th>\n",
       "      <th>2_Dice2</th>\n",
       "      <th>2_Dice3</th>\n",
       "    </tr>\n",
       "  </thead>\n",
       "  <tbody>\n",
       "    <tr>\n",
       "      <th>0</th>\n",
       "      <td>1</td>\n",
       "      <td>0.80924</td>\n",
       "      <td>0.182627</td>\n",
       "      <td>0.10623</td>\n",
       "      <td>0.85436</td>\n",
       "      <td>NaN</td>\n",
       "      <td>NaN</td>\n",
       "      <td>[[0.9982253842811089, 0.0, 0.0009054986811654253, 0.0008691170377257431], [0.00048719723183391, ...</td>\n",
       "      <td>0.978905</td>\n",
       "      <td>0.817738</td>\n",
       "      <td>0.838279</td>\n",
       "      <td>0.747487</td>\n",
       "      <td>0.789326</td>\n",
       "      <td>0.201849</td>\n",
       "      <td>0.0869289</td>\n",
       "      <td>0.863431</td>\n",
       "      <td>NaN</td>\n",
       "      <td>NaN</td>\n",
       "      <td>[[0.9982759143414417, 3.436044102636659e-05, 0.0003496680175036129, 0.0013400572000282968], [0.0...</td>\n",
       "      <td>0.978174</td>\n",
       "      <td>0.816113</td>\n",
       "      <td>0.840842</td>\n",
       "      <td>0.749501</td>\n",
       "    </tr>\n",
       "    <tr>\n",
       "      <th>1</th>\n",
       "      <td>8</td>\n",
       "      <td>0.870471</td>\n",
       "      <td>0.127562</td>\n",
       "      <td>0.0619272</td>\n",
       "      <td>0.917941</td>\n",
       "      <td>NaN</td>\n",
       "      <td>NaN</td>\n",
       "      <td>[[0.9896514303344175, 0.00014735429959892, 0.006801321890862652, 0.003399893475120915], [2.21014...</td>\n",
       "      <td>0.992217</td>\n",
       "      <td>0.885906</td>\n",
       "      <td>0.886168</td>\n",
       "      <td>0.805581</td>\n",
       "      <td>0.8435</td>\n",
       "      <td>0.154621</td>\n",
       "      <td>0.0439909</td>\n",
       "      <td>0.934906</td>\n",
       "      <td>NaN</td>\n",
       "      <td>NaN</td>\n",
       "      <td>[[0.9934058950929483, 0.00010130608097425751, 0.004006195020345638, 0.002486603805731775], [7.36...</td>\n",
       "      <td>0.99414</td>\n",
       "      <td>0.882703</td>\n",
       "      <td>0.892377</td>\n",
       "      <td>0.812911</td>\n",
       "    </tr>\n",
       "  </tbody>\n",
       "</table>\n",
       "</div>"
      ],
      "text/plain": [
       "  subject_id      1_11      1_12       1_21      1_22 1_11+22 1_12+21  \\\n",
       "0          1   0.80924  0.182627    0.10623   0.85436     NaN     NaN   \n",
       "1          8  0.870471  0.127562  0.0619272  0.917941     NaN     NaN   \n",
       "\n",
       "                                                                                    1_confusion_matrix  \\\n",
       "0  [[0.9982253842811089, 0.0, 0.0009054986811654253, 0.0008691170377257431], [0.00048719723183391, ...   \n",
       "1  [[0.9896514303344175, 0.00014735429959892, 0.006801321890862652, 0.003399893475120915], [2.21014...   \n",
       "\n",
       "    1_Dice0   1_Dice1   1_Dice2   1_Dice3      2_11      2_12       2_21  \\\n",
       "0  0.978905  0.817738  0.838279  0.747487  0.789326  0.201849  0.0869289   \n",
       "1  0.992217  0.885906  0.886168  0.805581    0.8435  0.154621  0.0439909   \n",
       "\n",
       "       2_22 2_11+22 2_12+21  \\\n",
       "0  0.863431     NaN     NaN   \n",
       "1  0.934906     NaN     NaN   \n",
       "\n",
       "                                                                                    2_confusion_matrix  \\\n",
       "0  [[0.9982759143414417, 3.436044102636659e-05, 0.0003496680175036129, 0.0013400572000282968], [0.0...   \n",
       "1  [[0.9934058950929483, 0.00010130608097425751, 0.004006195020345638, 0.002486603805731775], [7.36...   \n",
       "\n",
       "    2_Dice0   2_Dice1   2_Dice2   2_Dice3  \n",
       "0  0.978174  0.816113  0.840842  0.749501  \n",
       "1   0.99414  0.882703  0.892377  0.812911  "
      ]
     },
     "execution_count": 19,
     "metadata": {},
     "output_type": "execute_result"
    }
   ],
   "source": [
    "eval_df"
   ]
  },
  {
   "cell_type": "code",
   "execution_count": 21,
   "metadata": {},
   "outputs": [
    {
     "data": {
      "text/plain": [
       "array([[9.98275914e-01, 3.43604410e-05, 3.49668018e-04, 1.34005720e-03],\n",
       "       [3.21107266e-04, 7.89325952e-01, 2.01849135e-01, 8.50380623e-03],\n",
       "       [1.63127331e-02, 8.69288799e-02, 8.63431256e-01, 3.33271308e-02],\n",
       "       [1.71181743e-01, 3.79853117e-02, 1.26014122e-01, 6.64818824e-01]])"
      ]
     },
     "execution_count": 21,
     "metadata": {},
     "output_type": "execute_result"
    }
   ],
   "source": [
    "eval_df.loc[0,'2_confusion_matrix']"
   ]
  },
  {
   "cell_type": "code",
   "execution_count": null,
   "metadata": {},
   "outputs": [],
   "source": []
  }
 ],
 "metadata": {
  "kernelspec": {
   "display_name": "Python 2",
   "language": "python",
   "name": "python2"
  },
  "language_info": {
   "codemirror_mode": {
    "name": "ipython",
    "version": 3
   },
   "file_extension": ".py",
   "mimetype": "text/x-python",
   "name": "python",
   "nbconvert_exporter": "python",
   "pygments_lexer": "ipython3",
   "version": "3.5.2"
  }
 },
 "nbformat": 4,
 "nbformat_minor": 2
}
