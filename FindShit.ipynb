{
 "cells": [
  {
   "cell_type": "code",
   "execution_count": 1,
   "metadata": {},
   "outputs": [
    {
     "name": "stdout",
     "output_type": "stream",
     "text": [
      "INFO:tensorflow:TensorFlow version 1.9.0\n",
      "CRITICAL:tensorflow:Optional Python module cv2 not found, please install cv2 and retry if the application fails.\n",
      "INFO:tensorflow:Available Image Loaders:\n",
      "['nibabel', 'skimage', 'pillow', 'simpleitk', 'dummy'].\n"
     ]
    }
   ],
   "source": [
    "import tensorflow as tf\n",
    "import sys\n",
    "import os\n",
    "import re\n",
    "sys.path.append('/nas/longleaf/home/siyangj/NiftyNet/')\n",
    "import niftynet as nn\n",
    "import numpy as np\n",
    "import matplotlib.pyplot as plt\n",
    "%matplotlib inline\n",
    "import SimpleITK as sitk\n"
   ]
  },
  {
   "cell_type": "code",
   "execution_count": 8,
   "metadata": {},
   "outputs": [
    {
     "name": "stdout",
     "output_type": "stream",
     "text": [
      "/nas/longleaf/home/siyangj/NN_logs/inf/NN_inf-32868218.log\n",
      "/nas/longleaf/home/siyangj/NN_logs/inf/NN_inf-33640448.log\n",
      "/nas/longleaf/home/siyangj/NN_logs/inf/NN_inf-33752549.log\n",
      "/nas/longleaf/home/siyangj/NN_logs/inf/NN_inf-33752722.log\n",
      "/nas/longleaf/home/siyangj/NN_logs/inf/NN_inf-33771800.log\n",
      "/nas/longleaf/home/siyangj/NN_logs/inf/NN_inf-33989028.log\n"
     ]
    }
   ],
   "source": [
    "NN_inf_folder = '/nas/longleaf/home/siyangj/NN_logs/inf/'\n",
    "NN_inf_files = os.listdir(NN_inf_folder)\n",
    "\n",
    "target_re = re.compile(r'-- path: \\/nas\\/longleaf\\/home\\/siyangj\\/myNIRAL\\/10112055inf_try\\.ini')\n",
    "\n",
    "for inf_f in NN_inf_files:\n",
    "    with open(os.path.join(NN_inf_folder,inf_f),'rb+') as f:\n",
    "        s = f.read().decode('utf-8')\n",
    "        match = target_re.search(s)\n",
    "        if match is not None:\n",
    "            print(os.path.join(NN_inf_folder,inf_f))"
   ]
  },
  {
   "cell_type": "code",
   "execution_count": null,
   "metadata": {},
   "outputs": [],
   "source": []
  }
 ],
 "metadata": {
  "kernelspec": {
   "display_name": "Python 3",
   "language": "python",
   "name": "python3"
  },
  "language_info": {
   "codemirror_mode": {
    "name": "ipython",
    "version": 3
   },
   "file_extension": ".py",
   "mimetype": "text/x-python",
   "name": "python",
   "nbconvert_exporter": "python",
   "pygments_lexer": "ipython3",
   "version": "3.5.2"
  }
 },
 "nbformat": 4,
 "nbformat_minor": 2
}
