{
 "cells": [
  {
   "cell_type": "code",
   "execution_count": 7,
   "metadata": {},
   "outputs": [],
   "source": [
    "import tensorflow as tf\n",
    "import sys\n",
    "import os\n",
    "import re\n",
    "sys.path.append('/nas/longleaf/home/siyangj/NiftyNet/')\n",
    "##import niftynet as nn\n",
    "import numpy as np\n",
    "import matplotlib.pyplot as plt\n",
    "%matplotlib inline\n",
    "import SimpleITK as sitk\n"
   ]
  },
  {
   "cell_type": "code",
   "execution_count": 8,
   "metadata": {},
   "outputs": [
    {
     "name": "stdout",
     "output_type": "stream",
     "text": [
      "/nas/longleaf/home/siyangj/NN_logs/inf/NN_inf-32868218.log\n",
      "/nas/longleaf/home/siyangj/NN_logs/inf/NN_inf-33640448.log\n",
      "/nas/longleaf/home/siyangj/NN_logs/inf/NN_inf-33752549.log\n",
      "/nas/longleaf/home/siyangj/NN_logs/inf/NN_inf-33752722.log\n",
      "/nas/longleaf/home/siyangj/NN_logs/inf/NN_inf-33771800.log\n",
      "/nas/longleaf/home/siyangj/NN_logs/inf/NN_inf-33989028.log\n"
     ]
    }
   ],
   "source": [
    "NN_inf_folder = '/nas/longleaf/home/siyangj/NN_logs/inf/'\n",
    "NN_inf_files = os.listdir(NN_inf_folder)\n",
    "\n",
    "target_re = re.compile(r'-- path: \\/nas\\/longleaf\\/home\\/siyangj\\/myNIRAL\\/10112055inf_try\\.ini')\n",
    "\n",
    "for inf_f in NN_inf_files:\n",
    "    with open(os.path.join(NN_inf_folder,inf_f),'rb+') as f:\n",
    "        s = f.read().decode('utf-8')\n",
    "        match = target_re.search(s)\n",
    "        if match is not None:\n",
    "            print(os.path.join(NN_inf_folder,inf_f))"
   ]
  },
  {
   "cell_type": "code",
   "execution_count": 18,
   "metadata": {},
   "outputs": [],
   "source": [
    "f = \"/proj/NIRAL/users/siyangj/myPretrainData/BernNet/train/subject-T1041-1-1/subject-T1041-1-1-label.nii.gz\""
   ]
  },
  {
   "cell_type": "code",
   "execution_count": 19,
   "metadata": {},
   "outputs": [],
   "source": [
    "arr = sitk.GetArrayFromImage(sitk.ReadImage(f))"
   ]
  },
  {
   "cell_type": "code",
   "execution_count": 20,
   "metadata": {},
   "outputs": [
    {
     "data": {
      "text/plain": [
       "(96, 112, 96)"
      ]
     },
     "execution_count": 20,
     "metadata": {},
     "output_type": "execute_result"
    }
   ],
   "source": [
    "arr.shape"
   ]
  },
  {
   "cell_type": "code",
   "execution_count": 21,
   "metadata": {},
   "outputs": [
    {
     "ename": "NameError",
     "evalue": "name 'xrange' is not defined",
     "output_type": "error",
     "traceback": [
      "\u001b[0;31m---------------------------------------------------------------------------\u001b[0m",
      "\u001b[0;31mNameError\u001b[0m                                 Traceback (most recent call last)",
      "\u001b[0;32m<ipython-input-21-0c4db6465dea>\u001b[0m in \u001b[0;36m<module>\u001b[0;34m\u001b[0m\n\u001b[0;32m----> 1\u001b[0;31m \u001b[0;32mfor\u001b[0m \u001b[0mr\u001b[0m \u001b[0;32min\u001b[0m \u001b[0mxrange\u001b[0m\u001b[0;34m(\u001b[0m\u001b[0;36m1\u001b[0m\u001b[0;34m)\u001b[0m\u001b[0;34m:\u001b[0m\u001b[0;34m\u001b[0m\u001b[0;34m\u001b[0m\u001b[0m\n\u001b[0m\u001b[1;32m      2\u001b[0m     \u001b[0mprint\u001b[0m\u001b[0;34m(\u001b[0m\u001b[0mr\u001b[0m\u001b[0;34m)\u001b[0m\u001b[0;34m\u001b[0m\u001b[0;34m\u001b[0m\u001b[0m\n",
      "\u001b[0;31mNameError\u001b[0m: name 'xrange' is not defined"
     ]
    }
   ],
   "source": [
    "for r in xrange(1):\n",
    "    print(r)"
   ]
  },
  {
   "cell_type": "code",
   "execution_count": null,
   "metadata": {},
   "outputs": [],
   "source": []
  }
 ],
 "metadata": {
  "kernelspec": {
   "display_name": "Python 3",
   "language": "python",
   "name": "python3"
  },
  "language_info": {
   "codemirror_mode": {
    "name": "ipython",
    "version": 3
   },
   "file_extension": ".py",
   "mimetype": "text/x-python",
   "name": "python",
   "nbconvert_exporter": "python",
   "pygments_lexer": "ipython3",
   "version": "3.6.7"
  }
 },
 "nbformat": 4,
 "nbformat_minor": 2
}
