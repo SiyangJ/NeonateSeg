{
 "cells": [
  {
   "cell_type": "code",
   "execution_count": 1,
   "metadata": {},
   "outputs": [],
   "source": [
    "import sys\n",
    "sys.argv = ['/usr/bin/python',]"
   ]
  },
  {
   "cell_type": "code",
   "execution_count": 2,
   "metadata": {},
   "outputs": [],
   "source": [
    "import tensorflow as tf\n",
    "from model import create_model_infant_seg, create_optimizers\n",
    "from train import train_model\n",
    "import random\n",
    "import numpy as np\n",
    "import os\n",
    "from generator import get_training_and_testing_generators\n",
    "from copy import deepcopy\n",
    "from config import FLAGS\n",
    "\n",
    "\n",
    "def prepare_dirs(delete_train_dir=False):\n",
    "\t# Create checkpoint dir (do not delete anything)\n",
    "\tif not tf.gfile.Exists(FLAGS.checkpoint_dir):\n",
    "\t\ttf.gfile.MakeDirs(FLAGS.checkpoint_dir)\n",
    "\t\n",
    "\t# Cleanup train dir\n",
    "\tif delete_train_dir:\n",
    "\t\tif tf.gfile.Exists(FLAGS.checkpoint_dir):\n",
    "\t\t\ttf.gfile.DeleteRecursively(FLAGS.checkpoint_dir)\n",
    "\t\ttf.gfile.MakeDirs(FLAGS.checkpoint_dir)\n",
    "\n",
    "def setup_tensorflow():\n",
    "\t\n",
    "\tconfig = tf.ConfigProto(log_device_placement=FLAGS.log_device_placement)\n",
    "\tsess = tf.Session(config=config)\n",
    "\n",
    "\t# Initialize rng with a deterministic seed\n",
    "\twith sess.graph.as_default():\n",
    "\t\ttf.set_random_seed(FLAGS.random_seed)\n",
    "\t\t\n",
    "\trandom.seed(FLAGS.random_seed)\n",
    "\tnp.random.seed(FLAGS.random_seed)\n",
    "\n",
    "\t## Editted by Siyang Jing on Nov 4\n",
    "\t## Try to add validation summary writer\n",
    "\ttf.gfile.MkDir('%s/training_log' % (FLAGS.checkpoint_dir,))\n",
    "\ttf.gfile.MkDir('%s/validation_log' % (FLAGS.checkpoint_dir,))\n",
    "\tsummary_writer = tf.summary.FileWriter('%s/training_log' % (FLAGS.checkpoint_dir,), sess.graph_def)\n",
    "\tval_sum_writer = tf.summary.FileWriter('%s/validation_log' % (FLAGS.checkpoint_dir,), sess.graph_def)\n",
    "\n",
    "\treturn sess, summary_writer, val_sum_writer\n",
    "\n",
    "class TrainData(object):\n",
    "\tdef __init__(self, dictionary):\n",
    "\t\tself.__dict__.update(dictionary)\n",
    "\n",
    "\n",
    "def train():\n",
    "\tprepare_dirs(delete_train_dir=True)\n",
    "\tsess, summary_writer, val_sum_writer = setup_tensorflow()\n",
    "\n",
    "\n",
    "\t(tf_t1_input, tf_t2_input, tf_label, \n",
    "            aux1_pred, aux2_pred, main_pred,\n",
    "            aux1_loss, aux2_loss, main_loss, \n",
    "            final_loss, gene_vars, main_possibility) = create_model_infant_seg(train_phase=True)\n",
    "\n",
    "\ttrain_minimize, learning_rate, global_step = create_optimizers(final_loss)\n",
    "\n",
    "\ttrain_data = TrainData(locals())\n",
    "\ttrain_model(train_data)\n",
    "\t\n",
    "\n",
    "\t\n",
    "\n",
    "def main(argv=None):\n",
    "\ttrain()"
   ]
  },
  {
   "cell_type": "code",
   "execution_count": 3,
   "metadata": {},
   "outputs": [],
   "source": [
    "(tf_t1_input, tf_t2_input, tf_label, \n",
    "            aux1_pred, aux2_pred, main_pred,\n",
    "            aux1_loss, aux2_loss, main_loss, \n",
    "            final_loss, gene_vars, main_possibility) = create_model_infant_seg(train_phase=True)"
   ]
  },
  {
   "cell_type": "code",
   "execution_count": 71,
   "metadata": {},
   "outputs": [
    {
     "name": "stdout",
     "output_type": "stream",
     "text": [
      "(48944692, 1148340, 0.023461992569081852)\n"
     ]
    }
   ],
   "source": [
    "trainable_var_list = tf.trainable_variables()\n",
    "\n",
    "TRAIN_NAME_LIST = ['deconv3','_conv1','_conv2','gamma','beta','main','aux']\n",
    "to_train_list = []\n",
    "for v in trainable_var_list:\n",
    "    for n in TRAIN_NAME_LIST:\n",
    "        if n in v.name:\n",
    "            to_train_list.append(v)\n",
    "            break\n",
    "num1 = 0\n",
    "num2 = 0\n",
    "for v in trainable_var_list:\n",
    "    num1 += np.prod(v.shape.as_list())\n",
    "for v in to_train_list:\n",
    "    num2 += np.prod(v.shape.as_list())\n",
    "print(num1,num2,float(num2)/num1)"
   ]
  },
  {
   "cell_type": "code",
   "execution_count": null,
   "metadata": {},
   "outputs": [],
   "source": []
  }
 ],
 "metadata": {
  "kernelspec": {
   "display_name": "Python 2",
   "language": "python",
   "name": "python2"
  },
  "language_info": {
   "codemirror_mode": {
    "name": "ipython",
    "version": 2
   },
   "file_extension": ".py",
   "mimetype": "text/x-python",
   "name": "python",
   "nbconvert_exporter": "python",
   "pygments_lexer": "ipython2",
   "version": "2.7.12"
  }
 },
 "nbformat": 4,
 "nbformat_minor": 2
}
