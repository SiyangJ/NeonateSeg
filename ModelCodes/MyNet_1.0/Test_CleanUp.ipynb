{
 "cells": [
  {
   "cell_type": "code",
   "execution_count": 162,
   "metadata": {},
   "outputs": [],
   "source": [
    "import numpy as np\n",
    "import os\n",
    "import sys\n",
    "from scipy import ndimage\n",
    "import matplotlib.pyplot as plt\n",
    "%matplotlib inline\n",
    "import SimpleITK as sitk\n",
    "from scipy.ndimage.measurements import label as CClabel\n",
    "from copy import deepcopy"
   ]
  },
  {
   "cell_type": "code",
   "execution_count": 8,
   "metadata": {},
   "outputs": [],
   "source": [
    "def load_sitk(sitk_path):\n",
    "    return np.swapaxes(sitk.GetArrayFromImage(sitk.ReadImage(str(sitk_path))),0,2)\n",
    "def save_sitk(img_data,save_path):\n",
    "    sitk.WriteImage(sitk.GetImageFromArray(np.swapaxes(img_data,0,2)),str(save_path))"
   ]
  },
  {
   "cell_type": "code",
   "execution_count": 14,
   "metadata": {},
   "outputs": [],
   "source": [
    "class MorphologyOps(object):\n",
    "    \"\"\"\n",
    "    Class that performs the morphological operations needed to get notably\n",
    "    connected component. To be used in the evaluation\n",
    "    \"\"\"\n",
    "\n",
    "    def __init__(self, binary_img, neigh):\n",
    "        assert len(binary_img.shape) == 3, 'currently supports 3d inputs only'\n",
    "        self.binary_map = np.asarray(binary_img, dtype=np.int8)\n",
    "        self.neigh = neigh\n",
    "\n",
    "    def border_map(self):\n",
    "        \"\"\"\n",
    "        Creates the border for a 3D image\n",
    "        :return:\n",
    "        \"\"\"\n",
    "        west = ndimage.shift(self.binary_map, [-1, 0, 0], order=0)\n",
    "        east = ndimage.shift(self.binary_map, [1, 0, 0], order=0)\n",
    "        north = ndimage.shift(self.binary_map, [0, 1, 0], order=0)\n",
    "        south = ndimage.shift(self.binary_map, [0, -1, 0], order=0)\n",
    "        top = ndimage.shift(self.binary_map, [0, 0, 1], order=0)\n",
    "        bottom = ndimage.shift(self.binary_map, [0, 0, -1], order=0)\n",
    "        cumulative = west + east + north + south + top + bottom\n",
    "        border = ((cumulative < 6) * self.binary_map) == 1\n",
    "        return border\n",
    "\n",
    "\n",
    "    def foreground_component(self):\n",
    "        return ndimage.label(self.binary_map)"
   ]
  },
  {
   "cell_type": "code",
   "execution_count": 15,
   "metadata": {},
   "outputs": [],
   "source": [
    "def borders(seg, ref, neigh=8):\n",
    "    \"\"\"\n",
    "    This function determines the points that lie on the border of the\n",
    "    inferred and reference segmentations\n",
    "    :param seg: numpy array with binary mask from inferred segmentation\n",
    "    :param ref: numpy array with binary mask from reference segmentation\n",
    "    :param neigh: connectivity 4 or 8\n",
    "    :return: numpy arrays of reference and inferred segmentation borders\n",
    "    \"\"\"\n",
    "    border_ref = MorphologyOps(ref, neigh).border_map()\n",
    "    border_seg = MorphologyOps(seg, neigh).border_map()\n",
    "    return border_ref, border_seg"
   ]
  },
  {
   "cell_type": "code",
   "execution_count": 16,
   "metadata": {},
   "outputs": [],
   "source": [
    "def border_distance(seg, ref, neigh=8):\n",
    "    \"\"\"\n",
    "    This functions determines the distance at each seg border point to the\n",
    "    nearest ref border point and vice versa\n",
    "    :param seg: numpy array with binary mask from inferred segmentation\n",
    "    :param ref: numpy array with binary mask from reference segmentation\n",
    "    :param neigh: connectivity 4 or 8\n",
    "    :return: numpy arrays for distance_from_ref_border, distance_from\n",
    "    seg_border\n",
    "    \"\"\"\n",
    "    border_ref, border_seg = borders(seg, ref, neigh)\n",
    "    distance_ref = ndimage.distance_transform_edt(1 - border_ref)\n",
    "    distance_seg = ndimage.distance_transform_edt(1 - border_seg)\n",
    "    distance_border_seg = border_ref * distance_seg\n",
    "    distance_border_ref = border_seg * distance_ref\n",
    "    return distance_border_ref, distance_border_seg"
   ]
  },
  {
   "cell_type": "code",
   "execution_count": 17,
   "metadata": {},
   "outputs": [],
   "source": [
    "def hausdorff_distance(seg, ref):\n",
    "    ref_border_dist, seg_border_dist = border_distance(seg, ref, 8)\n",
    "    return np.max([np.max(ref_border_dist), np.max(seg_border_dist)])"
   ]
  },
  {
   "cell_type": "code",
   "execution_count": 18,
   "metadata": {},
   "outputs": [],
   "source": [
    "def hausdorff95_distance(seg, ref):\n",
    "    ref_border_dist, seg_border_dist = border_distance(seg, ref, 8)\n",
    "    border_ref, border_seg = borders(seg, ref, 8)\n",
    "    seg_values = ref_border_dist[border_seg > 0]\n",
    "    ref_values = seg_border_dist[border_ref > 0]\n",
    "    if seg_values.size == 0 or ref_values.size == 0:\n",
    "        return np.nan\n",
    "    return np.max([np.percentile(seg_values, 95),\n",
    "                   np.percentile(ref_values, 95)])"
   ]
  },
  {
   "cell_type": "code",
   "execution_count": 19,
   "metadata": {},
   "outputs": [],
   "source": [
    "def average_distance(seg, ref):\n",
    "    ref_border_dist, seg_border_dist = border_distance(seg, ref, 8)\n",
    "    border_ref, border_seg = borders(seg, ref, 8)\n",
    "    return (np.sum(ref_border_dist) + np.sum(\n",
    "        seg_border_dist)) / (np.sum(border_ref + border_seg))"
   ]
  },
  {
   "cell_type": "code",
   "execution_count": 20,
   "metadata": {},
   "outputs": [],
   "source": [
    "def metric_all_labels(seg,ref,metric,labels=[0,1,2,3]):\n",
    "    ret = []\n",
    "    for l in labels:\n",
    "        _s = seg==l\n",
    "        _r = ref==l\n",
    "        ret += [metric(_s,_r),]\n",
    "    ret = np.asarray(ret,dtype=float)\n",
    "    return ret"
   ]
  },
  {
   "cell_type": "code",
   "execution_count": 21,
   "metadata": {},
   "outputs": [],
   "source": [
    "def Dice(pred,true,labels=[0,1,2,3]):\n",
    "    l = len(labels)\n",
    "    ret = np.zeros(l)\n",
    "    for i in range(l):\n",
    "        lab = labels[i]\n",
    "        p = pred==lab\n",
    "        t = true==lab\n",
    "        ret[i] = 2*float(np.logical_and(p,t).sum())/(p.sum()+t.sum())\n",
    "    return ret"
   ]
  },
  {
   "cell_type": "code",
   "execution_count": 22,
   "metadata": {},
   "outputs": [],
   "source": [
    "def Jaccard(pred,true,labels=[0,1,2,3]):\n",
    "    l = len(labels)\n",
    "    ret = np.zeros(l)\n",
    "    for i in range(l):\n",
    "        lab = labels[i]\n",
    "        p = pred==lab\n",
    "        t = true==lab\n",
    "        ret[i] = float(np.logical_and(p,t).sum())/float(np.logical_or(p,t).sum())\n",
    "    return ret"
   ]
  },
  {
   "cell_type": "code",
   "execution_count": 23,
   "metadata": {},
   "outputs": [],
   "source": [
    "data_dir = '/proj/NIRAL/users/siyangj/NewModels/model_0405_report/models/1/real_ensemble/'"
   ]
  },
  {
   "cell_type": "code",
   "execution_count": 24,
   "metadata": {},
   "outputs": [],
   "source": [
    "true_path = '/proj/NIRAL/users/siyangj/myData/min_normal/seg_inf_1/1.nrrd'"
   ]
  },
  {
   "cell_type": "code",
   "execution_count": 25,
   "metadata": {},
   "outputs": [],
   "source": [
    "true_im = load_sitk(true_path)"
   ]
  },
  {
   "cell_type": "code",
   "execution_count": 27,
   "metadata": {},
   "outputs": [
    {
     "name": "stdout",
     "output_type": "stream",
     "text": [
      "[0.99460224 0.84364008 0.85687191 0.84297605]\n",
      "[0.99468602 0.8447206  0.8585825  0.84390267]\n",
      "[0.99467369 0.84357003 0.85735881 0.84576104]\n"
     ]
    }
   ],
   "source": [
    "im_size = (96,112,96)\n",
    "output_image = np.zeros(im_size + (4,))\n",
    "for b in ['660','best','700']:\n",
    "    _path = os.path.join(data_dir,'batch_'+b,'prediction-1.nrrd')\n",
    "    _im = load_sitk(_path)\n",
    "    print(Dice(_im,true_im))\n",
    "    for _l in range(4):\n",
    "        output_image[:,:,:,_l] += (_im==_l).astype(int)\n",
    "output_image = np.argmax(output_image,axis=-1)"
   ]
  },
  {
   "cell_type": "code",
   "execution_count": 28,
   "metadata": {},
   "outputs": [
    {
     "data": {
      "text/plain": [
       "array([0.99464654, 0.84505406, 0.85852027, 0.84572469])"
      ]
     },
     "execution_count": 28,
     "metadata": {},
     "output_type": "execute_result"
    }
   ],
   "source": [
    "Dice(output_image,true_im)"
   ]
  },
  {
   "cell_type": "code",
   "execution_count": 29,
   "metadata": {},
   "outputs": [
    {
     "data": {
      "text/plain": [
       "array([37.33630941, 11.        ,  8.30662386,  9.        ])"
      ]
     },
     "execution_count": 29,
     "metadata": {},
     "output_type": "execute_result"
    }
   ],
   "source": [
    "metric_all_labels(output_image,true_im,hausdorff_distance)"
   ]
  },
  {
   "cell_type": "code",
   "execution_count": 30,
   "metadata": {},
   "outputs": [
    {
     "data": {
      "text/plain": [
       "array([1.        , 2.23606798, 1.41421356, 1.41421356])"
      ]
     },
     "execution_count": 30,
     "metadata": {},
     "output_type": "execute_result"
    }
   ],
   "source": [
    "metric_all_labels(output_image,true_im,hausdorff95_distance)"
   ]
  },
  {
   "cell_type": "code",
   "execution_count": 31,
   "metadata": {},
   "outputs": [
    {
     "data": {
      "text/plain": [
       "array([0.5026898 , 0.70157565, 0.6214392 , 0.53821379])"
      ]
     },
     "execution_count": 31,
     "metadata": {},
     "output_type": "execute_result"
    }
   ],
   "source": [
    "metric_all_labels(output_image,true_im,average_distance)"
   ]
  },
  {
   "cell_type": "code",
   "execution_count": 34,
   "metadata": {},
   "outputs": [
    {
     "data": {
      "text/plain": [
       "array([0.98935009, 0.73168278, 0.7521117 , 0.73268889])"
      ]
     },
     "execution_count": 34,
     "metadata": {},
     "output_type": "execute_result"
    }
   ],
   "source": [
    "Jaccard(output_image,true_im)"
   ]
  },
  {
   "cell_type": "code",
   "execution_count": 35,
   "metadata": {},
   "outputs": [
    {
     "data": {
      "text/plain": [
       "<matplotlib.image.AxesImage at 0x7fed011d8a20>"
      ]
     },
     "execution_count": 35,
     "metadata": {},
     "output_type": "execute_result"
    },
    {
     "data": {
      "image/png": "[encoded data removed]",
      "text/plain": [
       "<Figure size 1440x1440 with 2 Axes>"
      ]
     },
     "metadata": {
      "needs_background": "light"
     },
     "output_type": "display_data"
    }
   ],
   "source": [
    "f,axes = plt.subplots(1,2,figsize=(20,20))\n",
    "axes[0].imshow(output_image[:,:,60])\n",
    "axes[1].imshow(true_im[:,:,60])\n"
   ]
  },
  {
   "cell_type": "code",
   "execution_count": 40,
   "metadata": {},
   "outputs": [],
   "source": [
    "def clean_one_image(arr_original,arr_true):\n",
    "    arr = deepcopy(arr_original)\n",
    "    original_dice = Dice(arr,arr_true)\n",
    "    \n",
    "    for _l in [0,1,2,3]:\n",
    "        carr = deepcopy(arr)\n",
    "        carr[carr!=_l]=0\n",
    "        labeled, ncomponents = CClabel(carr)\n",
    "        ls,cs = np.unique(labeled,return_counts=True)\n",
    "        ls = ls[np.argsort(cs)[:-3]]\n",
    "        \n",
    "        for _i in ls:\n",
    "            arr[labeled==_i]=0\n",
    "    \n",
    "    new_dice = Dice(arr,arr_true)\n",
    "    \n",
    "    return arr,original_dice,new_dice"
   ]
  },
  {
   "cell_type": "code",
   "execution_count": 190,
   "metadata": {},
   "outputs": [],
   "source": [
    "_lab = 3\n",
    "s = (output_image==_lab).astype(int)\n",
    "r = (true_im==_lab).astype(int)"
   ]
  },
  {
   "cell_type": "code",
   "execution_count": 180,
   "metadata": {},
   "outputs": [],
   "source": [
    "structure = np.ones([3,3,3])\n",
    "labeleds, ncomponentss = CClabel(s,structure=structure)\n",
    "labeledr, ncomponentsr = CClabel(r,structure=structure)\n",
    "\n",
    "ls,cs = np.unique(labeleds,return_counts=True)\n",
    "lr,cr = np.unique(labeledr,return_counts=True)\n"
   ]
  },
  {
   "cell_type": "code",
   "execution_count": 212,
   "metadata": {},
   "outputs": [],
   "source": [
    "seg_small = np.logical_and(labeleds!=0,labeleds!=1)\n",
    "ref_small = np.logical_and(labeledr!=0,labeledr!=1)"
   ]
  },
  {
   "cell_type": "code",
   "execution_count": 214,
   "metadata": {},
   "outputs": [
    {
     "data": {
      "text/plain": [
       "(992, 1979)"
      ]
     },
     "execution_count": 214,
     "metadata": {},
     "output_type": "execute_result"
    }
   ],
   "source": [
    "seg_small.sum(),ref_small.sum()"
   ]
  },
  {
   "cell_type": "code",
   "execution_count": 215,
   "metadata": {},
   "outputs": [],
   "source": [
    "both_small = np.logical_and(seg_small,ref_small)"
   ]
  },
  {
   "cell_type": "code",
   "execution_count": 217,
   "metadata": {},
   "outputs": [
    {
     "data": {
      "text/plain": [
       "509"
      ]
     },
     "execution_count": 217,
     "metadata": {},
     "output_type": "execute_result"
    }
   ],
   "source": [
    "both_small.sum()"
   ]
  },
  {
   "cell_type": "code",
   "execution_count": 219,
   "metadata": {},
   "outputs": [],
   "source": [
    "labeledb, ncomponentsb = CClabel(both_small,structure=structure)\n",
    "lb,cb = np.unique(labeledb,return_counts=True)"
   ]
  },
  {
   "cell_type": "code",
   "execution_count": 220,
   "metadata": {},
   "outputs": [
    {
     "data": {
      "text/plain": [
       "array([1031683,      42,       2,       1,       2,       1,       1,\n",
       "             6,       3,      13,       4,       1,       3,       9,\n",
       "            24,       6,       1,       2,       3,      10,       4,\n",
       "             4,       1,       7,       7,       6,       1,       1,\n",
       "             1,       2,      10,       1,       2,       6,       1,\n",
       "             1,       1,       4,       1,       3,       2,       1,\n",
       "             1,       2,       1,       2,       3,       2,       4,\n",
       "             1,       1,       3,       1,      10,       9,       2,\n",
       "             2,       1,       1,       1,       1,       8,       2,\n",
       "             3,       1,      12,       2,       1,       1,       2,\n",
       "             9,       1,       7,       1,       1,       2,       8,\n",
       "             5,       2,       1,       1,       9,       2,       3,\n",
       "             8,       5,       4,       2,       1,       7,       1,\n",
       "             3,       2,       4,       3,       5,       5,       5,\n",
       "             1,       3,      10,       1,       3,       1,       1,\n",
       "             1,       2,       8,       2,       2,       2,       1,\n",
       "             1,      14,       1,      20,       7,       3,       4,\n",
       "             2,      10,      10,       1,       2,       2,       2,\n",
       "             1,       3])"
      ]
     },
     "execution_count": 220,
     "metadata": {},
     "output_type": "execute_result"
    }
   ],
   "source": [
    "cb"
   ]
  },
  {
   "cell_type": "code",
   "execution_count": null,
   "metadata": {},
   "outputs": [],
   "source": []
  },
  {
   "cell_type": "code",
   "execution_count": 181,
   "metadata": {},
   "outputs": [],
   "source": [
    "s_im = sitk.GetImageFromArray(np.swapaxes(s,0,2))"
   ]
  },
  {
   "cell_type": "code",
   "execution_count": 182,
   "metadata": {},
   "outputs": [],
   "source": [
    "vectorRadius = (1, 1, 1)\n",
    "kernel = sitk.sitkBall\n",
    "\n",
    "seg_clean = sitk.BinaryMorphologicalClosing(s_im,\n",
    "                                            vectorRadius,\n",
    "                                            kernel)\n",
    "seg_clean2 = sitk.BinaryMorphologicalOpening(seg_clean,\n",
    "                                            vectorRadius,\n",
    "                                            kernel)"
   ]
  },
  {
   "cell_type": "code",
   "execution_count": 183,
   "metadata": {},
   "outputs": [],
   "source": [
    "s2 = np.swapaxes(sitk.GetArrayFromImage(seg_clean),0,2)\n",
    "s3 = np.swapaxes(sitk.GetArrayFromImage(seg_clean2),0,2)"
   ]
  },
  {
   "cell_type": "code",
   "execution_count": 184,
   "metadata": {},
   "outputs": [],
   "source": [
    "allowed_new = np.logical_and(np.logical_and(s2==1,s==0),output_image==0)"
   ]
  },
  {
   "cell_type": "code",
   "execution_count": 185,
   "metadata": {},
   "outputs": [
    {
     "data": {
      "text/plain": [
       "(4279,)"
      ]
     },
     "execution_count": 185,
     "metadata": {},
     "output_type": "execute_result"
    }
   ],
   "source": [
    "np.where(allowed_new)[0].shape"
   ]
  },
  {
   "cell_type": "code",
   "execution_count": 186,
   "metadata": {},
   "outputs": [
    {
     "data": {
      "text/plain": [
       "<matplotlib.image.AxesImage at 0x7fecf0702cc0>"
      ]
     },
     "execution_count": 186,
     "metadata": {},
     "output_type": "execute_result"
    },
    {
     "data": {
      "image/png": "[encoded data removed]",
      "text/plain": [
       "<Figure size 432x288 with 1 Axes>"
      ]
     },
     "metadata": {
      "needs_background": "light"
     },
     "output_type": "display_data"
    }
   ],
   "source": [
    "plt.imshow(allowed_new[:,:,60])"
   ]
  },
  {
   "cell_type": "code",
   "execution_count": 192,
   "metadata": {},
   "outputs": [],
   "source": [
    "new_output = deepcopy(output_image)"
   ]
  },
  {
   "cell_type": "code",
   "execution_count": 193,
   "metadata": {},
   "outputs": [],
   "source": [
    "new_output[allowed_new] = _lab"
   ]
  },
  {
   "cell_type": "code",
   "execution_count": 194,
   "metadata": {},
   "outputs": [
    {
     "data": {
      "text/plain": [
       "<matplotlib.image.AxesImage at 0x7fecf04d0908>"
      ]
     },
     "execution_count": 194,
     "metadata": {},
     "output_type": "execute_result"
    },
    {
     "data": {
      "image/png": "[encoded data removed]",
      "text/plain": [
       "<Figure size 1440x2160 with 3 Axes>"
      ]
     },
     "metadata": {
      "needs_background": "light"
     },
     "output_type": "display_data"
    }
   ],
   "source": [
    "f,axes = plt.subplots(1,3,figsize=(20,30))\n",
    "axes[0].imshow(output_image[:,:,60])\n",
    "axes[1].imshow(new_output[:,:,60])\n",
    "axes[2].imshow(true_im[:,:,60])"
   ]
  },
  {
   "cell_type": "code",
   "execution_count": 195,
   "metadata": {},
   "outputs": [
    {
     "data": {
      "text/plain": [
       "array([0.99464654, 0.84505406, 0.85852027, 0.84572469])"
      ]
     },
     "execution_count": 195,
     "metadata": {},
     "output_type": "execute_result"
    }
   ],
   "source": [
    "Dice(output_image,true_im)"
   ]
  },
  {
   "cell_type": "code",
   "execution_count": 196,
   "metadata": {},
   "outputs": [
    {
     "data": {
      "text/plain": [
       "array([0.9967594 , 0.84505406, 0.85852027, 0.8579236 ])"
      ]
     },
     "execution_count": 196,
     "metadata": {},
     "output_type": "execute_result"
    }
   ],
   "source": [
    "Dice(new_output,true_im)"
   ]
  },
  {
   "cell_type": "code",
   "execution_count": 197,
   "metadata": {},
   "outputs": [],
   "source": [
    "new_output[true_im==0]=0"
   ]
  },
  {
   "cell_type": "code",
   "execution_count": 198,
   "metadata": {},
   "outputs": [
    {
     "data": {
      "text/plain": [
       "array([0.99898874, 0.84505406, 0.85855975, 0.86648237])"
      ]
     },
     "execution_count": 198,
     "metadata": {},
     "output_type": "execute_result"
    }
   ],
   "source": [
    "Dice(new_output,true_im)"
   ]
  },
  {
   "cell_type": "code",
   "execution_count": 199,
   "metadata": {},
   "outputs": [],
   "source": [
    "should_be_zero = np.logical_and(output_image!=0,true_im==0)"
   ]
  },
  {
   "cell_type": "code",
   "execution_count": 203,
   "metadata": {},
   "outputs": [
    {
     "data": {
      "text/plain": [
       "(1089,)"
      ]
     },
     "execution_count": 203,
     "metadata": {},
     "output_type": "execute_result"
    }
   ],
   "source": [
    "np.where(should_be_zero)[0].shape"
   ]
  },
  {
   "cell_type": "code",
   "execution_count": 205,
   "metadata": {},
   "outputs": [
    {
     "data": {
      "text/plain": [
       "(array([2, 3]), array([  24, 1065]))"
      ]
     },
     "execution_count": 205,
     "metadata": {},
     "output_type": "execute_result"
    }
   ],
   "source": [
    "np.unique(output_image[should_be_zero],return_counts=True)"
   ]
  },
  {
   "cell_type": "code",
   "execution_count": 207,
   "metadata": {},
   "outputs": [
    {
     "data": {
      "text/plain": [
       "(array([1, 2, 3], dtype=int16), array([  10,  360, 3809]))"
      ]
     },
     "execution_count": 207,
     "metadata": {},
     "output_type": "execute_result"
    }
   ],
   "source": [
    "should_not_be_zero = np.logical_and(output_image==0,true_im!=0)\n",
    "np.unique(true_im[should_not_be_zero],return_counts=True)"
   ]
  },
  {
   "cell_type": "code",
   "execution_count": 208,
   "metadata": {},
   "outputs": [
    {
     "data": {
      "text/plain": [
       "array([0.        , 2.23606798, 1.41421356, 1.        ])"
      ]
     },
     "execution_count": 208,
     "metadata": {},
     "output_type": "execute_result"
    }
   ],
   "source": [
    "metric_all_labels(new_output,true_im,hausdorff95_distance)"
   ]
  },
  {
   "cell_type": "code",
   "execution_count": 209,
   "metadata": {},
   "outputs": [
    {
     "data": {
      "text/plain": [
       "array([30.3644529 , 11.        ,  8.30662386,  9.        ])"
      ]
     },
     "execution_count": 209,
     "metadata": {},
     "output_type": "execute_result"
    }
   ],
   "source": [
    "metric_all_labels(new_output,true_im,hausdorff_distance)"
   ]
  },
  {
   "cell_type": "code",
   "execution_count": 210,
   "metadata": {},
   "outputs": [
    {
     "data": {
      "text/plain": [
       "array([0.03532207, 0.70157565, 0.62128395, 0.50468984])"
      ]
     },
     "execution_count": 210,
     "metadata": {},
     "output_type": "execute_result"
    }
   ],
   "source": [
    "metric_all_labels(new_output,true_im,average_distance)"
   ]
  },
  {
   "cell_type": "code",
   "execution_count": 229,
   "metadata": {},
   "outputs": [],
   "source": [
    "_im = 7\n",
    "\n",
    "t2dir = '/proj/NIRAL/users/siyangj/myData/min_normal/seg_inf_1/%d.nrrd'%_im\n",
    "t2 = load_sitk(t2dir)\n",
    "\n",
    "_lab = 3\n",
    "r2 = (t2==_lab).astype(int)\n",
    "\n",
    "structure = np.ones([3,3,3])\n",
    "labeledr2, ncomponentsr2 = CClabel(r,structure=structure)\n",
    "\n",
    "lr2,cr2 = np.unique(labeledr2,return_counts=True)"
   ]
  },
  {
   "cell_type": "code",
   "execution_count": 230,
   "metadata": {},
   "outputs": [
    {
     "data": {
      "text/plain": [
       "(array([234., 113.,  21.,   3.,   0.,   0.,   0.,   0.,   1.,   1.]),\n",
       " array([ 0.        ,  1.37425021,  2.74850043,  4.12275064,  5.49700085,\n",
       "         6.87125107,  8.24550128,  9.61975149, 10.99400171, 12.36825192,\n",
       "        13.74250213]),\n",
       " <a list of 10 Patch objects>)"
      ]
     },
     "execution_count": 230,
     "metadata": {},
     "output_type": "execute_result"
    },
    {
     "data": {
      "image/png": "[encoded data removed]",
      "text/plain": [
       "<Figure size 432x288 with 1 Axes>"
      ]
     },
     "metadata": {
      "needs_background": "light"
     },
     "output_type": "display_data"
    }
   ],
   "source": [
    "plt.hist(np.log(cr2))"
   ]
  },
  {
   "cell_type": "code",
   "execution_count": null,
   "metadata": {},
   "outputs": [],
   "source": []
  }
 ],
 "metadata": {
  "kernelspec": {
   "display_name": "Python 3",
   "language": "python",
   "name": "python3"
  },
  "language_info": {
   "codemirror_mode": {
    "name": "ipython",
    "version": 3
   },
   "file_extension": ".py",
   "mimetype": "text/x-python",
   "name": "python",
   "nbconvert_exporter": "python",
   "pygments_lexer": "ipython3",
   "version": "3.6.7"
  }
 },
 "nbformat": 4,
 "nbformat_minor": 2
}
