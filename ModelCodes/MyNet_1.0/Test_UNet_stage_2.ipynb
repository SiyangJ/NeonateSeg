{
 "cells": [
  {
   "cell_type": "code",
   "execution_count": 1,
   "metadata": {},
   "outputs": [],
   "source": [
    "import numpy as np\n",
    "import tensorflow as tf\n",
    "import sys\n",
    "import os"
   ]
  },
  {
   "cell_type": "code",
   "execution_count": 2,
   "metadata": {},
   "outputs": [],
   "source": [
    "sys.argv= ['/usr/bin/python','/proj/NIRAL/users/siyangj/NewModels/model_0228_unet_early/patch_pretrain_2_debug.ini']"
   ]
  },
  {
   "cell_type": "code",
   "execution_count": 3,
   "metadata": {},
   "outputs": [
    {
     "name": "stdout",
     "output_type": "stream",
     "text": [
      "Using /proj/NIRAL/users/siyangj/NewModels/model_0228_unet_early/patch_pretrain_2_debug.ini as config file.\n"
     ]
    }
   ],
   "source": [
    "from config import FLAGS"
   ]
  },
  {
   "cell_type": "code",
   "execution_count": 4,
   "metadata": {},
   "outputs": [],
   "source": [
    "FLAGS.max_patch_num=10\n",
    "FLAGS.overlap_add_num=1"
   ]
  },
  {
   "cell_type": "code",
   "execution_count": 4,
   "metadata": {},
   "outputs": [
    {
     "name": "stdout",
     "output_type": "stream",
     "text": [
      ">>> **Network**: UNet Early Fusion\n"
     ]
    }
   ],
   "source": [
    "from main import main"
   ]
  },
  {
   "cell_type": "code",
   "execution_count": null,
   "metadata": {},
   "outputs": [
    {
     "name": "stdout",
     "output_type": "stream",
     "text": [
      "main: stage_1 = False\n",
      ">>> STAGE 2 TRAINING <<<\n",
      ">>> MODEL CREATED\n",
      ">>> OPTIMIZER CREATED\n",
      ">>> TRAINING START\n",
      "**Training**: global variable initialization...\n",
      ">>> Generating training data from /proj/NIRAL/users/siyangj/NewModels/model_0228_unet_early/models/1/patch_real_noaug1/inf_pretrain/prediction_stage_1.list\n",
      ">>> Generating validation data from /proj/NIRAL/users/siyangj/NewModels/model_0228_unet_early/models/1/patch_real_noaug1/inf_real/prediction_stage_1_pretrain_validation.list\n",
      ">>>EPOCH 1\n",
      ">>> Begin evaluating with ground truth: /proj/NIRAL/users/siyangj/myData/min_normal/seg_inf_1/1.nrrd\n",
      ">> begin predict nifit image: /proj/NIRAL/users/siyangj/myData/min_normal/T1/1.nrrd\n",
      ">> load nifti image finish..shape=(96, 112, 96)\n",
      "crop_index (0, 96, 0, 112, 0, 96)\n",
      ">> begin predict likelihood of each patch; total number: 1000\n"
     ]
    }
   ],
   "source": [
    "main()"
   ]
  },
  {
   "cell_type": "markdown",
   "metadata": {},
   "source": []
  }
 ],
 "metadata": {
  "kernelspec": {
   "display_name": "Python 2",
   "language": "python",
   "name": "python2"
  },
  "language_info": {
   "codemirror_mode": {
    "name": "ipython",
    "version": 2
   },
   "file_extension": ".py",
   "mimetype": "text/x-python",
   "name": "python",
   "nbconvert_exporter": "python",
   "pygments_lexer": "ipython2",
   "version": "2.7.12"
  }
 },
 "nbformat": 4,
 "nbformat_minor": 2
}
