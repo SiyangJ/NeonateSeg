{
 "cells": [
  {
   "cell_type": "code",
   "execution_count": 1,
   "metadata": {},
   "outputs": [
    {
     "name": "stdout",
     "output_type": "stream",
     "text": [
      "Using /proj/NIRAL/users/siyangj/NewModels/model_0227_unet/patch_real_noaug.ini as config file.\n"
     ]
    }
   ],
   "source": [
    "import numpy as np\n",
    "import tensorflow as tf\n",
    "import sys\n",
    "import os\n",
    "\n",
    "if len(sys.argv) <= 1 or True:\n",
    "    sys.argv = ['/usr/bin/python','/proj/NIRAL/users/siyangj/NewModels/model_0227_unet/patch_real_noaug.ini']\n",
    "\n",
    "import config\n",
    "from config import FLAGS\n",
    "\n",
    "from demo import evaluate\n",
    "\n",
    "prediction_save_dir = FLAGS.prediction_save_dir\n",
    "\n",
    "STATS_LIST = []\n",
    "STATS_LIST_FILE = os.path.join(prediction_save_dir,'VotingExperiment.list')\n",
    "\n",
    "param_range = np.array([1,2,5,10,15,20,25,30,33,49])\n",
    "\n",
    "for _i in param_range:\n",
    "    FLAGS.overlap_add_num = _i\n",
    "    FLAGS.prediction_save_dir = os.path.join(prediction_save_dir,'overlap_add_num-%d'%_i)\n",
    "    if not os.path.exists(FLAGS.prediction_save_dir):\n",
    "        os.mkdir(FLAGS.prediction_save_dir)\n",
    "    tf.reset_default_graph()\n",
    "    cur_stats = evaluate()\n",
    "    with open(STATS_LIST_FILE,'a') as f:\n",
    "        f.write(str(_i))\n",
    "        f.write(':  ')\n",
    "        f.write(np.array2string(np.asarray(cur_stats),separator=', '))\n",
    "        f.write('\\n')\n",
    "    STATS_LIST += [cur_stats,]\n",
    "\n",
    "STATS_LIST = np.asarray(STATS_LIST)\n",
    "best_index = STATS_LIST.mean(axis=1).argmax()\n",
    "best_param = param_range[best_index]\n",
    "best_stats = STATS_LIST[best_index,:]\n",
    "\n",
    "print STATS_LIST\n",
    "print best_param"
   ]
  },
  {
   "cell_type": "code",
   "execution_count": null,
   "metadata": {},
   "outputs": [],
   "source": []
  }
 ],
 "metadata": {
  "kernelspec": {
   "display_name": "Python 2",
   "language": "python",
   "name": "python2"
  },
  "language_info": {
   "codemirror_mode": {
    "name": "ipython",
    "version": 2
   },
   "file_extension": ".py",
   "mimetype": "text/x-python",
   "name": "python",
   "nbconvert_exporter": "python",
   "pygments_lexer": "ipython2",
   "version": "2.7.12"
  }
 },
 "nbformat": 4,
 "nbformat_minor": 2
}
