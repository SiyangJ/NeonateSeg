{
 "cells": [
  {
   "cell_type": "code",
   "execution_count": 9,
   "metadata": {},
   "outputs": [],
   "source": [
    "#import tensorflow as tf\n",
    "import sys\n",
    "import numpy as np\n",
    "import matplotlib.pyplot as plt\n",
    "%matplotlib inline\n",
    "import SimpleITK as sitk\n",
    "import h5py\n",
    "\n",
    "import os\n",
    "\n",
    "data_path = '/proj/NIRAL/users/siyangj/myData/min_normal/'\n",
    "Bern_path = '/proj/NIRAL/users/siyangj/myData/BernNet/hdf5/'\n",
    "\n",
    "all_list = os.path.join(data_path,'all_data.list')\n",
    "train_list = os.path.join(data_path,'train_data.list')\n",
    "validation_list = os.path.join(data_path,'validation_data.list')\n",
    "test_list = os.path.join(data_path,'test_data.list')\n"
   ]
  },
  {
   "cell_type": "code",
   "execution_count": 6,
   "metadata": {},
   "outputs": [],
   "source": [
    "with open(train_list,'w') as file:\n",
    "    for i in range(7):\n",
    "        for s,c in zip(['T1','T2','seg_inf_1'],[',',',','\\n']):\n",
    "            file.write(os.path.join(data_path,s,'{:d}.nrrd'.format(i)))\n",
    "            file.write(c)"
   ]
  },
  {
   "cell_type": "code",
   "execution_count": 10,
   "metadata": {},
   "outputs": [],
   "source": [
    "with open(all_list,'w') as file:\n",
    "    for i in range(1,9):\n",
    "        for s,c in zip(['T1','T2','seg_inf_1'],[',',',','\\n']):\n",
    "            file.write(os.path.join(data_path,s,'{:d}.nrrd'.format(i)))\n",
    "            file.write(c)"
   ]
  },
  {
   "cell_type": "code",
   "execution_count": 7,
   "metadata": {},
   "outputs": [],
   "source": [
    "with open(validation_list,'w') as file:\n",
    "    for i in [7,]:\n",
    "        for s,c in zip(['T1','T2','seg_inf_1'],[',',',','\\n']):\n",
    "            file.write(os.path.join(data_path,s,'{:d}.nrrd'.format(i)))\n",
    "            file.write(c)"
   ]
  },
  {
   "cell_type": "code",
   "execution_count": 8,
   "metadata": {},
   "outputs": [],
   "source": [
    "with open(test_list,'w') as file:\n",
    "    for i in [8,]:\n",
    "        for s,c in zip(['T1','T2','seg_inf_1'],[',',',','\\n']):\n",
    "            file.write(os.path.join(data_path,s,'{:d}.nrrd'.format(i)))\n",
    "            file.write(c)"
   ]
  },
  {
   "cell_type": "code",
   "execution_count": null,
   "metadata": {},
   "outputs": [],
   "source": []
  }
 ],
 "metadata": {
  "kernelspec": {
   "display_name": "Python 3",
   "language": "python",
   "name": "python3"
  },
  "language_info": {
   "codemirror_mode": {
    "name": "ipython",
    "version": 3
   },
   "file_extension": ".py",
   "mimetype": "text/x-python",
   "name": "python",
   "nbconvert_exporter": "python",
   "pygments_lexer": "ipython3",
   "version": "3.6.7"
  }
 },
 "nbformat": 4,
 "nbformat_minor": 2
}
