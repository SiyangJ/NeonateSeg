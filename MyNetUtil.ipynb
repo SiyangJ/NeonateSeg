{
 "cells": [
  {
   "cell_type": "code",
   "execution_count": 2,
   "metadata": {},
   "outputs": [],
   "source": [
    "#import tensorflow as tf\n",
    "import sys\n",
    "import numpy as np\n",
    "import matplotlib.pyplot as plt\n",
    "%matplotlib inline\n",
    "import SimpleITK as sitk\n",
    "import h5py\n",
    "\n",
    "import os\n",
    "\n",
    "data_path = '/proj/NIRAL/users/siyangj/myData/min_normal/'\n",
    "Bern_path = '/proj/NIRAL/users/siyangj/myData/BernNet/hdf5/'\n",
    "\n",
    "all_list = os.path.join(data_path,'all_data.list')\n",
    "train_list = os.path.join(data_path,'train_data.list')\n",
    "validation_list = os.path.join(data_path,'validation_data.list')\n",
    "test_list = os.path.join(data_path,'test_data.list')\n"
   ]
  },
  {
   "cell_type": "code",
   "execution_count": 6,
   "metadata": {},
   "outputs": [],
   "source": [
    "with open(train_list,'w') as file:\n",
    "    for i in range(7):\n",
    "        for s,c in zip(['T1','T2','seg_inf_1'],[',',',','\\n']):\n",
    "            file.write(os.path.join(data_path,s,'{:d}.nrrd'.format(i)))\n",
    "            file.write(c)"
   ]
  },
  {
   "cell_type": "code",
   "execution_count": 10,
   "metadata": {},
   "outputs": [],
   "source": [
    "with open(all_list,'w') as file:\n",
    "    for i in range(1,9):\n",
    "        for s,c in zip(['T1','T2','seg_inf_1'],[',',',','\\n']):\n",
    "            file.write(os.path.join(data_path,s,'{:d}.nrrd'.format(i)))\n",
    "            file.write(c)"
   ]
  },
  {
   "cell_type": "code",
   "execution_count": 7,
   "metadata": {},
   "outputs": [],
   "source": [
    "with open(validation_list,'w') as file:\n",
    "    for i in [7,]:\n",
    "        for s,c in zip(['T1','T2','seg_inf_1'],[',',',','\\n']):\n",
    "            file.write(os.path.join(data_path,s,'{:d}.nrrd'.format(i)))\n",
    "            file.write(c)"
   ]
  },
  {
   "cell_type": "code",
   "execution_count": 8,
   "metadata": {},
   "outputs": [],
   "source": [
    "with open(test_list,'w') as file:\n",
    "    for i in [8,]:\n",
    "        for s,c in zip(['T1','T2','seg_inf_1'],[',',',','\\n']):\n",
    "            file.write(os.path.join(data_path,s,'{:d}.nrrd'.format(i)))\n",
    "            file.write(c)"
   ]
  },
  {
   "cell_type": "code",
   "execution_count": null,
   "metadata": {},
   "outputs": [],
   "source": []
  },
  {
   "cell_type": "code",
   "execution_count": 4,
   "metadata": {},
   "outputs": [],
   "source": [
    "cur_best_model = '/proj/NIRAL/users/siyangj/NewModels/model_0217_data_aug/models/1/data_aug_2_validate_on_1/'\n",
    "pretrain_path = '/proj/NIRAL/users/siyangj/myPretrainData/'\n",
    "\n",
    "all_pretrain_list = os.path.join(pretrain_path,'all_data.list')\n",
    "train_pretrain_list = os.path.join(pretrain_path,'train_data.list')\n",
    "validation_pretrain_list = os.path.join(pretrain_path,'validation_data.list')"
   ]
  },
  {
   "cell_type": "code",
   "execution_count": 14,
   "metadata": {},
   "outputs": [],
   "source": [
    "all_pretrain_data = []\n",
    "with open(all_pretrain_list,'w') as f:\n",
    "    for d in os.listdir(pretrain_path+'seg/'):\n",
    "        if not d[-5:]=='.nrrd':\n",
    "            continue\n",
    "        all_pretrain_data += [[]]\n",
    "        for s,c in zip(['T1','T2','seg'],[',',',','\\n']):\n",
    "            cur_name = os.path.join(pretrain_path,s,d)\n",
    "            f.write(cur_name)\n",
    "            f.write(c)\n",
    "            all_pretrain_data[-1]+=[cur_name,]"
   ]
  },
  {
   "cell_type": "code",
   "execution_count": 16,
   "metadata": {},
   "outputs": [
    {
     "data": {
      "text/plain": [
       "947"
      ]
     },
     "execution_count": 16,
     "metadata": {},
     "output_type": "execute_result"
    }
   ],
   "source": [
    "len(all_pretrain_data)"
   ]
  },
  {
   "cell_type": "code",
   "execution_count": 17,
   "metadata": {},
   "outputs": [],
   "source": [
    "from random import shuffle"
   ]
  },
  {
   "cell_type": "code",
   "execution_count": 18,
   "metadata": {},
   "outputs": [],
   "source": [
    "shuffle(all_pretrain_data)"
   ]
  },
  {
   "cell_type": "code",
   "execution_count": 21,
   "metadata": {},
   "outputs": [],
   "source": [
    "train_len = int(len(all_pretrain_data)*0.8)"
   ]
  },
  {
   "cell_type": "code",
   "execution_count": null,
   "metadata": {},
   "outputs": [],
   "source": [
    "with open(train_pretrain_list,'w') as f:\n",
    "    for d in all_pretrain_data[:train_len]:\n",
    "        f.write(d[0])\n",
    "        f.write(',')\n",
    "        f.write(d[1])\n",
    "        f.write(',')\n",
    "        f.write(d[2])\n",
    "        f.write('\\n')"
   ]
  },
  {
   "cell_type": "code",
   "execution_count": 26,
   "metadata": {},
   "outputs": [],
   "source": [
    "with open(validation_pretrain_list,'w') as f:\n",
    "    for d in all_pretrain_data[train_len-len(all_pretrain_data):]:\n",
    "        f.write(d[0])\n",
    "        f.write(',')\n",
    "        f.write(d[1])\n",
    "        f.write(',')\n",
    "        f.write(d[2])\n",
    "        f.write('\\n')"
   ]
  },
  {
   "cell_type": "code",
   "execution_count": 24,
   "metadata": {},
   "outputs": [
    {
     "data": {
      "text/plain": [
       "190"
      ]
     },
     "execution_count": 24,
     "metadata": {},
     "output_type": "execute_result"
    }
   ],
   "source": []
  },
  {
   "cell_type": "code",
   "execution_count": null,
   "metadata": {},
   "outputs": [],
   "source": []
  },
  {
   "cell_type": "code",
   "execution_count": null,
   "metadata": {},
   "outputs": [],
   "source": []
  },
  {
   "cell_type": "code",
   "execution_count": null,
   "metadata": {},
   "outputs": [],
   "source": []
  },
  {
   "cell_type": "code",
   "execution_count": null,
   "metadata": {},
   "outputs": [],
   "source": [
    "pretrain_stage1_result_list = os.path.join(cur_best_model,'')"
   ]
  }
 ],
 "metadata": {
  "kernelspec": {
   "display_name": "Python 3",
   "language": "python",
   "name": "python3"
  },
  "language_info": {
   "codemirror_mode": {
    "name": "ipython",
    "version": 3
   },
   "file_extension": ".py",
   "mimetype": "text/x-python",
   "name": "python",
   "nbconvert_exporter": "python",
   "pygments_lexer": "ipython3",
   "version": "3.6.7"
  }
 },
 "nbformat": 4,
 "nbformat_minor": 2
}
