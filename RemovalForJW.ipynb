{
 "cells": [
  {
   "cell_type": "code",
   "execution_count": 101,
   "metadata": {},
   "outputs": [],
   "source": [
    "import numpy as np\n",
    "import scipy as sp\n",
    "import sys\n",
    "import os\n",
    "import SimpleITK as sitk\n",
    "from copy import deepcopy\n",
    "import matplotlib.pyplot as plt\n",
    "from scipy.ndimage.measurements import label\n",
    "%matplotlib inline"
   ]
  },
  {
   "cell_type": "code",
   "execution_count": 102,
   "metadata": {},
   "outputs": [],
   "source": [
    "data_dir = '/proj/NIRAL/users/hanwang/model_0208-pretraining/inference_9000_processed'\n",
    "true_dir = '/proj/NIRAL/users/hanwang/pretraining-symmetric/'\n",
    "output_dir = '/proj/NIRAL/users/siyangj/Han_0320/'"
   ]
  },
  {
   "cell_type": "code",
   "execution_count": 79,
   "metadata": {},
   "outputs": [],
   "source": [
    "def Dice(pred,true,labels=[0,1,3,5,7,9,40]):\n",
    "    l = len(labels)\n",
    "    ret = np.zeros(l)\n",
    "    for i in range(l):\n",
    "        lab = labels[i]\n",
    "        p = pred==lab\n",
    "        t = true==lab\n",
    "        ret[i] = 2*float(np.logical_and(p,t).sum())/(p.sum()+t.sum())\n",
    "    return ret"
   ]
  },
  {
   "cell_type": "code",
   "execution_count": 108,
   "metadata": {},
   "outputs": [],
   "source": [
    "def clean_one_image(arr_original,arr_true):\n",
    "    arr = deepcopy(arr_original)\n",
    "    original_dice = Dice(arr,arr_true)\n",
    "    \n",
    "    for _l in [1,3,5,7,9,40]:\n",
    "        carr = deepcopy(arr)\n",
    "        carr[carr!=_l]=0\n",
    "        labeled, ncomponents = label(carr)\n",
    "        ls,cs = np.unique(labeled,return_counts=True)\n",
    "        ls = ls[np.argsort(cs)[:-3]]\n",
    "        \n",
    "        for _i in ls:\n",
    "            arr[labeled==_i]=0\n",
    "    \n",
    "    new_dice = Dice(arr,arr_true)\n",
    "    \n",
    "    return arr,original_dice,new_dice"
   ]
  },
  {
   "cell_type": "code",
   "execution_count": 123,
   "metadata": {},
   "outputs": [],
   "source": [
    "def clean_all_images_in_path(pred_path,true_path,new_path):\n",
    "    \n",
    "    all_original_dice = []\n",
    "    all_new_dice = []\n",
    "    \n",
    "    for f in os.listdir(pred_path):\n",
    "        if f[-19:] != 'niftynet_out.nii.gz':\n",
    "            continue\n",
    "        print f\n",
    "        ID = f[:10]\n",
    "        im_pred = os.path.join(pred_path,f)\n",
    "        im_true = os.path.join(true_path,'stx_noscale_'+ID+'_label.nrrd')\n",
    "        im_new  = os.path.join(new_path, f)\n",
    "        \n",
    "        arr_pred = sitk.GetArrayFromImage(sitk.ReadImage(im_pred))\n",
    "        arr_true = sitk.GetArrayFromImage(sitk.ReadImage(im_true))\n",
    "        \n",
    "        arr_new,original_dice,new_dice = clean_one_image(arr_pred,arr_true)\n",
    "        \n",
    "        all_original_dice += [original_dice,]\n",
    "        all_new_dice += [new_dice,]\n",
    "        \n",
    "        sitk.WriteImage(sitk.GetImageFromArray(arr_new),im_new)\n",
    "    \n",
    "    all_original_dice = np.asarray(all_original_dice)\n",
    "    all_new_dice = np.asarray(all_new_dice)\n",
    "    \n",
    "    return all_original_dice, all_new_dice"
   ]
  },
  {
   "cell_type": "code",
   "execution_count": 124,
   "metadata": {},
   "outputs": [
    {
     "name": "stdout",
     "output_type": "stream",
     "text": [
      "413692_V12_niftynet_out.nii.gz\n",
      "239554_V24_niftynet_out.nii.gz\n",
      "589344_V12_niftynet_out.nii.gz\n",
      "703249_V24_niftynet_out.nii.gz\n",
      "942002_V12_niftynet_out.nii.gz\n",
      "996243_V24_niftynet_out.nii.gz\n",
      "692620_V15_niftynet_out.nii.gz\n",
      "911817_V24_niftynet_out.nii.gz\n",
      "581471_V24_niftynet_out.nii.gz\n",
      "150649_V24_niftynet_out.nii.gz\n",
      "481457_V12_niftynet_out.nii.gz\n",
      "889945_V24_niftynet_out.nii.gz\n",
      "988799_V12_niftynet_out.nii.gz\n",
      "110940_V12_niftynet_out.nii.gz\n",
      "240946_V24_niftynet_out.nii.gz\n",
      "214769_V24_niftynet_out.nii.gz\n",
      "822794_V24_niftynet_out.nii.gz\n",
      "113320_V12_niftynet_out.nii.gz\n",
      "927475_V12_niftynet_out.nii.gz\n",
      "823104_V12_niftynet_out.nii.gz\n",
      "842426_V12_niftynet_out.nii.gz\n",
      "636881_V12_niftynet_out.nii.gz\n",
      "328818_V12_niftynet_out.nii.gz\n",
      "662147_V24_niftynet_out.nii.gz\n",
      "973689_V24_niftynet_out.nii.gz\n",
      "247315_V12_niftynet_out.nii.gz\n",
      "479010_V12_niftynet_out.nii.gz\n",
      "950194_V24_niftynet_out.nii.gz\n",
      "321541_V12_niftynet_out.nii.gz\n",
      "370683_V24_niftynet_out.nii.gz\n",
      "429591_V12_niftynet_out.nii.gz\n",
      "915717_V12_niftynet_out.nii.gz\n",
      "972481_V12_niftynet_out.nii.gz\n",
      "822865_V24_niftynet_out.nii.gz\n",
      "641585_V24_niftynet_out.nii.gz\n",
      "347302_V24_niftynet_out.nii.gz\n",
      "660372_V12_niftynet_out.nii.gz\n",
      "348547_V24_niftynet_out.nii.gz\n",
      "831855_V24_niftynet_out.nii.gz\n",
      "711917_V24_niftynet_out.nii.gz\n",
      "364612_V12_niftynet_out.nii.gz\n",
      "404956_V24_niftynet_out.nii.gz\n",
      "691501_V12_niftynet_out.nii.gz\n",
      "364850_V12_niftynet_out.nii.gz\n",
      "878962_V15_niftynet_out.nii.gz\n",
      "636817_V24_niftynet_out.nii.gz\n",
      "402809_V24_niftynet_out.nii.gz\n",
      "269738_V24_niftynet_out.nii.gz\n",
      "755073_V24_niftynet_out.nii.gz\n",
      "618672_V12_niftynet_out.nii.gz\n",
      "950017_V24_niftynet_out.nii.gz\n",
      "938659_V12_niftynet_out.nii.gz\n",
      "483143_V12_niftynet_out.nii.gz\n",
      "465342_V12_niftynet_out.nii.gz\n",
      "695831_V12_niftynet_out.nii.gz\n",
      "125787_V12_niftynet_out.nii.gz\n",
      "186041_V15_niftynet_out.nii.gz\n",
      "584746_V24_niftynet_out.nii.gz\n",
      "857317_V12_niftynet_out.nii.gz\n",
      "670463_V24_niftynet_out.nii.gz\n",
      "309070_V24_niftynet_out.nii.gz\n",
      "963368_V12_niftynet_out.nii.gz\n",
      "439453_V12_niftynet_out.nii.gz\n",
      "963992_V24_niftynet_out.nii.gz\n",
      "770655_V12_niftynet_out.nii.gz\n",
      "490324_V12_niftynet_out.nii.gz\n",
      "751081_V12_niftynet_out.nii.gz\n",
      "572121_V12_niftynet_out.nii.gz\n",
      "553295_V12_niftynet_out.nii.gz\n",
      "490878_V24_niftynet_out.nii.gz\n",
      "878962_V12_niftynet_out.nii.gz\n",
      "714779_V24_niftynet_out.nii.gz\n",
      "872121_V12_niftynet_out.nii.gz\n",
      "505608_V12_niftynet_out.nii.gz\n",
      "600014_V24_niftynet_out.nii.gz\n",
      "192856_V12_niftynet_out.nii.gz\n",
      "811160_V24_niftynet_out.nii.gz\n",
      "544847_V12_niftynet_out.nii.gz\n",
      "704921_V12_niftynet_out.nii.gz\n",
      "447346_V24_niftynet_out.nii.gz\n"
     ]
    }
   ],
   "source": [
    "all_original_dice, all_new_dice = clean_all_images_in_path(data_dir,true_dir,output_dir)"
   ]
  },
  {
   "cell_type": "code",
   "execution_count": 125,
   "metadata": {},
   "outputs": [
    {
     "data": {
      "text/plain": [
       "array([0.99706169, 0.81585003, 0.90542334, 0.8773491 , 0.87010008,\n",
       "       0.90796067, 0.93566434])"
      ]
     },
     "execution_count": 125,
     "metadata": {},
     "output_type": "execute_result"
    }
   ],
   "source": [
    "all_original_dice.mean(axis=0)"
   ]
  },
  {
   "cell_type": "code",
   "execution_count": 126,
   "metadata": {},
   "outputs": [
    {
     "data": {
      "text/plain": [
       "array([0.99715079, 0.82912914, 0.91583854, 0.88115594, 0.87294022,\n",
       "       0.90968484, 0.93591738])"
      ]
     },
     "execution_count": 126,
     "metadata": {},
     "output_type": "execute_result"
    }
   ],
   "source": [
    "all_new_dice.mean(axis=0)"
   ]
  },
  {
   "cell_type": "code",
   "execution_count": 127,
   "metadata": {},
   "outputs": [
    {
     "data": {
      "text/plain": [
       "array([0.00891062, 1.32791141, 1.04151919, 0.38068378, 0.28401385,\n",
       "       0.17241627, 0.02530456])"
      ]
     },
     "execution_count": 127,
     "metadata": {},
     "output_type": "execute_result"
    }
   ],
   "source": [
    "(all_new_dice.mean(axis=0) - all_original_dice.mean(axis=0)) * 100"
   ]
  },
  {
   "cell_type": "code",
   "execution_count": 128,
   "metadata": {},
   "outputs": [
    {
     "data": {
      "text/plain": [
       "array([0.00868804, 1.79430421, 1.22781335, 0.45956181, 1.20956163,\n",
       "       0.40411376, 0.05657995])"
      ]
     },
     "execution_count": 128,
     "metadata": {},
     "output_type": "execute_result"
    }
   ],
   "source": [
    "(all_new_dice-all_original_dice).std(axis=0)*100"
   ]
  },
  {
   "cell_type": "code",
   "execution_count": 129,
   "metadata": {},
   "outputs": [
    {
     "data": {
      "text/plain": [
       "array([-0.01230187,  0.        ,  0.03367704, -0.00683398, -1.19328993,\n",
       "       -0.31757571,  0.        ])"
      ]
     },
     "execution_count": 129,
     "metadata": {},
     "output_type": "execute_result"
    }
   ],
   "source": [
    "(all_new_dice-all_original_dice).min(axis=0)*100"
   ]
  },
  {
   "cell_type": "code",
   "execution_count": 130,
   "metadata": {},
   "outputs": [
    {
     "data": {
      "text/plain": [
       "array([ 0.0373419 , 11.70360791,  7.77521578,  2.33236854,  9.19999868,\n",
       "        2.08374471,  0.28459627])"
      ]
     },
     "execution_count": 130,
     "metadata": {},
     "output_type": "execute_result"
    }
   ],
   "source": [
    "(all_new_dice-all_original_dice).max(axis=0)*100"
   ]
  },
  {
   "cell_type": "code",
   "execution_count": 131,
   "metadata": {},
   "outputs": [
    {
     "data": {
      "text/plain": [
       "[<matplotlib.lines.Line2D at 0x7fa7af5b9850>,\n",
       " <matplotlib.lines.Line2D at 0x7fa7af5b9910>,\n",
       " <matplotlib.lines.Line2D at 0x7fa7af5b99d0>,\n",
       " <matplotlib.lines.Line2D at 0x7fa7af5b9a90>,\n",
       " <matplotlib.lines.Line2D at 0x7fa7af5b9b50>,\n",
       " <matplotlib.lines.Line2D at 0x7fa7af5b9c10>,\n",
       " <matplotlib.lines.Line2D at 0x7fa7af5b9cd0>,\n",
       " <matplotlib.lines.Line2D at 0x7fa7af5b9d90>,\n",
       " <matplotlib.lines.Line2D at 0x7fa7af5b9e50>,\n",
       " <matplotlib.lines.Line2D at 0x7fa7af5b9f10>,\n",
       " <matplotlib.lines.Line2D at 0x7fa7af5b9fd0>,\n",
       " <matplotlib.lines.Line2D at 0x7fa7af3860d0>,\n",
       " <matplotlib.lines.Line2D at 0x7fa7af386190>,\n",
       " <matplotlib.lines.Line2D at 0x7fa7af386250>,\n",
       " <matplotlib.lines.Line2D at 0x7fa7af386310>,\n",
       " <matplotlib.lines.Line2D at 0x7fa7af3863d0>,\n",
       " <matplotlib.lines.Line2D at 0x7fa7af386490>,\n",
       " <matplotlib.lines.Line2D at 0x7fa7af386550>,\n",
       " <matplotlib.lines.Line2D at 0x7fa7af386610>,\n",
       " <matplotlib.lines.Line2D at 0x7fa7af3866d0>,\n",
       " <matplotlib.lines.Line2D at 0x7fa7af3dbc10>,\n",
       " <matplotlib.lines.Line2D at 0x7fa7af386850>,\n",
       " <matplotlib.lines.Line2D at 0x7fa7af386910>,\n",
       " <matplotlib.lines.Line2D at 0x7fa7af3869d0>,\n",
       " <matplotlib.lines.Line2D at 0x7fa7af386a90>,\n",
       " <matplotlib.lines.Line2D at 0x7fa7af386b50>,\n",
       " <matplotlib.lines.Line2D at 0x7fa7af386c10>,\n",
       " <matplotlib.lines.Line2D at 0x7fa7af386cd0>,\n",
       " <matplotlib.lines.Line2D at 0x7fa7af386d90>,\n",
       " <matplotlib.lines.Line2D at 0x7fa7af386e50>,\n",
       " <matplotlib.lines.Line2D at 0x7fa7af386790>,\n",
       " <matplotlib.lines.Line2D at 0x7fa7af386fd0>,\n",
       " <matplotlib.lines.Line2D at 0x7fa7af3910d0>,\n",
       " <matplotlib.lines.Line2D at 0x7fa7af391190>,\n",
       " <matplotlib.lines.Line2D at 0x7fa7af391250>,\n",
       " <matplotlib.lines.Line2D at 0x7fa7af391310>,\n",
       " <matplotlib.lines.Line2D at 0x7fa7af3913d0>,\n",
       " <matplotlib.lines.Line2D at 0x7fa7af391490>,\n",
       " <matplotlib.lines.Line2D at 0x7fa7af391550>,\n",
       " <matplotlib.lines.Line2D at 0x7fa7af391610>,\n",
       " <matplotlib.lines.Line2D at 0x7fa7af386f10>,\n",
       " <matplotlib.lines.Line2D at 0x7fa7af391790>,\n",
       " <matplotlib.lines.Line2D at 0x7fa7af391850>,\n",
       " <matplotlib.lines.Line2D at 0x7fa7af391910>,\n",
       " <matplotlib.lines.Line2D at 0x7fa7af3919d0>,\n",
       " <matplotlib.lines.Line2D at 0x7fa7af391a90>,\n",
       " <matplotlib.lines.Line2D at 0x7fa7af391b50>,\n",
       " <matplotlib.lines.Line2D at 0x7fa7af391c10>,\n",
       " <matplotlib.lines.Line2D at 0x7fa7af391cd0>,\n",
       " <matplotlib.lines.Line2D at 0x7fa7af391d90>,\n",
       " <matplotlib.lines.Line2D at 0x7fa7af3916d0>,\n",
       " <matplotlib.lines.Line2D at 0x7fa7af391f10>,\n",
       " <matplotlib.lines.Line2D at 0x7fa7af391fd0>,\n",
       " <matplotlib.lines.Line2D at 0x7fa7af39b0d0>,\n",
       " <matplotlib.lines.Line2D at 0x7fa7af39b190>,\n",
       " <matplotlib.lines.Line2D at 0x7fa7af39b250>,\n",
       " <matplotlib.lines.Line2D at 0x7fa7af39b310>,\n",
       " <matplotlib.lines.Line2D at 0x7fa7af39b3d0>,\n",
       " <matplotlib.lines.Line2D at 0x7fa7af39b490>,\n",
       " <matplotlib.lines.Line2D at 0x7fa7af39b550>,\n",
       " <matplotlib.lines.Line2D at 0x7fa7af391e50>,\n",
       " <matplotlib.lines.Line2D at 0x7fa7af39b6d0>,\n",
       " <matplotlib.lines.Line2D at 0x7fa7af39b790>,\n",
       " <matplotlib.lines.Line2D at 0x7fa7af39b850>,\n",
       " <matplotlib.lines.Line2D at 0x7fa7af39b910>,\n",
       " <matplotlib.lines.Line2D at 0x7fa7af39b9d0>,\n",
       " <matplotlib.lines.Line2D at 0x7fa7af39ba90>,\n",
       " <matplotlib.lines.Line2D at 0x7fa7af39bb50>,\n",
       " <matplotlib.lines.Line2D at 0x7fa7af39bc10>,\n",
       " <matplotlib.lines.Line2D at 0x7fa7af39bcd0>,\n",
       " <matplotlib.lines.Line2D at 0x7fa7af39b610>,\n",
       " <matplotlib.lines.Line2D at 0x7fa7af39be50>,\n",
       " <matplotlib.lines.Line2D at 0x7fa7af39bf10>,\n",
       " <matplotlib.lines.Line2D at 0x7fa7af39bfd0>,\n",
       " <matplotlib.lines.Line2D at 0x7fa7af3a70d0>,\n",
       " <matplotlib.lines.Line2D at 0x7fa7af3a7190>,\n",
       " <matplotlib.lines.Line2D at 0x7fa7af3a7250>,\n",
       " <matplotlib.lines.Line2D at 0x7fa7af3a7310>,\n",
       " <matplotlib.lines.Line2D at 0x7fa7af3a73d0>,\n",
       " <matplotlib.lines.Line2D at 0x7fa7af3a7490>]"
      ]
     },
     "execution_count": 131,
     "metadata": {},
     "output_type": "execute_result"
    },
    {
     "data": {
      "image/png": "[encoded data removed]",
      "text/plain": [
       "<Figure size 432x288 with 1 Axes>"
      ]
     },
     "metadata": {
      "needs_background": "light"
     },
     "output_type": "display_data"
    }
   ],
   "source": [
    "plt.plot((all_new_dice-all_original_dice).T * 100)"
   ]
  },
  {
   "cell_type": "code",
   "execution_count": null,
   "metadata": {},
   "outputs": [],
   "source": []
  }
 ],
 "metadata": {
  "kernelspec": {
   "display_name": "Python 2",
   "language": "python",
   "name": "python2"
  },
  "language_info": {
   "codemirror_mode": {
    "name": "ipython",
    "version": 2
   },
   "file_extension": ".py",
   "mimetype": "text/x-python",
   "name": "python",
   "nbconvert_exporter": "python",
   "pygments_lexer": "ipython2",
   "version": "2.7.12"
  }
 },
 "nbformat": 4,
 "nbformat_minor": 2
}
