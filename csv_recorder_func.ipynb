{
 "cells": [
  {
   "cell_type": "code",
   "execution_count": 1,
   "metadata": {},
   "outputs": [],
   "source": [
    "import pandas as pd\n",
    "import numpy as np\n",
    "import re\n",
    "\n",
    "def find_val(sec,attr,s):\n",
    "    r = re.compile(r'(?:\\['+sec+r'\\](?:.*?)-- '+attr+r': )(.*?)(?:\\n)',re.S)\n",
    "    m = r.search(s)\n",
    "    if m is None:\n",
    "        return None\n",
    "    else:\n",
    "        return m.group(1)\n",
    "\n",
    "ini_dict = {\"CONFIG_FILE\":[\"path\",],\n",
    "            \"PARCELLATION\":[\"loader\",\"csv_file\",\"axcodes\",\"filename_contains\",\"filename_not_contains\",\"interp_order\",\"pixdim\",\"spatial_window_size\",\"path_to_search\",],\n",
    "            \"T1\":[\"loader\",\"csv_file\",\"axcodes\",\"filename_contains\",\"filename_not_contains\",\"interp_order\",\"pixdim\",\"spatial_window_size\",\"path_to_search\",],\n",
    "            \"CUSTOM\":[\"num_classes\",\"compulsory_labels\",\"output_prob\",\"label_normalisation\",\"name\",\"inferred\",\"weight\",\"min_sampling_ratio\",\"sampler\",\"image\",\"proba_connect\",\"min_numb_labels\",\"rand_samples\",\"label\",\"softmax\",\"evaluation_units\",],\n",
    "            \"T2\":[\"loader\",\"csv_file\",\"axcodes\",\"filename_contains\",\"filename_not_contains\",\"interp_order\",\"pixdim\",\"spatial_window_size\",\"path_to_search\",],\n",
    "            \"EVALUATION\":[\"evaluations\",\"save_csv_dir\",],\"INFERENCE\":[\"dataset_to_infer\",\"output_interp_order\",\"border\",\"save_seg_dir\",\"output_postfix\",\"inference_iter\",\"spatial_window_size\",],\n",
    "            \"TRAINING\":[\"deformation_sigma\",\"validation_every_n\",\"loss_type\",\"max_checkpoints\",\"starting_iter\",\"proportion_to_deform\",\"do_elastic_deformation\",\"exclude_fraction_for_validation\",\"sample_per_volume\",\"scaling_percentage\",\"max_iter\",\"save_every_n\",\"rotation_angle_z\",\"validation_max_iter\",\"random_flipping_axes\",\"lr\",\"optimiser\",\"num_ctrl_points\",\"exclude_fraction_for_inference\",\"rotation_angle_x\",\"rotation_angle_y\",\"tensorboard_every_n\",\"rotation_angle\",],\"SYSTEM\":[\"num_threads\",\"event_handler\",\"dataset_split_file\",\"loader\",\"model_dir\",\"cuda_devices\",\"action\",\"num_gpus\",\"iteration_generator\",],\"NETWORK\":[\"keep_prob\",\"foreground_type\",\"volume_padding_size\",\"reg_type\",\"queue_length\",\"decay\",\"activation_function\",\"histogram_ref_file\",\"volume_padding_mode\",\"cutoff\",\"whitening\",\"multimod_foreground_type\",\"batch_size\",\"weight_initializer\",\"window_sampling\",\"name\",\"normalise_foreground_only\",\"bias_initializer\",\"normalisation\",\"norm_type\"]}\n",
    "\n",
    "def record_ini(f,df):\n",
    "    ifile = open(f,'rb+')\n",
    "    istr = ifile.read().decode('utf-8')\n",
    "    l = len(df.index)\n",
    "    p = find_val('CONFIG_FILE','path',istr)\n",
    "    if len(df.loc[df['CONFIG_FILE-path']==p])>0:\n",
    "        return\n",
    "    df.loc[l]=0\n",
    "    for sec,attr_list in ini_dict.items():\n",
    "        for attr in attr_list:\n",
    "            v = find_val(sec,attr,istr)\n",
    "            print(sec,attr,v)\n",
    "            if v is not None:\n",
    "                df.loc[l,sec+'-'+attr]=v\n",
    "    \n",
    "if __name__==\"__main__\":\n",
    "    import argparse\n",
    "    parser = argparse.ArgumentParser(description='Process some integers.')\n",
    "    parser.add_argument('ini_path', type=str)\n",
    "    args = parser.parse_args()\n",
    "    df = pd.read_csv(\"model_record.csv\")\n",
    "    record_ini(args.ini_path,df)"
   ]
  },
  {
   "cell_type": "code",
   "execution_count": null,
   "metadata": {},
   "outputs": [],
   "source": []
  }
 ],
 "metadata": {
  "kernelspec": {
   "display_name": "Python 3",
   "language": "python",
   "name": "python3"
  },
  "language_info": {
   "codemirror_mode": {
    "name": "ipython",
    "version": 3
   },
   "file_extension": ".py",
   "mimetype": "text/x-python",
   "name": "python",
   "nbconvert_exporter": "python",
   "pygments_lexer": "ipython3",
   "version": "3.5.2"
  }
 },
 "nbformat": 4,
 "nbformat_minor": 2
}
