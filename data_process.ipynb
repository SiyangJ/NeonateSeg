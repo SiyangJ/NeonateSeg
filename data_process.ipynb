{
 "cells": [
  {
   "cell_type": "code",
   "execution_count": 2,
   "metadata": {},
   "outputs": [],
   "source": [
    "import tensorflow as tf\n",
    "import sys\n",
    "sys.path.append('/nas/longleaf/home/siyangj/NiftyNet/')\n",
    "import niftynet as nn\n",
    "import numpy as np\n",
    "import matplotlib.pyplot as plt\n",
    "%matplotlib inline\n",
    "import SimpleITK as sitk\n",
    "\n",
    "data_path = '/proj/NIRAL/users/siyangj/myData/'\n",
    "new_path = '/proj/NIRAL/users/siyangj/myData/clean/'\n",
    "normal_path = '/proj/NIRAL/users/siyangj/myData/normal/'"
   ]
  },
  {
   "cell_type": "code",
   "execution_count": 2,
   "metadata": {},
   "outputs": [],
   "source": [
    "im_num = np.arange(1,9)\n",
    "suf1 = ['','-flip']\n",
    "suf2 = {'-seg':'seg/','-T1-stripped':'T1/','-T2-stripped':'T2/'}\n",
    "cur_dim = np.array([130,140,120])\n",
    "tar_dim = np.array([136,144,120])\n",
    "dif_dim = tar_dim - cur_dim\n",
    "haf_dim = tar_dim / 2"
   ]
  },
  {
   "cell_type": "code",
   "execution_count": 28,
   "metadata": {},
   "outputs": [],
   "source": [
    "for i in im_num:\n",
    "    for s in suf1:\n",
    "        for t,d in suf2.items():\n",
    "            im_cur = sitk.ReadImage(data_path+str(i)+s+t+'.nrrd')\n",
    "            ## Padding the image so that can be handled by 3D U-net\n",
    "            im_pad = sitk.ConstantPad(im_cur,[0,2,3],[0,2,3],constant=0)\n",
    "            sitk.WriteImage(im_pad,new_path+d+str(i)+s+'.nrrd')"
   ]
  },
  {
   "cell_type": "code",
   "execution_count": 35,
   "metadata": {},
   "outputs": [],
   "source": [
    "for i in im_num:\n",
    "    for s in suf1:\n",
    "        im_T1 = sitk.ReadImage(new_path+'T1/'+str(i)+s+'.nrrd')\n",
    "        im_T2 = sitk.ReadImage(new_path+'T2/'+str(i)+s+'.nrrd')\n",
    "        im_C  = sitk.Compose(im_T1,im_T2)\n",
    "        sitk.WriteImage(im_C,new_path+'T1T2/'+str(i)+s+'.nrrd')"
   ]
  },
  {
   "cell_type": "code",
   "execution_count": null,
   "metadata": {},
   "outputs": [],
   "source": [
    "## Normalize each image\n",
    "for i in im_num:\n",
    "    for s in suf1:\n",
    "        for t,d in suf2.items():\n",
    "            im_cur = sitk.ReadImage(data_path+str(i)+s+t+'.nrrd')\n",
    "            ## Padding the image so that can be handled by 3D U-net\n",
    "            im_pad = sitk.ConstantPad(im_cur,[0,2,3],[0,2,3],constant=0)\n",
    "            sitk.WriteImage(im_pad,new_path+d+str(i)+s+'.nrrd')"
   ]
  },
  {
   "cell_type": "code",
   "execution_count": 4,
   "metadata": {},
   "outputs": [
    {
     "data": {
      "text/plain": [
       "(120, 144, 136)"
      ]
     },
     "execution_count": 4,
     "metadata": {},
     "output_type": "execute_result"
    }
   ],
   "source": [
    "i=1;s='';\n",
    "\n",
    "im_T1 = sitk.ReadImage(new_path+'T1/'+str(i)+s+'.nrrd')\n",
    "im_T2 = sitk.ReadImage(new_path+'T2/'+str(i)+s+'.nrrd')\n",
    "im_C  = sitk.Compose(im_T1,im_T2)\n",
    "\n",
    "im_C.GetSize()"
   ]
  },
  {
   "cell_type": "code",
   "execution_count": 5,
   "metadata": {},
   "outputs": [
    {
     "name": "stdout",
     "output_type": "stream",
     "text": [
      "Help on function Normalize in module SimpleITK.SimpleITK:\n",
      "\n",
      "Normalize(image1)\n",
      "    Normalize(Image image1) -> Image\n",
      "    \n",
      "    \n",
      "    \n",
      "    Normalize an image by setting its mean to zero and variance to one.\n",
      "    \n",
      "    \n",
      "    This function directly calls the execute method of NormalizeImageFilter in order to support a procedural API\n",
      "    \n",
      "    \n",
      "    See:\n",
      "     itk::simple::NormalizeImageFilter for the object oriented interface\n",
      "\n"
     ]
    }
   ],
   "source": [
    "help(sitk.Normalize)"
   ]
  },
  {
   "cell_type": "code",
   "execution_count": 6,
   "metadata": {},
   "outputs": [],
   "source": [
    "tar_dim = [120,144,136]\n",
    "\n",
    "crop= [([0,0,0],[0,0,0]),\n",
    "       ([0,0,0],[0,0,0]),\n",
    "       ([2,8,36],[2,8,18]),\n",
    "       ([2,0,54],[2,0,0]),\n",
    "       ([2,20,44],[2,13,0]),\n",
    "       ([2,17,50],[2,16,14]),\n",
    "       ([2,17,44],[2,16,0]),\n",
    "       ([2,17,50],[2,16,14])]\n",
    "\n",
    "pad = [([0,2,3],[0,2,3]),\n",
    "       ([0,2,3],[0,2,3]),\n",
    "       ([0,0,0],[0,0,0]),\n",
    "       ([0,2,0],[0,2,0]),\n",
    "       ([0,0,0],[0,0,0]),\n",
    "       ([0,0,0],[0,0,0]),\n",
    "       ([0,0,0],[0,0,0]),\n",
    "       ([0,0,0],[0,0,0])]"
   ]
  },
  {
   "cell_type": "code",
   "execution_count": 7,
   "metadata": {},
   "outputs": [],
   "source": [
    "for i in np.arange(1,9):\n",
    "    pad_l = pad[i-1][0]\n",
    "    pad_u = pad[i-1][1]\n",
    "    crop_l = crop[i-1][0]\n",
    "    crop_u = crop[i-1][1]\n",
    "\n",
    "    for s in suf1:\n",
    "        for t,d in suf2.items():\n",
    "            im_cur = sitk.ReadImage(data_path+str(i)+s+t+'.nrrd')\n",
    "            ## Padding the image so that can be handled by 3D U-net\n",
    "            im_pad = sitk.ConstantPad(im_cur,pad_l,pad_u,constant=0)\n",
    "            im_crop = sitk.Crop(im_pad,crop_l,crop_u)\n",
    "            sitk.WriteImage(im_crop,normal_path+d+str(i)+s+'.nrrd')"
   ]
  },
  {
   "cell_type": "code",
   "execution_count": 3,
   "metadata": {},
   "outputs": [
    {
     "name": "stdout",
     "output_type": "stream",
     "text": [
      "((120, 144, 136), (120, 144, 136), (120, 144, 136), (1.0, 1.0, 1.0))\n",
      "(19, 117)\n",
      "(14, 131)\n",
      "(10, 109)\n",
      "((120, 144, 136), (120, 144, 136), (120, 144, 136), (1.0, 1.0, 1.0))\n",
      "(19, 117)\n",
      "(14, 131)\n",
      "(10, 109)\n",
      "((120, 144, 136), (120, 144, 136), (120, 144, 136), (1.0, 1.0, 1.0))\n",
      "(24, 119)\n",
      "(14, 130)\n",
      "(11, 104)\n",
      "((120, 144, 136), (120, 144, 136), (120, 144, 136), (1.0, 1.0, 1.0))\n",
      "(24, 119)\n",
      "(14, 130)\n",
      "(15, 108)\n",
      "((120, 144, 136), (120, 144, 136), (120, 144, 136), (1.0, 1.0, 1.0))\n",
      "(27, 114)\n",
      "(12, 125)\n",
      "(15, 104)\n",
      "((120, 144, 136), (120, 144, 136), (120, 144, 136), (1.0, 1.0, 1.0))\n",
      "(27, 114)\n",
      "(12, 125)\n",
      "(15, 104)\n",
      "((120, 144, 136), (120, 144, 136), (120, 144, 136), (1.0, 1.0, 1.0))\n",
      "(18, 113)\n",
      "(19, 131)\n",
      "(14, 104)\n",
      "((120, 144, 136), (120, 144, 136), (120, 144, 136), (1.0, 1.0, 1.0))\n",
      "(18, 113)\n",
      "(19, 131)\n",
      "(15, 105)\n",
      "((120, 144, 136), (120, 144, 136), (120, 144, 136), (0.9999977350234985, 1.0, 0.9999999403953552))\n",
      "(28, 129)\n",
      "(15, 130)\n",
      "(10, 111)\n",
      "((120, 144, 136), (120, 144, 136), (120, 144, 136), (0.9999977350234985, 1.0, 0.9999999403953552))\n",
      "(28, 129)\n",
      "(15, 130)\n",
      "(8, 109)\n",
      "((120, 144, 136), (120, 144, 136), (120, 144, 136), (0.9999988675117493, 0.9999995231628418, 0.9999998211860657))\n",
      "(24, 112)\n",
      "(19, 129)\n",
      "(10, 108)\n",
      "((120, 144, 136), (120, 144, 136), (120, 144, 136), (0.9999988675117493, 0.9999995231628418, 0.9999998211860657))\n",
      "(24, 112)\n",
      "(19, 129)\n",
      "(11, 109)\n",
      "((120, 144, 136), (120, 144, 136), (120, 144, 136), (1.000001072883606, 0.9999996423721313, 0.9999995231628418))\n",
      "(33, 124)\n",
      "(19, 130)\n",
      "(14, 106)\n",
      "((120, 144, 136), (120, 144, 136), (120, 144, 136), (1.000001072883606, 0.9999996423721313, 0.9999995231628418))\n",
      "(33, 124)\n",
      "(19, 130)\n",
      "(13, 105)\n",
      "((120, 144, 136), (120, 144, 136), (120, 144, 136), (0.9999982714653015, 0.9999996423721313, 0.9999995827674866))\n",
      "(27, 114)\n",
      "(19, 130)\n",
      "(15, 105)\n",
      "((120, 144, 136), (120, 144, 136), (120, 144, 136), (0.9999982714653015, 0.9999996423721313, 0.9999995827674866))\n",
      "(27, 114)\n",
      "(19, 130)\n",
      "(14, 104)\n"
     ]
    }
   ],
   "source": [
    "for i in im_num:\n",
    "    for s in suf1:\n",
    "        im_T1 = sitk.ReadImage(normal_path+'T1/'+str(i)+s+'.nrrd')\n",
    "        im_T2 = sitk.ReadImage(normal_path+'T2/'+str(i)+s+'.nrrd')\n",
    "        im_seg = sitk.ReadImage(normal_path+'seg/'+str(i)+s+'.nrrd')\n",
    "        print(im_T1.GetSize(),im_T2.GetSize(),im_seg.GetSize(),im_T1.GetSpacing())\n",
    "        im1_arr = sitk.GetArrayFromImage(im_T1)\n",
    "        print((min(np.where(im1_arr>0)[0]),max(np.where(im1_arr>0)[0])))\n",
    "        print((min(np.where(im1_arr>0)[1]),max(np.where(im1_arr>0)[1])))\n",
    "        print((min(np.where(im1_arr>0)[2]),max(np.where(im1_arr>0)[2])))"
   ]
  },
  {
   "cell_type": "code",
   "execution_count": null,
   "metadata": {},
   "outputs": [],
   "source": []
  }
 ],
 "metadata": {
  "kernelspec": {
   "display_name": "Python 2",
   "language": "python",
   "name": "python2"
  },
  "language_info": {
   "codemirror_mode": {
    "name": "ipython",
    "version": 3
   },
   "file_extension": ".py",
   "mimetype": "text/x-python",
   "name": "python",
   "nbconvert_exporter": "python",
   "pygments_lexer": "ipython3",
   "version": "3.5.2"
  }
 },
 "nbformat": 4,
 "nbformat_minor": 2
}
