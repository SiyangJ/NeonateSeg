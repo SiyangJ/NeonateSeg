{
 "cells": [
  {
   "cell_type": "code",
   "execution_count": 1,
   "metadata": {},
   "outputs": [
    {
     "name": "stdout",
     "output_type": "stream",
     "text": [
      "INFO:tensorflow:TensorFlow version 1.9.0\n",
      "CRITICAL:tensorflow:Optional Python module cv2 not found, please install cv2 and retry if the application fails.\n",
      "INFO:tensorflow:Available Image Loaders:\n",
      "['nibabel', 'skimage', 'pillow', 'simpleitk', 'dummy'].\n"
     ]
    }
   ],
   "source": [
    "import tensorflow as tf\n",
    "import sys\n",
    "import re\n",
    "import os\n",
    "sys.path.append('/nas/longleaf/home/siyangj/NiftyNet/')\n",
    "import niftynet as nn\n",
    "import numpy as np\n",
    "import matplotlib.pyplot as plt\n",
    "%matplotlib inline\n",
    "import SimpleITK as sitk\n",
    "\n",
    "data_path = '/proj/NIRAL/users/siyangj/myData/min_normal/'\n",
    "\n",
    "Bern_path = '/proj/NIRAL/users/siyangj/myData/BernNet/'\n"
   ]
  },
  {
   "cell_type": "code",
   "execution_count": 2,
   "metadata": {},
   "outputs": [],
   "source": [
    "im_range = range(1,9)\n",
    "im_dict = {'T1':'T1','T2':'T2','seg':'label'}"
   ]
  },
  {
   "cell_type": "code",
   "execution_count": 3,
   "metadata": {},
   "outputs": [],
   "source": [
    "for i in im_range:\n",
    "    for k,t in im_dict.items():\n",
    "        sitk.WriteImage(sitk.ReadImage(os.path.join(data_path,\n",
    "                                                    k,\n",
    "                                                    '{:d}.nrrd'.format(i))),\n",
    "                       os.path.join(Bern_path,\n",
    "                                    'subject-{:d}'.format(i),\n",
    "                                    'subject-{:d}-{}.nii.gz'.format(i,t)))"
   ]
  },
  {
   "cell_type": "code",
   "execution_count": null,
   "metadata": {},
   "outputs": [],
   "source": []
  }
 ],
 "metadata": {
  "kernelspec": {
   "display_name": "Python 2",
   "language": "python",
   "name": "python2"
  },
  "language_info": {
   "codemirror_mode": {
    "name": "ipython",
    "version": 3
   },
   "file_extension": ".py",
   "mimetype": "text/x-python",
   "name": "python",
   "nbconvert_exporter": "python",
   "pygments_lexer": "ipython3",
   "version": "3.5.2"
  }
 },
 "nbformat": 4,
 "nbformat_minor": 2
}
