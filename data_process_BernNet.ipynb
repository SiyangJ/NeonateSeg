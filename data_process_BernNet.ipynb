{
 "cells": [
  {
   "cell_type": "code",
   "execution_count": 7,
   "metadata": {},
   "outputs": [],
   "source": [
    "import tensorflow as tf\n",
    "import sys\n",
    "import re\n",
    "import os\n",
    "sys.path.append('/nas/longleaf/home/siyangj/NiftyNet/')\n",
    "import niftynet as nn\n",
    "import numpy as np\n",
    "import matplotlib.pyplot as plt\n",
    "%matplotlib inline\n",
    "import SimpleITK as sitk\n",
    "\n",
    "data_path = '/proj/NIRAL/users/siyangj/myData/min_normal/no_cerebellum/'\n",
    "\n",
    "Bern_path = '/proj/NIRAL/users/siyangj/myData/BernNet/NoCerebellum_Test/'\n"
   ]
  },
  {
   "cell_type": "code",
   "execution_count": 2,
   "metadata": {},
   "outputs": [],
   "source": [
    "im_dict = {'T1':'T1','T2':'T2','seg':'label'}"
   ]
  },
  {
   "cell_type": "code",
   "execution_count": 8,
   "metadata": {},
   "outputs": [],
   "source": [
    "for filename in os.listdir(data_path+'seg/'):\n",
    "    ID = filename[:-5]\n",
    "    os.mkdir(os.path.join(Bern_path,'subject-{:s}'.format(ID)))\n",
    "    for k,t in im_dict.items():\n",
    "        sitk.WriteImage(sitk.ReadImage(os.path.join(data_path,\n",
    "                                                    k,\n",
    "                                                    filename)),\n",
    "                       os.path.join(Bern_path,\n",
    "                                    'subject-{:s}'.format(ID),\n",
    "                                    'subject-{:s}-{}.nii.gz'.format(ID,t)))"
   ]
  },
  {
   "cell_type": "code",
   "execution_count": 8,
   "metadata": {},
   "outputs": [],
   "source": [
    "for i in [8,]:\n",
    "    for k,t in im_dict.items():\n",
    "        sitk.WriteImage(sitk.ReadImage(os.path.join(data_path,\n",
    "                                                    k,\n",
    "                                                    '{:d}.nrrd'.format(i))),\n",
    "                       os.path.join(Bern_path,\n",
    "                                    'subject-{:d}'.format(i),\n",
    "                                    'subject-{:d}-{:s}.nii.gz'.format(i,t)))"
   ]
  },
  {
   "cell_type": "code",
   "execution_count": 17,
   "metadata": {},
   "outputs": [],
   "source": [
    "Bern_path = '/proj/NIRAL/users/siyangj/myData/BernNet/NoCerebellum/'\n",
    "\n",
    "arr = sitk.GetArrayFromImage(sitk.ReadImage(\n",
    "    os.path.join(Bern_path,'subject-1','subject-1-label.nii.gz')))"
   ]
  },
  {
   "cell_type": "code",
   "execution_count": 18,
   "metadata": {},
   "outputs": [
    {
     "data": {
      "text/plain": [
       "<matplotlib.image.AxesImage at 0x7f455b3e2d68>"
      ]
     },
     "execution_count": 18,
     "metadata": {},
     "output_type": "execute_result"
    },
    {
     "data": {
      "image/png": "[encoded data removed]",
      "text/plain": [
       "<Figure size 432x288 with 1 Axes>"
      ]
     },
     "metadata": {
      "needs_background": "light"
     },
     "output_type": "display_data"
    }
   ],
   "source": [
    "plt.imshow(arr[20,:,:])"
   ]
  },
  {
   "cell_type": "code",
   "execution_count": null,
   "metadata": {},
   "outputs": [],
   "source": []
  }
 ],
 "metadata": {
  "kernelspec": {
   "display_name": "Python 3",
   "language": "python",
   "name": "python3"
  },
  "language_info": {
   "codemirror_mode": {
    "name": "ipython",
    "version": 3
   },
   "file_extension": ".py",
   "mimetype": "text/x-python",
   "name": "python",
   "nbconvert_exporter": "python",
   "pygments_lexer": "ipython3",
   "version": "3.6.7"
  }
 },
 "nbformat": 4,
 "nbformat_minor": 2
}
