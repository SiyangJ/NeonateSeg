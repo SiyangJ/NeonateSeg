{
 "cells": [
  {
   "cell_type": "code",
   "execution_count": 1,
   "metadata": {},
   "outputs": [],
   "source": [
    "#import tensorflow as tf\n",
    "import sys\n",
    "sys.path.append('/nas/longleaf/home/siyangj/NiftyNet/')\n",
    "#import niftynet as nn\n",
    "import numpy as np\n",
    "import matplotlib.pyplot as plt\n",
    "%matplotlib inline\n",
    "import SimpleITK as sitk\n",
    "\n",
    "import os\n",
    "\n",
    "data_path = '/proj/NIRAL/users/siyangj/myData/min_normal/'\n",
    "cr_path = '/proj/NIRAL/users/siyangj/myData/min_normal/no_cerebellum/'"
   ]
  },
  {
   "cell_type": "code",
   "execution_count": 2,
   "metadata": {},
   "outputs": [],
   "source": [
    "im_num = np.arange(1,9)"
   ]
  },
  {
   "cell_type": "code",
   "execution_count": 3,
   "metadata": {},
   "outputs": [],
   "source": [
    "for i in im_num:\n",
    "    T1 = sitk.GetArrayFromImage(sitk.ReadImage(os.path.join(data_path,'T1','{:d}.nrrd'.format(i))))\n",
    "    T2 = sitk.GetArrayFromImage(sitk.ReadImage(os.path.join(data_path,'T2','{:d}.nrrd'.format(i))))\n",
    "    seg= sitk.GetArrayFromImage(sitk.ReadImage(os.path.join(data_path,'seg_inf_1','{:d}.nrrd'.format(i))))\n",
    "    cr = sitk.GetArrayFromImage(sitk.ReadImage(os.path.join(data_path,'CerebellumMask','{:d}.nrrd'.format(i))))\n",
    "    \n",
    "    mask = cr==1\n",
    "    \n",
    "    T1[mask]=0\n",
    "    T2[mask]=0\n",
    "    seg[mask]=0\n",
    "    \n",
    "    sitk.WriteImage(sitk.GetImageFromArray(T1),os.path.join(cr_path,'T1','{:d}.nrrd'.format(i)))\n",
    "    sitk.WriteImage(sitk.GetImageFromArray(T2),os.path.join(cr_path,'T2','{:d}.nrrd'.format(i)))\n",
    "    sitk.WriteImage(sitk.GetImageFromArray(seg),os.path.join(cr_path,'seg','{:d}.nrrd'.format(i)))"
   ]
  },
  {
   "cell_type": "code",
   "execution_count": null,
   "metadata": {},
   "outputs": [],
   "source": []
  }
 ],
 "metadata": {
  "kernelspec": {
   "display_name": "Python 2",
   "language": "python",
   "name": "python2"
  },
  "language_info": {
   "codemirror_mode": {
    "name": "ipython",
    "version": 3
   },
   "file_extension": ".py",
   "mimetype": "text/x-python",
   "name": "python",
   "nbconvert_exporter": "python",
   "pygments_lexer": "ipython3",
   "version": "3.6.7"
  }
 },
 "nbformat": 4,
 "nbformat_minor": 2
}
