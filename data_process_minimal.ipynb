{
 "cells": [
  {
   "cell_type": "code",
   "execution_count": 1,
   "metadata": {},
   "outputs": [],
   "source": [
    "#import tensorflow as tf\n",
    "import sys\n",
    "sys.path.append('/nas/longleaf/home/siyangj/NiftyNet/')\n",
    "#import niftynet as nn\n",
    "import numpy as np\n",
    "import matplotlib.pyplot as plt\n",
    "%matplotlib inline\n",
    "import SimpleITK as sitk\n",
    "\n",
    "new_path = '/proj/NIRAL/users/siyangj/myData/minimal/'\n",
    "pad_path = '/proj/NIRAL/users/siyangj/myData/min_pad/'\n",
    "data_path = '/proj/NIRAL/users/siyangj/myData/normal/'\n",
    "normal_path = data_path\n",
    "mn_path = '/proj/NIRAL/users/siyangj/myData/min_normal/'"
   ]
  },
  {
   "cell_type": "code",
   "execution_count": 2,
   "metadata": {},
   "outputs": [],
   "source": [
    "im_num = np.arange(1,9)\n",
    "suf1 = ['','-flip']\n",
    "suf2 = ['seg/','T1/','T2/']\n",
    "cur_dim = np.array([130,140,120])\n",
    "tar_dim = np.array([136,144,120])\n",
    "dif_dim = tar_dim - cur_dim\n",
    "haf_dim = tar_dim / 2"
   ]
  },
  {
   "cell_type": "code",
   "execution_count": 60,
   "metadata": {},
   "outputs": [],
   "source": [
    "crop= [([10, 14, 19], [10, 12, 18]),\n",
    "        ([11, 14, 24], [15, 13, 16]),\n",
    "        ([15, 12, 27], [15, 18, 21]),\n",
    "        ([14, 19, 18], [15, 12, 22]),\n",
    "        ([10, 15, 28], [8, 13, 6]),\n",
    "        ([10, 19, 24], [11, 14, 23]),\n",
    "        ([14, 19, 33], [13, 13, 11]),\n",
    "        ([15, 19, 27], [14, 13, 21])]\n",
    "dim_minus_one = [120 - 1 ,144 - 1,136 - 1]\n",
    "for i in im_num:\n",
    "    im_T1 = sitk.ReadImage(data_path+'T1/'+str(i)+'.nrrd')\n",
    "    im_T2 = sitk.ReadImage(data_path+'T2/'+str(i)+'.nrrd')\n",
    "    im_seg = sitk.ReadImage(data_path+'seg/'+str(i)+'.nrrd')\n",
    "    #im1_arr = sitk.GetArrayFromImage(im_T1)\n",
    "    \n",
    "    #crop[i-1] = ([min(np.where(im1_arr>0)[2]),min(np.where(im1_arr>0)[1]),min(np.where(im1_arr>0)[0])],\n",
    "    #            [dim_minus_one[0] - max(np.where(im1_arr>0)[2]),\n",
    "    #             dim_minus_one[1] - max(np.where(im1_arr>0)[1]),\n",
    "    #             dim_minus_one[2] - max(np.where(im1_arr>0)[0])]\n",
    "    #            )\n",
    "    #print(crop[i-1])\n",
    "\n",
    "    im_new_T1 = sitk.Crop(im_T1,crop[i-1][0],crop[i-1][1])\n",
    "    sitk.WriteImage(im_new_T1,new_path+'T1/'+str(i)+'.nrrd')\n",
    "    im_new_T2 = sitk.Crop(im_T2,crop[i-1][0],crop[i-1][1])\n",
    "    sitk.WriteImage(im_new_T2,new_path+'T2/'+str(i)+'.nrrd')\n",
    "    im_new_seg = sitk.Crop(im_seg,crop[i-1][0],crop[i-1][1])\n",
    "    sitk.WriteImage(im_new_seg,new_path+'seg/'+str(i)+'.nrrd')"
   ]
  },
  {
   "cell_type": "code",
   "execution_count": 3,
   "metadata": {},
   "outputs": [],
   "source": [
    "crop= [([10, 14, 19], [10, 12, 18]),\n",
    "        ([11, 14, 24], [15, 13, 16]),\n",
    "        ([15, 12, 27], [15, 18, 21]),\n",
    "        ([14, 19, 18], [15, 12, 22]),\n",
    "        ([10, 15, 28], [8, 13, 6]),\n",
    "        ([10, 19, 24], [11, 14, 23]),\n",
    "        ([14, 19, 33], [13, 13, 11]),\n",
    "        ([15, 19, 27], [14, 13, 21])]\n",
    "dim_minus_one = [120 - 1 ,144 - 1,136 - 1]\n",
    "for i in [2,]:\n",
    "    im_T2 = sitk.ReadImage(data_path+'T2/'+str(i)+'.nrrd')\n",
    "\n",
    "    im_new_T2 = sitk.Crop(im_T2,crop[i-1][0],crop[i-1][1])\n",
    "    sitk.WriteImage(im_new_T2,new_path+'T2/'+str(i)+'.nrrd')"
   ]
  },
  {
   "cell_type": "code",
   "execution_count": 6,
   "metadata": {},
   "outputs": [
    {
     "name": "stdout",
     "output_type": "stream",
     "text": [
      "(94, 117, 96) (94, 117, 96) (94, 117, 96) (1.0, 1.0, 1.0)\n",
      "(0, 95)\n",
      "(0, 116)\n",
      "(0, 93)\n"
     ]
    }
   ],
   "source": [
    "for i in [2,]:\n",
    "    im_T1 = sitk.ReadImage(new_path+'T1/'+str(i)+'.nrrd')\n",
    "    im_T2 = sitk.ReadImage(new_path+'T2/'+str(i)+'.nrrd')\n",
    "    im_seg = sitk.ReadImage(new_path+'seg/'+str(i)+'.nrrd')\n",
    "    print(im_T1.GetSize(),im_T2.GetSize(),im_seg.GetSize(),im_T1.GetSpacing())\n",
    "    im2_arr = sitk.GetArrayFromImage(im_T2)\n",
    "    print((min(np.where(im2_arr>0)[0]),max(np.where(im2_arr>0)[0])))\n",
    "    print((min(np.where(im2_arr>0)[1]),max(np.where(im2_arr>0)[1])))\n",
    "    print((min(np.where(im2_arr>0)[2]),max(np.where(im2_arr>0)[2])))"
   ]
  },
  {
   "cell_type": "code",
   "execution_count": 25,
   "metadata": {},
   "outputs": [],
   "source": [
    "dim_minus_one = np.array([120,144,136])-1"
   ]
  },
  {
   "cell_type": "code",
   "execution_count": 26,
   "metadata": {},
   "outputs": [
    {
     "data": {
      "text/plain": [
       "array([119, 143, 135])"
      ]
     },
     "execution_count": 26,
     "metadata": {},
     "output_type": "execute_result"
    }
   ],
   "source": [
    "dim_minus_one"
   ]
  },
  {
   "cell_type": "code",
   "execution_count": 58,
   "metadata": {},
   "outputs": [
    {
     "data": {
      "text/plain": [
       "numpy.uint32"
      ]
     },
     "execution_count": 58,
     "metadata": {},
     "output_type": "execute_result"
    }
   ],
   "source": [
    "type(np.array([0,0,0]).astype(np.uint32)[0])"
   ]
  },
  {
   "cell_type": "code",
   "execution_count": 54,
   "metadata": {},
   "outputs": [
    {
     "data": {
      "text/plain": [
       "numpy.int32"
      ]
     },
     "execution_count": 54,
     "metadata": {},
     "output_type": "execute_result"
    }
   ],
   "source": [
    "np.int32"
   ]
  },
  {
   "cell_type": "code",
   "execution_count": 4,
   "metadata": {},
   "outputs": [
    {
     "name": "stdout",
     "output_type": "stream",
     "text": [
      "(100, 118, 99) (100, 118, 99) (100, 118, 99) (1.0, 1.0, 1.0)\n",
      "(0, 98)\n",
      "(0, 117)\n",
      "(0, 99)\n",
      "(94, 117, 96) (94, 117, 96) (94, 117, 96) (1.0, 1.0, 1.0)\n",
      "(0, 95)\n",
      "(0, 116)\n",
      "(0, 93)\n",
      "(90, 114, 88) (90, 114, 88) (90, 114, 88) (1.0, 1.0, 1.0)\n",
      "(0, 87)\n",
      "(0, 113)\n",
      "(0, 89)\n",
      "(91, 113, 96) (91, 113, 96) (91, 113, 96) (1.0, 1.0, 1.0)\n",
      "(0, 95)\n",
      "(0, 112)\n",
      "(0, 90)\n",
      "(102, 116, 102) (102, 116, 102) (102, 116, 102) (0.9999977350234985, 1.0, 0.9999999403953552)\n",
      "(0, 101)\n",
      "(0, 115)\n",
      "(0, 101)\n",
      "(99, 111, 89) (99, 111, 89) (99, 111, 89) (0.9999988675117493, 0.9999995231628418, 0.9999998211860657)\n",
      "(0, 88)\n",
      "(0, 110)\n",
      "(0, 98)\n",
      "(93, 112, 92) (93, 112, 92) (93, 112, 92) (1.000001072883606, 0.9999996423721313, 0.9999995231628418)\n",
      "(0, 91)\n",
      "(0, 111)\n",
      "(0, 92)\n",
      "(91, 112, 88) (91, 112, 88) (91, 112, 88) (0.9999982714653015, 0.9999996423721313, 0.9999995827674866)\n",
      "(0, 87)\n",
      "(0, 111)\n",
      "(0, 90)\n"
     ]
    }
   ],
   "source": [
    "for i in im_num:\n",
    "    im_T1 = sitk.ReadImage(new_path+'T1/'+str(i)+'.nrrd')\n",
    "    im_T2 = sitk.ReadImage(new_path+'T2/'+str(i)+'.nrrd')\n",
    "    im_seg = sitk.ReadImage(new_path+'seg/'+str(i)+'.nrrd')\n",
    "    print(im_T1.GetSize(),im_T2.GetSize(),im_seg.GetSize(),im_T1.GetSpacing())\n",
    "    im1_arr = sitk.GetArrayFromImage(im_T1)\n",
    "    print((min(np.where(im1_arr>0)[0]),max(np.where(im1_arr>0)[0])))\n",
    "    print((min(np.where(im1_arr>0)[1]),max(np.where(im1_arr>0)[1])))\n",
    "    print((min(np.where(im1_arr>0)[2]),max(np.where(im1_arr>0)[2])))"
   ]
  },
  {
   "cell_type": "code",
   "execution_count": 32,
   "metadata": {},
   "outputs": [],
   "source": [
    "min_dim = 96\n",
    "\n",
    "\n",
    "for i in im_num:\n",
    "    im_T1 = sitk.ReadImage(new_path+'T1/'+str(i)+'.nrrd')\n",
    "    im_T2 = sitk.ReadImage(new_path+'T2/'+str(i)+'.nrrd')\n",
    "    im_seg = sitk.ReadImage(new_path+'seg/'+str(i)+'.nrrd')\n",
    "    \n",
    "    im_size = im_T1.GetSize()\n",
    "    dim_diff = [0,0,0]\n",
    "    pad_l = [0,0,0]\n",
    "    pad_u = [0,0,0]\n",
    "        \n",
    "    for d in range(3):\n",
    "        if (im_size[d] < min_dim):\n",
    "            dim_diff[d] = min_dim-im_size[d]\n",
    "            pad_l[d] = round(dim_diff[d]/2)\n",
    "            pad_u[d] = dim_diff[d]-pad_l[d]\n",
    "            \n",
    "    im_new_T1 = sitk.ConstantPad(im_T1,pad_l,pad_u,constant=0)\n",
    "    sitk.WriteImage(im_new_T1,pad_path+'T1/'+str(i)+'.nrrd')\n",
    "    im_new_T2 = sitk.ConstantPad(im_T2,pad_l,pad_u,constant=0)\n",
    "    sitk.WriteImage(im_new_T2,pad_path+'T2/'+str(i)+'.nrrd')\n",
    "    im_new_seg = sitk.ConstantPad(im_seg,pad_l,pad_u,constant=0)\n",
    "    sitk.WriteImage(im_new_seg,pad_path+'seg/'+str(i)+'.nrrd')"
   ]
  },
  {
   "cell_type": "code",
   "execution_count": 33,
   "metadata": {},
   "outputs": [
    {
     "name": "stdout",
     "output_type": "stream",
     "text": [
      "(100, 118, 99) (100, 118, 99) (100, 118, 99) (1.0, 1.0, 1.0)\n",
      "(0, 98)\n",
      "(0, 117)\n",
      "(0, 99)\n",
      "(96, 117, 96) (96, 117, 96) (96, 117, 96) (1.0, 1.0, 1.0)\n",
      "(0, 95)\n",
      "(0, 116)\n",
      "(1, 94)\n",
      "(96, 114, 96) (96, 114, 96) (96, 114, 96) (1.0, 1.0, 1.0)\n",
      "(4, 91)\n",
      "(0, 113)\n",
      "(3, 92)\n",
      "(96, 113, 96) (96, 113, 96) (96, 113, 96) (1.0, 1.0, 1.0)\n",
      "(0, 95)\n",
      "(0, 112)\n",
      "(2, 92)\n",
      "(102, 116, 102) (102, 116, 102) (102, 116, 102) (0.9999977350234985, 1.0, 0.9999999403953552)\n",
      "(0, 101)\n",
      "(0, 115)\n",
      "(0, 101)\n",
      "(99, 111, 96) (99, 111, 96) (99, 111, 96) (0.9999988675117493, 0.9999995231628418, 0.9999998211860657)\n",
      "(4, 92)\n",
      "(0, 110)\n",
      "(0, 98)\n",
      "(96, 112, 96) (96, 112, 96) (96, 112, 96) (1.000001072883606, 0.9999996423721313, 0.9999995231628418)\n",
      "(2, 93)\n",
      "(0, 111)\n",
      "(2, 94)\n",
      "(96, 112, 96) (96, 112, 96) (96, 112, 96) (0.9999982714653015, 0.9999996423721313, 0.9999995827674866)\n",
      "(4, 91)\n",
      "(0, 111)\n",
      "(2, 92)\n"
     ]
    }
   ],
   "source": [
    "for i in im_num:\n",
    "    im_T1 = sitk.ReadImage(pad_path+'T1/'+str(i)+'.nrrd')\n",
    "    im_T2 = sitk.ReadImage(pad_path+'T2/'+str(i)+'.nrrd')\n",
    "    im_seg = sitk.ReadImage(pad_path+'seg/'+str(i)+'.nrrd')\n",
    "    print(im_T1.GetSize(),im_T2.GetSize(),im_seg.GetSize(),im_T1.GetSpacing())\n",
    "    im1_arr = sitk.GetArrayFromImage(im_T1)\n",
    "    print((min(np.where(im1_arr>0)[0]),max(np.where(im1_arr>0)[0])))\n",
    "    print((min(np.where(im1_arr>0)[1]),max(np.where(im1_arr>0)[1])))\n",
    "    print((min(np.where(im1_arr>0)[2]),max(np.where(im1_arr>0)[2])))"
   ]
  },
  {
   "cell_type": "code",
   "execution_count": 4,
   "metadata": {},
   "outputs": [
    {
     "name": "stdout",
     "output_type": "stream",
     "text": [
      "(1, [0, 0, 0], [0, 0, 0])\n",
      "(1, [2, 3, 2], [2, 3, 1])\n",
      "(2, [1, 0, 0], [1, 0, 0])\n",
      "(2, [0, 2, 0], [0, 3, 0])\n",
      "(3, [3, 0, 4], [3, 0, 4])\n",
      "(3, [0, 1, 0], [0, 1, 0])\n",
      "(4, [2, 0, 0], [3, 0, 0])\n",
      "(4, [0, 0, 0], [0, 1, 0])\n",
      "(5, [0, 0, 0], [0, 0, 0])\n",
      "(5, [3, 2, 3], [3, 2, 3])\n",
      "(6, [0, 0, 4], [0, 1, 3])\n",
      "(6, [2, 0, 0], [1, 0, 0])\n",
      "(7, [2, 0, 2], [1, 0, 2])\n",
      "(7, [0, 0, 0], [0, 0, 0])\n",
      "(8, [2, 0, 4], [3, 0, 4])\n",
      "(8, [0, 0, 0], [0, 0, 0])\n"
     ]
    }
   ],
   "source": [
    "min_dim = [96,112,96]\n",
    "\n",
    "\n",
    "for i in im_num:\n",
    "    im_T1 = sitk.ReadImage(new_path+'T1/'+str(i)+'.nrrd')\n",
    "    im_T2 = sitk.ReadImage(new_path+'T2/'+str(i)+'.nrrd')\n",
    "    im_seg = sitk.ReadImage(new_path+'seg/'+str(i)+'.nrrd')\n",
    "    \n",
    "    im_size = im_T1.GetSize()\n",
    "    dim_diff = [0,0,0]\n",
    "    pad_l = [0,0,0]\n",
    "    pad_u = [0,0,0]\n",
    "        \n",
    "    for d in range(3):\n",
    "        if (im_size[d] < min_dim[d]):\n",
    "            dim_diff[d] = min_dim[d]-im_size[d]\n",
    "            pad_l[d] = round(dim_diff[d]/2)\n",
    "            pad_u[d] = dim_diff[d]-pad_l[d]\n",
    "    \n",
    "    print((i,pad_l,pad_u))\n",
    "    im_T1 = sitk.ConstantPad(im_T1,pad_l,pad_u,constant=0)\n",
    "    im_T2 = sitk.ConstantPad(im_T2,pad_l,pad_u,constant=0)\n",
    "    im_seg = sitk.ConstantPad(im_seg,pad_l,pad_u,constant=0)\n",
    "    \n",
    "    dim_diff = [0,0,0]\n",
    "    pad_l = [0,0,0]\n",
    "    pad_u = [0,0,0]\n",
    "    for d in range(3):\n",
    "        if (im_size[d] > min_dim[d]):\n",
    "            dim_diff[d] = im_size[d]-min_dim[d]\n",
    "            pad_l[d] = round(dim_diff[d]/2)\n",
    "            pad_u[d] = dim_diff[d]-pad_l[d]\n",
    "    \n",
    "    print((i,pad_l,pad_u))\n",
    "    im_new_T1 = sitk.Crop(im_T1,pad_l,pad_u)\n",
    "    sitk.WriteImage(im_new_T1,mn_path+'T1/'+str(i)+'.nrrd')\n",
    "    im_new_T2 = sitk.Crop(im_T2,pad_l,pad_u)\n",
    "    sitk.WriteImage(im_new_T2,mn_path+'T2/'+str(i)+'.nrrd')\n",
    "    im_new_seg = sitk.Crop(im_seg,pad_l,pad_u)\n",
    "    sitk.WriteImage(im_new_seg,mn_path+'seg/'+str(i)+'.nrrd')\n",
    "    \n",
    "    "
   ]
  },
  {
   "cell_type": "code",
   "execution_count": 7,
   "metadata": {},
   "outputs": [
    {
     "name": "stdout",
     "output_type": "stream",
     "text": [
      "(2, [1, 0, 0], [1, 0, 0])\n",
      "(2, [0, 2, 0], [0, 3, 0])\n"
     ]
    }
   ],
   "source": [
    "min_dim = [96,112,96]\n",
    "\n",
    "\n",
    "for i in [2,]:\n",
    "    im_T2 = sitk.ReadImage(new_path+'T2/'+str(i)+'.nrrd')    \n",
    "    im_size = im_T2.GetSize()\n",
    "    dim_diff = [0,0,0]\n",
    "    pad_l = [0,0,0]\n",
    "    pad_u = [0,0,0]\n",
    "        \n",
    "    for d in range(3):\n",
    "        if (im_size[d] < min_dim[d]):\n",
    "            dim_diff[d] = min_dim[d]-im_size[d]\n",
    "            pad_l[d] = round(dim_diff[d]/2)\n",
    "            pad_u[d] = dim_diff[d]-pad_l[d]\n",
    "    \n",
    "    print((i,pad_l,pad_u))\n",
    "    im_T2 = sitk.ConstantPad(im_T2,pad_l,pad_u,constant=0)\n",
    "    \n",
    "    dim_diff = [0,0,0]\n",
    "    pad_l = [0,0,0]\n",
    "    pad_u = [0,0,0]\n",
    "    for d in range(3):\n",
    "        if (im_size[d] > min_dim[d]):\n",
    "            dim_diff[d] = im_size[d]-min_dim[d]\n",
    "            pad_l[d] = round(dim_diff[d]/2)\n",
    "            pad_u[d] = dim_diff[d]-pad_l[d]\n",
    "    \n",
    "    print((i,pad_l,pad_u))\n",
    "\n",
    "    im_new_T2 = sitk.Crop(im_T2,pad_l,pad_u)\n",
    "    sitk.WriteImage(im_new_T2,mn_path+'T2/'+str(i)+'.nrrd')\n"
   ]
  },
  {
   "cell_type": "code",
   "execution_count": 5,
   "metadata": {},
   "outputs": [
    {
     "name": "stdout",
     "output_type": "stream",
     "text": [
      "(96, 112, 96) (96, 112, 96) (96, 112, 96) (1.0, 1.0, 1.0)\n",
      "(0, 95)\n",
      "(0, 111)\n",
      "(0, 95)\n",
      "(96, 112, 96) (96, 112, 96) (96, 112, 96) (1.0, 1.0, 1.0)\n",
      "(0, 95)\n",
      "(0, 111)\n",
      "(1, 94)\n",
      "(96, 112, 96) (96, 112, 96) (96, 112, 96) (1.0, 1.0, 1.0)\n",
      "(4, 91)\n",
      "(0, 111)\n",
      "(3, 92)\n",
      "(96, 112, 96) (96, 112, 96) (96, 112, 96) (1.0, 1.0, 1.0)\n",
      "(0, 95)\n",
      "(0, 111)\n",
      "(2, 92)\n",
      "(96, 112, 96) (96, 112, 96) (96, 112, 96) (0.9999977350234985, 1.0, 0.9999999403953552)\n",
      "(0, 95)\n",
      "(0, 111)\n",
      "(0, 95)\n",
      "(96, 112, 96) (96, 112, 96) (96, 112, 96) (0.9999988675117493, 0.9999995231628418, 0.9999998211860657)\n",
      "(4, 92)\n",
      "(0, 110)\n",
      "(0, 95)\n",
      "(96, 112, 96) (96, 112, 96) (96, 112, 96) (1.000001072883606, 0.9999996423721313, 0.9999995231628418)\n",
      "(2, 93)\n",
      "(0, 111)\n",
      "(2, 94)\n",
      "(96, 112, 96) (96, 112, 96) (96, 112, 96) (0.9999982714653015, 0.9999996423721313, 0.9999995827674866)\n",
      "(4, 91)\n",
      "(0, 111)\n",
      "(2, 92)\n"
     ]
    }
   ],
   "source": [
    "for i in im_num:\n",
    "    im_T1 = sitk.ReadImage(mn_path+'T1/'+str(i)+'.nrrd')\n",
    "    im_T2 = sitk.ReadImage(mn_path+'T2/'+str(i)+'.nrrd')\n",
    "    im_seg = sitk.ReadImage(mn_path+'seg/'+str(i)+'.nrrd')\n",
    "    print(im_T1.GetSize(),im_T2.GetSize(),im_seg.GetSize(),im_T1.GetSpacing())\n",
    "    im1_arr = sitk.GetArrayFromImage(im_T1)\n",
    "    print((min(np.where(im1_arr>0)[0]),max(np.where(im1_arr>0)[0])))\n",
    "    print((min(np.where(im1_arr>0)[1]),max(np.where(im1_arr>0)[1])))\n",
    "    print((min(np.where(im1_arr>0)[2]),max(np.where(im1_arr>0)[2])))"
   ]
  },
  {
   "cell_type": "code",
   "execution_count": 38,
   "metadata": {},
   "outputs": [
    {
     "data": {
      "text/plain": [
       "'/proj/NIRAL/users/siyangj/myData/mid_normal/'"
      ]
     },
     "execution_count": 38,
     "metadata": {},
     "output_type": "execute_result"
    }
   ],
   "source": [
    "mn_path"
   ]
  },
  {
   "cell_type": "code",
   "execution_count": null,
   "metadata": {},
   "outputs": [],
   "source": []
  }
 ],
 "metadata": {
  "kernelspec": {
   "display_name": "Python 2",
   "language": "python",
   "name": "python2"
  },
  "language_info": {
   "codemirror_mode": {
    "name": "ipython",
    "version": 3
   },
   "file_extension": ".py",
   "mimetype": "text/x-python",
   "name": "python",
   "nbconvert_exporter": "python",
   "pygments_lexer": "ipython3",
   "version": "3.5.2"
  }
 },
 "nbformat": 4,
 "nbformat_minor": 2
}
