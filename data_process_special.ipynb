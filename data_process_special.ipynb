{
 "cells": [
  {
   "cell_type": "code",
   "execution_count": 1,
   "metadata": {},
   "outputs": [
    {
     "name": "stdout",
     "output_type": "stream",
     "text": [
      "INFO:tensorflow:TensorFlow version 1.9.0\n",
      "CRITICAL:tensorflow:Optional Python module cv2 not found, please install cv2 and retry if the application fails.\n",
      "INFO:tensorflow:Available Image Loaders:\n",
      "['nibabel', 'skimage', 'pillow', 'simpleitk', 'dummy'].\n"
     ]
    }
   ],
   "source": [
    "import tensorflow as tf\n",
    "import sys\n",
    "sys.path.append('/nas/longleaf/home/siyangj/NiftyNet/')\n",
    "import niftynet as nn\n",
    "import numpy as np\n",
    "import matplotlib.pyplot as plt\n",
    "%matplotlib inline\n",
    "import SimpleITK as sitk\n",
    "\n",
    "new_path = '/proj/NIRAL/users/siyangj/myData/special/100/'\n",
    "data_path = '/proj/NIRAL/users/siyangj/myData/normal/'\n"
   ]
  },
  {
   "cell_type": "code",
   "execution_count": 2,
   "metadata": {},
   "outputs": [],
   "source": [
    "im_num = np.arange(1,9)\n",
    "suf2 = ['seg/','T1/','T2/']\n"
   ]
  },
  {
   "cell_type": "code",
   "execution_count": 5,
   "metadata": {},
   "outputs": [
    {
     "name": "stdout",
     "output_type": "stream",
     "text": [
      "(7, [0, 0, 0], [0, 0, 0])\n",
      "(7, [10, 22, 18], [10, 22, 18])\n"
     ]
    }
   ],
   "source": [
    "min_dim = [100,100,100]\n",
    "\n",
    "i = 7\n",
    "\n",
    "im_T1 = sitk.ReadImage(data_path+'T1/'+str(i)+'.nrrd')\n",
    "im_T2 = sitk.ReadImage(data_path+'T2/'+str(i)+'.nrrd')\n",
    "im_seg = sitk.ReadImage(data_path+'seg/'+str(i)+'.nrrd')\n",
    "\n",
    "im_size = im_T1.GetSize()\n",
    "dim_diff = [0,0,0]\n",
    "pad_l = [0,0,0]\n",
    "pad_u = [0,0,0]\n",
    "\n",
    "for d in range(3):\n",
    "    if (im_size[d] < min_dim[d]):\n",
    "        dim_diff[d] = min_dim[d]-im_size[d]\n",
    "        pad_l[d] = round(dim_diff[d]/2)\n",
    "        pad_u[d] = dim_diff[d]-pad_l[d]\n",
    "\n",
    "print((i,pad_l,pad_u))\n",
    "im_T1 = sitk.ConstantPad(im_T1,pad_l,pad_u,constant=0)\n",
    "im_T2 = sitk.ConstantPad(im_T2,pad_l,pad_u,constant=0)\n",
    "im_seg = sitk.ConstantPad(im_seg,pad_l,pad_u,constant=0)\n",
    "\n",
    "dim_diff = [0,0,0]\n",
    "pad_l = [0,0,0]\n",
    "pad_u = [0,0,0]\n",
    "for d in range(3):\n",
    "    if (im_size[d] > min_dim[d]):\n",
    "        dim_diff[d] = im_size[d]-min_dim[d]\n",
    "        pad_l[d] = round(dim_diff[d]/2)\n",
    "        pad_u[d] = dim_diff[d]-pad_l[d]\n",
    "\n",
    "print((i,pad_l,pad_u))\n",
    "im_new_T1 = sitk.Crop(im_T1,pad_l,pad_u)\n",
    "sitk.WriteImage(im_new_T1,new_path+'T1/'+str(i)+'.nrrd')\n",
    "im_new_T2 = sitk.Crop(im_T2,pad_l,pad_u)\n",
    "sitk.WriteImage(im_new_T2,new_path+'T2/'+str(i)+'.nrrd')\n",
    "im_new_seg = sitk.Crop(im_seg,pad_l,pad_u)\n",
    "sitk.WriteImage(im_new_seg,new_path+'seg/'+str(i)+'.nrrd')\n",
    "    "
   ]
  },
  {
   "cell_type": "code",
   "execution_count": 7,
   "metadata": {},
   "outputs": [],
   "source": [
    "im_test = sitk.ReadImage('/proj/NIRAL/users/siyangj/model_09270501/inference_test/7_niftynet_out.nii.gz')\n",
    "arr_test = sitk.GetArrayFromImage(im_test)"
   ]
  },
  {
   "cell_type": "code",
   "execution_count": 12,
   "metadata": {},
   "outputs": [
    {
     "data": {
      "text/plain": [
       "<matplotlib.image.AxesImage at 0x7f37400ed160>"
      ]
     },
     "execution_count": 12,
     "metadata": {},
     "output_type": "execute_result"
    },
    {
     "data": {
      "image/png": "[encoded data removed]",
      "text/plain": [
       "<Figure size 432x288 with 1 Axes>"
      ]
     },
     "metadata": {},
     "output_type": "display_data"
    }
   ],
   "source": [
    "plt.imshow(arr_test[80,10:60,10:60])"
   ]
  },
  {
   "cell_type": "code",
   "execution_count": 2,
   "metadata": {},
   "outputs": [],
   "source": [
    "sys.path.append('/nas/longleaf/home/siyangj/niftynet/extensions/network/my_nets/')"
   ]
  },
  {
   "cell_type": "code",
   "execution_count": 3,
   "metadata": {},
   "outputs": [],
   "source": [
    "from unet88 import unet88\n",
    "from niftynet.network.unet import UNet3D\n",
    "from my_unet import my_UNet3D\n",
    "from my_unet_layer_2 import my_unet_layer_2"
   ]
  },
  {
   "cell_type": "code",
   "execution_count": 9,
   "metadata": {},
   "outputs": [],
   "source": [
    "var = tf.get_variable('test_var_11',[64,100,100,100,1])\n",
    "var2 = tf.get_variable('test_var_22',[64,96,96,96,1])\n",
    "var3 = tf.get_variable('test_var_33',[64,32,32,32,1])"
   ]
  },
  {
   "cell_type": "code",
   "execution_count": 5,
   "metadata": {},
   "outputs": [
    {
     "name": "stdout",
     "output_type": "stream",
     "text": [
      "using unet88\n",
      "using UNet\n",
      "using my_UNet\n",
      "using my_unet_layer_2\n"
     ]
    }
   ],
   "source": [
    "test_layer_1 = unet88(1)\n",
    "test_layer_2 = UNet3D(2)\n",
    "test_layer_3 = my_UNet3D(3)\n",
    "test_layer_4 = my_unet_layer_2(4)"
   ]
  },
  {
   "cell_type": "code",
   "execution_count": 6,
   "metadata": {},
   "outputs": [
    {
     "data": {
      "text/plain": [
       "<my_unet_layer_2.my_unet_layer_2 at 0x7f41bee64a20>"
      ]
     },
     "execution_count": 6,
     "metadata": {},
     "output_type": "execute_result"
    }
   ],
   "source": [
    "test_layer_4"
   ]
  },
  {
   "cell_type": "code",
   "execution_count": 10,
   "metadata": {},
   "outputs": [
    {
     "name": "stdout",
     "output_type": "stream",
     "text": [
      "\u001b[42m[Layer]\u001b[0m my_unet_layer_2/L1 \u001b[92m[Trainable]\u001b[0m 32_bn_prelu/conv_/w, 32_bn_prelu/bn_/beta, 32_bn_prelu/bn_/gamma, 32_bn_prelu/prelu_acti_/alpha, 64_bn_prelu/conv_/w, 64_bn_prelu/bn_/beta, 64_bn_prelu/bn_/gamma, 64_bn_prelu/prelu_acti_/alpha (56448)\n",
      "\u001b[42m[Layer]\u001b[0m my_unet_layer_2/L2 \u001b[92m[Trainable]\u001b[0m 64_bn_prelu/conv_/w, 64_bn_prelu/bn_/beta, 64_bn_prelu/bn_/gamma, 64_bn_prelu/prelu_acti_/alpha, 128_bn_prelu/conv_/w, 128_bn_prelu/bn_/beta, 128_bn_prelu/bn_/gamma, 128_bn_prelu/prelu_acti_/alpha (332352)\n",
      "\u001b[42m[Layer]\u001b[0m my_unet_layer_2/L4 \u001b[92m[Trainable]\u001b[0m 128_bn_prelu/conv_/w, 128_bn_prelu/bn_/beta, 128_bn_prelu/bn_/gamma, 128_bn_prelu/prelu_acti_/alpha, 256_bn_prelu/conv_/w, 256_bn_prelu/bn_/beta, 256_bn_prelu/bn_/gamma, 256_bn_prelu/prelu_acti_/alpha, up_2x2_bn/deconv_/w, up_2x2_bn/bn_/beta, up_2x2_bn/bn_/gamma (1853056)\n",
      "\u001b[42m[Layer]\u001b[0m my_unet_layer_2/R2 \u001b[92m[Trainable]\u001b[0m 128_bn_prelu/conv_/w, 128_bn_prelu/bn_/beta, 128_bn_prelu/bn_/gamma, 128_bn_prelu/prelu_acti_/alpha, 128_bn_prelu_1/conv_/w, 128_bn_prelu_1/bn_/beta, 128_bn_prelu_1/bn_/gamma, 128_bn_prelu_1/prelu_acti_/alpha, up_2x2_bn/deconv_/w, up_2x2_bn/bn_/beta, up_2x2_bn/bn_/gamma (1901568)\n",
      "\u001b[42m[Layer]\u001b[0m my_unet_layer_2/R1_FC \u001b[92m[Trainable]\u001b[0m 64_bn_prelu/conv_/w, 64_bn_prelu/bn_/beta, 64_bn_prelu/bn_/gamma, 64_bn_prelu/prelu_acti_/alpha, 64_bn_prelu_1/conv_/w, 64_bn_prelu_1/bn_/beta, 64_bn_prelu_1/bn_/gamma, 64_bn_prelu_1/prelu_acti_/alpha, 4_bn_prelu/conv_/w, 4_bn_prelu/bn_/beta, 4_bn_prelu/bn_/gamma, 4_bn_prelu/prelu_acti_/alpha (443020)\n",
      "Tensor(\"my_unet_layer_2/R1_FC/4_bn_prelu/prelu_acti_/add:0\", shape=(64, 32, 32, 32, 4), dtype=float32)\n"
     ]
    }
   ],
   "source": [
    "with tf.Session():\n",
    "    \n",
    "    #out1 = test_layer_1(var)\n",
    "    #out2 = test_layer_2(var2)\n",
    "    #out3 = test_layer_3(var2)\n",
    "    out4 = test_layer_4(var3)\n",
    "    #print(out1)\n",
    "    #print(out2)\n",
    "    #print(out3)\n",
    "    print(out4)"
   ]
  },
  {
   "cell_type": "code",
   "execution_count": null,
   "metadata": {},
   "outputs": [],
   "source": []
  }
 ],
 "metadata": {
  "kernelspec": {
   "display_name": "Python 2",
   "language": "python",
   "name": "python2"
  },
  "language_info": {
   "codemirror_mode": {
    "name": "ipython",
    "version": 3
   },
   "file_extension": ".py",
   "mimetype": "text/x-python",
   "name": "python",
   "nbconvert_exporter": "python",
   "pygments_lexer": "ipython3",
   "version": "3.5.2"
  }
 },
 "nbformat": 4,
 "nbformat_minor": 2
}
