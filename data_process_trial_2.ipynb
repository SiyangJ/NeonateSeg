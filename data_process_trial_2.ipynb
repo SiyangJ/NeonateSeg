{
 "cells": [
  {
   "cell_type": "code",
   "execution_count": 122,
   "metadata": {},
   "outputs": [],
   "source": [
    "import tensorflow as tf\n",
    "import sys\n",
    "import re\n",
    "import os\n",
    "sys.path.append('/nas/longleaf/home/siyangj/NiftyNet/')\n",
    "import niftynet as nn\n",
    "import numpy as np\n",
    "import matplotlib.pyplot as plt\n",
    "%matplotlib inline\n",
    "import SimpleITK as sitk\n",
    "\n",
    "data_path = '/proj/NIRAL/users/siyangj/NeonateMRISeg/TrialData/'\n",
    "min_path = '/nas/longleaf/home/siyangj/myNIRAL/myTrialData/BUSS_reg_stripped_scaled/minimal/'\n",
    "normal_path = '/nas/longleaf/home/siyangj/myNIRAL/myTrialData/BUSS_reg_stripped_scaled/min_normal/'\n",
    "to_inf_path = '/nas/longleaf/home/siyangj/myNIRAL/myTrialData/BUSS_reg_stripped_scaled/to_inf/'"
   ]
  },
  {
   "cell_type": "code",
   "execution_count": 49,
   "metadata": {},
   "outputs": [],
   "source": [
    "T1_re = re.compile(r'(BUSS_\\d{4})_T1_reg-stripped_scaled.nrrd')\n",
    "\n",
    "slice_min = 4\n",
    "\n",
    "files = os.listdir(data_path)\n",
    "\n",
    "for f in files:\n",
    "    im_match = T1_re.match(f)\n",
    "    if im_match is None:\n",
    "        continue\n",
    "    im_T1 = sitk.ReadImage(os.path.join(data_path,f))\n",
    "    im_T2 = sitk.ReadImage(os.path.join(data_path,\n",
    "                                        im_match.group(1)+'_T2_reg-stripped_scaled.nrrd'))\n",
    "    im_size = im_T1.GetSize()\n",
    "    \n",
    "    #non0 = np.where(np.logical_and(sitk.GetArrayFromImage(im_T1)>0,\n",
    "    #                               sitk.GetArrayFromImage(im_T2)>0).swapaxes(0,2))\n",
    "    \n",
    "    #crop_l = [int(min(non0[i])) for i in range(3)]\n",
    "    #crop_u = [int(im_size[i]-max(non0[i])-1) for i in range(3)]\n",
    "    \n",
    "    non0 = np.logical_and(sitk.GetArrayFromImage(im_T1)>0,\n",
    "                          sitk.GetArrayFromImage(im_T2)>0).swapaxes(0,2)\n",
    "\n",
    "    more_than_min = (np.where(non0.sum(axis=2).sum(axis=1)>slice_min)[0],\n",
    "                     np.where(non0.sum(axis=2).sum(axis=0)>slice_min)[0],\n",
    "                     np.where(non0.sum(axis=1).sum(axis=0)>slice_min)[0])\n",
    "    \n",
    "    crop_l = [int(min(more_than_min[i])) for i in range(3)]\n",
    "    crop_u = [int(im_size[i]-max(more_than_min[i])-1) for i in range(3)]\n",
    "    \n",
    "    #print(crop_l,crop_u)\n",
    "    \n",
    "    new_T1 = sitk.Crop(im_T1,crop_l,crop_u)\n",
    "    new_T2 = sitk.Crop(im_T2,crop_l,crop_u)\n",
    "    \n",
    "    sitk.WriteImage(new_T1,os.path.join(min_path,'T1',im_match.group(1)+'.nrrd'))\n",
    "    sitk.WriteImage(new_T2,os.path.join(min_path,'T2',im_match.group(1)+'.nrrd'))\n",
    "    \n",
    "    new_size = new_T1.GetSize()\n",
    "    if new_size[0]>96 or new_size[0]>112 or new_size[0]>96:\n",
    "        print(im_match.group(1),im_size,im_T1.GetSpacing(),new_T1.GetSize())    "
   ]
  },
  {
   "cell_type": "code",
   "execution_count": 126,
   "metadata": {
    "scrolled": true
   },
   "outputs": [
    {
     "name": "stdout",
     "output_type": "stream",
     "text": [
      "(99, 119, 91) (99, 119, 96)\n",
      "(96, 119, 96) (96, 119, 96)\n",
      "(100, 118, 98) (100, 118, 98)\n",
      "(99, 128, 103) (99, 128, 103)\n",
      "(91, 109, 95) (96, 112, 96)\n",
      "(91, 104, 94) (96, 112, 96)\n",
      "(101, 115, 95) (101, 115, 96)\n",
      "(108, 119, 99) (108, 119, 99)\n",
      "(99, 117, 95) (99, 117, 96)\n",
      "(98, 132, 103) (98, 132, 103)\n",
      "(99, 115, 90) (99, 115, 96)\n",
      "(102, 111, 96) (102, 112, 96)\n",
      "(97, 112, 96) (97, 112, 96)\n",
      "(90, 121, 99) (96, 121, 99)\n",
      "(95, 120, 96) (96, 120, 96)\n",
      "(95, 111, 97) (96, 112, 97)\n",
      "(93, 110, 90) (96, 112, 96)\n",
      "(102, 125, 101) (102, 125, 101)\n",
      "(112, 125, 103) (112, 125, 103)\n",
      "(94, 108, 94) (96, 112, 96)\n",
      "(102, 114, 97) (102, 114, 97)\n",
      "(102, 113, 94) (102, 113, 96)\n",
      "(105, 120, 99) (105, 120, 99)\n",
      "(103, 126, 97) (103, 126, 97)\n",
      "(97, 118, 90) (97, 118, 96)\n",
      "(106, 114, 99) (106, 114, 99)\n",
      "(89, 108, 91) (96, 112, 96)\n",
      "(95, 105, 91) (96, 112, 96)\n",
      "(99, 125, 94) (99, 125, 96)\n",
      "(97, 112, 92) (97, 112, 96)\n",
      "(99, 115, 95) (99, 115, 96)\n",
      "(93, 107, 90) (96, 112, 96)\n",
      "(93, 107, 97) (96, 112, 97)\n",
      "(94, 117, 96) (96, 117, 96)\n",
      "(95, 112, 92) (96, 112, 96)\n",
      "(92, 113, 116) (96, 113, 116)\n",
      "(100, 115, 103) (100, 115, 103)\n",
      "(94, 114, 93) (96, 114, 96)\n",
      "(103, 114, 95) (103, 114, 96)\n",
      "(104, 126, 93) (104, 126, 96)\n",
      "(103, 110, 92) (103, 112, 96)\n",
      "(96, 117, 102) (96, 117, 102)\n",
      "(92, 122, 99) (96, 122, 99)\n",
      "(96, 115, 94) (96, 115, 96)\n",
      "(103, 120, 100) (103, 120, 100)\n",
      "(105, 117, 100) (105, 117, 100)\n",
      "(95, 114, 96) (96, 114, 96)\n",
      "(99, 126, 105) (99, 126, 105)\n",
      "(95, 117, 95) (96, 117, 96)\n",
      "(97, 117, 97) (97, 117, 97)\n",
      "(92, 114, 91) (96, 114, 96)\n",
      "(106, 120, 96) (106, 120, 96)\n",
      "(102, 125, 103) (102, 125, 103)\n",
      "(95, 115, 95) (96, 115, 96)\n",
      "(98, 118, 96) (98, 118, 96)\n",
      "(104, 114, 95) (104, 114, 96)\n",
      "(88, 104, 90) (96, 112, 96)\n",
      "(98, 112, 100) (98, 112, 100)\n",
      "(105, 120, 97) (105, 120, 97)\n",
      "(99, 117, 109) (99, 117, 109)\n",
      "(91, 109, 89) (96, 112, 96)\n",
      "(98, 118, 94) (98, 118, 96)\n",
      "(98, 115, 95) (98, 115, 96)\n",
      "(100, 118, 98) (100, 118, 98)\n",
      "(97, 113, 91) (97, 113, 96)\n",
      "(98, 119, 95) (98, 119, 96)\n",
      "(99, 121, 94) (99, 121, 96)\n",
      "(95, 117, 96) (96, 117, 96)\n",
      "(105, 121, 95) (105, 121, 96)\n",
      "(102, 121, 96) (102, 121, 96)\n",
      "(93, 111, 94) (96, 112, 96)\n",
      "(103, 113, 102) (103, 113, 102)\n",
      "(84, 115, 91) (96, 115, 96)\n",
      "(96, 114, 100) (96, 114, 100)\n",
      "(97, 127, 99) (97, 127, 99)\n",
      "(100, 118, 94) (100, 118, 96)\n",
      "(100, 122, 95) (100, 122, 96)\n",
      "(94, 111, 94) (96, 112, 96)\n",
      "(91, 111, 90) (96, 112, 96)\n",
      "(92, 115, 92) (96, 115, 96)\n",
      "(97, 111, 90) (97, 112, 96)\n",
      "(88, 112, 92) (96, 112, 96)\n",
      "(89, 118, 96) (96, 118, 96)\n",
      "(94, 110, 86) (96, 112, 96)\n",
      "(96, 111, 91) (96, 112, 96)\n",
      "(92, 118, 99) (96, 118, 99)\n",
      "(98, 111, 92) (98, 112, 96)\n",
      "(98, 117, 98) (98, 117, 98)\n",
      "(94, 109, 90) (96, 112, 96)\n"
     ]
    }
   ],
   "source": [
    "tar_size = [96,112,96]\n",
    "\n",
    "files = os.listdir(os.path.join(min_path,'T1'))\n",
    "\n",
    "for f in files:\n",
    "    im_T1 = sitk.ReadImage(os.path.join(min_path,'T1',f))\n",
    "    im_T2 = sitk.ReadImage(os.path.join(min_path,'T2',f))\n",
    "    im_size = im_T1.GetSize()\n",
    "    \n",
    "    pad_l = [0,0,0]\n",
    "    pad_u = [0,0,0]\n",
    "    \n",
    "    for i in range(3):\n",
    "        if tar_size[i]>im_size[i]:\n",
    "            d = tar_size[i]-im_size[i]\n",
    "            pad_l[i] = int(round(d/2))\n",
    "            pad_u[i] = int(d-pad_l[i])\n",
    "    \n",
    "    new_T1 = sitk.ConstantPad(im_T1,pad_l,pad_u)\n",
    "    new_T2 = sitk.ConstantPad(im_T2,pad_l,pad_u)\n",
    "    \n",
    "    print(im_size,new_T1.GetSize())\n",
    "    \n",
    "    sitk.WriteImage(new_T1,os.path.join(to_inf_path,'T1',f))\n",
    "    sitk.WriteImage(new_T2,os.path.join(to_inf_path,'T2',f))\n"
   ]
  },
  {
   "cell_type": "code",
   "execution_count": 128,
   "metadata": {},
   "outputs": [
    {
     "name": "stdout",
     "output_type": "stream",
     "text": [
      "BUSS_2005.nrrd\n",
      "BUSS_2018.nrrd\n",
      "BUSS_2103.nrrd\n",
      "BUSS_2239.nrrd\n",
      "BUSS_2153.nrrd\n",
      "BUSS_2138.nrrd\n",
      "BUSS_2122.nrrd\n",
      "BUSS_2190.nrrd\n",
      "BUSS_2035.nrrd\n",
      "BUSS_2150.nrrd\n",
      "BUSS_2143.nrrd\n",
      "BUSS_2087.nrrd\n",
      "BUSS_2079.nrrd\n",
      "BUSS_2112.nrrd\n",
      "BUSS_2002.nrrd\n",
      "BUSS_2186.nrrd\n",
      "BUSS_2134.nrrd\n"
     ]
    }
   ],
   "source": [
    "tar_size = [96,112,96]\n",
    "\n",
    "files = os.listdir(os.path.join(to_inf_path,'T1'))\n",
    "\n",
    "for f in files:\n",
    "    im_T1 = sitk.ReadImage(os.path.join(to_inf_path,'T1',f))\n",
    "    im_T2 = sitk.ReadImage(os.path.join(to_inf_path,'T2',f))\n",
    "    im_size = im_T1.GetSize()\n",
    "    if tar_size[0]==im_size[0] and tar_size[1]==im_size[1] and tar_size[2]==im_size[2]:\n",
    "        print(f)"
   ]
  },
  {
   "cell_type": "code",
   "execution_count": 31,
   "metadata": {},
   "outputs": [],
   "source": [
    "arr = np.random.rand(2,2)"
   ]
  },
  {
   "cell_type": "code",
   "execution_count": 39,
   "metadata": {},
   "outputs": [
    {
     "data": {
      "text/plain": [
       "(array([0, 0, 1, 1]), array([0, 1, 0, 1]))"
      ]
     },
     "execution_count": 39,
     "metadata": {},
     "output_type": "execute_result"
    }
   ],
   "source": [
    "A = np.random.rand(2,2)\n",
    "B = np.random.rand(2,2)\n",
    "np.where(np.logical_and(A>0,B>0).swapaxes(0,1))"
   ]
  },
  {
   "cell_type": "code",
   "execution_count": 18,
   "metadata": {},
   "outputs": [
    {
     "data": {
      "text/plain": [
       "[-95, -111, -95]"
      ]
     },
     "execution_count": 18,
     "metadata": {},
     "output_type": "execute_result"
    }
   ],
   "source": [
    "im_size = [1,1,1]\n",
    "dim_diff = [im_size[i]-tar_dim[i] for i in range(3)]\n",
    "dim_diff"
   ]
  },
  {
   "cell_type": "code",
   "execution_count": 60,
   "metadata": {},
   "outputs": [
    {
     "data": {
      "text/plain": [
       "<matplotlib.image.AxesImage at 0x7f9d4f416668>"
      ]
     },
     "execution_count": 60,
     "metadata": {},
     "output_type": "execute_result"
    },
    {
     "data": {
      "image/png": "[encoded data removed]",
      "text/plain": [
       "<Figure size 432x288 with 1 Axes>"
      ]
     },
     "metadata": {},
     "output_type": "display_data"
    }
   ],
   "source": [
    "plt.imshow(sitk.GetArrayFromImage(sitk.ReadImage(\n",
    "    os.path.join(min_path,'T2','BUSS_2137.nrrd')))[:,129,:])"
   ]
  },
  {
   "cell_type": "code",
   "execution_count": 71,
   "metadata": {},
   "outputs": [
    {
     "data": {
      "text/plain": [
       "(array([], dtype=int64), array([], dtype=int64))"
      ]
     },
     "execution_count": 71,
     "metadata": {},
     "output_type": "execute_result"
    }
   ],
   "source": [
    "np.where(sitk.GetArrayFromImage(sitk.ReadImage(\n",
    "    os.path.join(min_path,'T2','BUSS_2137.nrrd')))[:,128,:]>0)"
   ]
  },
  {
   "cell_type": "code",
   "execution_count": 102,
   "metadata": {},
   "outputs": [
    {
     "data": {
      "text/plain": [
       "125"
      ]
     },
     "execution_count": 102,
     "metadata": {},
     "output_type": "execute_result"
    }
   ],
   "source": [
    "max(np.where(\n",
    "    (sitk.GetArrayFromImage(sitk.ReadImage(\n",
    "    os.path.join(min_path,'T2','BUSS_2039.nrrd')))>0).swapaxes(0,2).sum(axis=0).sum(axis=1)>4\n",
    ")[0])"
   ]
  },
  {
   "cell_type": "code",
   "execution_count": 121,
   "metadata": {},
   "outputs": [
    {
     "data": {
      "text/plain": [
       "array([ 214,  498,  778, 1141, 1509, 1864, 2302, 2692, 3022, 3368, 3670,\n",
       "       3912, 4173, 4421, 4650, 4868, 5062, 5271, 5407, 5677, 5852, 6047,\n",
       "       6213, 6353, 6490, 6634, 6775, 6902, 7049, 7178, 7283, 7410, 7513,\n",
       "       7632, 7696, 7774, 7868, 7926, 7968, 8024, 8055, 8054, 8069, 8035,\n",
       "       8108, 8163, 8255, 8299, 8348, 8331, 8348, 8292, 8209, 8025, 8013,\n",
       "       7993, 7996, 8026, 8073, 8133, 8179, 8188, 8204, 8188, 8188, 8166,\n",
       "       8126, 8053, 7983, 7904, 7830, 7733, 7629, 7514, 7388, 7260, 7113,\n",
       "       6948, 6787, 6595, 6414, 6206, 5978, 5743, 5493, 5250, 4979, 4766,\n",
       "       4543, 4334, 4086, 3829, 3560, 3291, 3034, 2713, 2461, 2172, 1907,\n",
       "       1608, 1325, 1022,  735,  423])"
      ]
     },
     "execution_count": 121,
     "metadata": {},
     "output_type": "execute_result"
    }
   ],
   "source": [
    "(sitk.GetArrayFromImage(sitk.ReadImage(\n",
    "    os.path.join(min_path,'T2','BUSS_2137.nrrd')))>0).sum(axis=0).sum(axis=0)"
   ]
  },
  {
   "cell_type": "code",
   "execution_count": 107,
   "metadata": {},
   "outputs": [
    {
     "data": {
      "text/plain": [
       "(array([ 10,  11,  12,  13,  14,  15,  16,  17,  18,  19,  20,  21,  22,\n",
       "         23,  24,  25,  26,  27,  28,  29,  30,  31,  32,  33,  34,  35,\n",
       "         36,  37,  38,  39,  40,  41,  42,  43,  44,  45,  46,  47,  48,\n",
       "         49,  50,  51,  52,  53,  54,  55,  56,  57,  58,  59,  60,  61,\n",
       "         62,  63,  64,  65,  66,  67,  68,  69,  70,  71,  72,  73,  74,\n",
       "         75,  76,  77,  78,  79,  80,  81,  82,  83,  84,  85,  86,  87,\n",
       "         88,  89,  90,  91,  92,  93,  94,  95,  96,  97,  98,  99, 100,\n",
       "        101, 102, 103, 104, 105, 106, 107, 108]),\n",
       " array([  6,   7,   8,   9,  10,  11,  12,  13,  14,  15,  16,  17,  18,\n",
       "         19,  20,  21,  22,  23,  24,  25,  26,  27,  28,  29,  30,  31,\n",
       "         32,  33,  34,  35,  36,  37,  38,  39,  40,  41,  42,  43,  44,\n",
       "         45,  46,  47,  48,  49,  50,  51,  52,  53,  54,  55,  56,  57,\n",
       "         58,  59,  60,  61,  62,  63,  64,  65,  66,  67,  68,  69,  70,\n",
       "         71,  72,  73,  74,  75,  76,  77,  78,  79,  80,  81,  82,  83,\n",
       "         84,  85,  86,  87,  88,  89,  90,  91,  92,  93,  94,  95,  96,\n",
       "         97,  98,  99, 100, 101, 102, 103, 104, 105, 106, 107, 108, 109,\n",
       "        110, 111, 112, 113, 114, 115, 116, 117, 118, 119, 120, 121, 122,\n",
       "        123, 124, 125, 126, 127, 128, 129, 130, 131]),\n",
       " array([  6,   7,   8,   9,  10,  11,  12,  13,  14,  15,  16,  17,  18,\n",
       "         19,  20,  21,  22,  23,  24,  25,  26,  27,  28,  29,  30,  31,\n",
       "         32,  33,  34,  35,  36,  37,  38,  39,  40,  41,  42,  43,  44,\n",
       "         45,  46,  47,  48,  49,  50,  51,  52,  53,  54,  55,  56,  57,\n",
       "         58,  59,  60,  61,  62,  63,  64,  65,  66,  67,  68,  69,  70,\n",
       "         71,  72,  73,  74,  75,  76,  77,  78,  79,  80,  81,  82,  83,\n",
       "         84,  85,  86,  87,  88,  89,  90,  91,  92,  93,  94,  95,  96,\n",
       "         97,  98,  99, 100, 101, 102, 103, 104, 105, 106, 107, 108, 109,\n",
       "        110, 111, 112, 113, 114, 115, 116, 117, 118, 119, 120, 121, 122,\n",
       "        123, 124, 125, 126, 127, 128, 129, 130, 131]))"
      ]
     },
     "execution_count": 107,
     "metadata": {},
     "output_type": "execute_result"
    }
   ],
   "source": [
    "more_than_min"
   ]
  },
  {
   "cell_type": "code",
   "execution_count": 111,
   "metadata": {},
   "outputs": [
    {
     "data": {
      "text/plain": [
       "(array([  6,   7,   8,   9,  10,  11,  12,  13,  14,  15,  16,  17,  18,\n",
       "         19,  20,  21,  22,  23,  24,  25,  26,  27,  28,  29,  30,  31,\n",
       "         32,  33,  34,  35,  36,  37,  38,  39,  40,  41,  42,  43,  44,\n",
       "         45,  46,  47,  48,  49,  50,  51,  52,  53,  54,  55,  56,  57,\n",
       "         58,  59,  60,  61,  62,  63,  64,  65,  66,  67,  68,  69,  70,\n",
       "         71,  72,  73,  74,  75,  76,  77,  78,  79,  80,  81,  82,  83,\n",
       "         84,  85,  86,  87,  88,  89,  90,  91,  92,  93,  94,  95,  96,\n",
       "         97,  98,  99, 100, 101, 102, 103, 104, 105, 106, 107, 108, 109,\n",
       "        110, 111, 112, 113, 114, 115, 116, 117, 118, 119, 120, 121, 122,\n",
       "        123, 124, 125, 126, 127, 128, 129, 130, 131]),)"
      ]
     },
     "execution_count": 111,
     "metadata": {},
     "output_type": "execute_result"
    }
   ],
   "source": [
    "np.where(non0.sum(axis=0).sum(axis=1)>4)"
   ]
  },
  {
   "cell_type": "code",
   "execution_count": 115,
   "metadata": {},
   "outputs": [
    {
     "data": {
      "text/plain": [
       "(140, 130)"
      ]
     },
     "execution_count": 115,
     "metadata": {},
     "output_type": "execute_result"
    }
   ],
   "source": [
    "non0.sum(axis=0).shape"
   ]
  },
  {
   "cell_type": "code",
   "execution_count": null,
   "metadata": {},
   "outputs": [],
   "source": []
  }
 ],
 "metadata": {
  "kernelspec": {
   "display_name": "Python 2",
   "language": "python",
   "name": "python2"
  },
  "language_info": {
   "codemirror_mode": {
    "name": "ipython",
    "version": 3
   },
   "file_extension": ".py",
   "mimetype": "text/x-python",
   "name": "python",
   "nbconvert_exporter": "python",
   "pygments_lexer": "ipython3",
   "version": "3.5.2"
  }
 },
 "nbformat": 4,
 "nbformat_minor": 2
}
