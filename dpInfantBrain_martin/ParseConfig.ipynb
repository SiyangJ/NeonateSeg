{
 "cells": [
  {
   "cell_type": "code",
   "execution_count": 2,
   "metadata": {},
   "outputs": [],
   "source": [
    "import configparser"
   ]
  },
  {
   "cell_type": "code",
   "execution_count": 3,
   "metadata": {},
   "outputs": [
    {
     "data": {
      "text/plain": [
       "['config.ini']"
      ]
     },
     "execution_count": 3,
     "metadata": {},
     "output_type": "execute_result"
    }
   ],
   "source": [
    "CFP = configparser.ConfigParser()\n",
    "\n",
    "CFP.read('config.ini')"
   ]
  },
  {
   "cell_type": "code",
   "execution_count": 4,
   "metadata": {},
   "outputs": [
    {
     "data": {
      "text/plain": [
       "['Default']"
      ]
     },
     "execution_count": 4,
     "metadata": {},
     "output_type": "execute_result"
    }
   ],
   "source": [
    "CFP.sections()"
   ]
  },
  {
   "cell_type": "code",
   "execution_count": 5,
   "metadata": {},
   "outputs": [
    {
     "name": "stdout",
     "output_type": "stream",
     "text": [
      "Help on SectionProxy in module configparser object:\n",
      "\n",
      "class SectionProxy(collections.abc.MutableMapping)\n",
      " |  A proxy for a single section from a parser.\n",
      " |  \n",
      " |  Method resolution order:\n",
      " |      SectionProxy\n",
      " |      collections.abc.MutableMapping\n",
      " |      collections.abc.Mapping\n",
      " |      collections.abc.Sized\n",
      " |      collections.abc.Iterable\n",
      " |      collections.abc.Container\n",
      " |      builtins.object\n",
      " |  \n",
      " |  Methods defined here:\n",
      " |  \n",
      " |  __contains__(self, key)\n",
      " |  \n",
      " |  __delitem__(self, key)\n",
      " |  \n",
      " |  __getitem__(self, key)\n",
      " |  \n",
      " |  __init__(self, parser, name)\n",
      " |      Creates a view on a section of the specified `name` in `parser`.\n",
      " |  \n",
      " |  __iter__(self)\n",
      " |  \n",
      " |  __len__(self)\n",
      " |  \n",
      " |  __repr__(self)\n",
      " |      Return repr(self).\n",
      " |  \n",
      " |  __setitem__(self, key, value)\n",
      " |  \n",
      " |  get(self, option, fallback=None, *, raw=False, vars=None, _impl=None, **kwargs)\n",
      " |      Get an option value.\n",
      " |      \n",
      " |      Unless `fallback` is provided, `None` will be returned if the option\n",
      " |      is not found.\n",
      " |  \n",
      " |  ----------------------------------------------------------------------\n",
      " |  Data descriptors defined here:\n",
      " |  \n",
      " |  __dict__\n",
      " |      dictionary for instance variables (if defined)\n",
      " |  \n",
      " |  __weakref__\n",
      " |      list of weak references to the object (if defined)\n",
      " |  \n",
      " |  name\n",
      " |  \n",
      " |  parser\n",
      " |  \n",
      " |  ----------------------------------------------------------------------\n",
      " |  Data and other attributes defined here:\n",
      " |  \n",
      " |  __abstractmethods__ = frozenset()\n",
      " |  \n",
      " |  ----------------------------------------------------------------------\n",
      " |  Methods inherited from collections.abc.MutableMapping:\n",
      " |  \n",
      " |  clear(self)\n",
      " |      D.clear() -> None.  Remove all items from D.\n",
      " |  \n",
      " |  pop(self, key, default=<object object at 0x7f5bb728d050>)\n",
      " |      D.pop(k[,d]) -> v, remove specified key and return the corresponding value.\n",
      " |      If key is not found, d is returned if given, otherwise KeyError is raised.\n",
      " |  \n",
      " |  popitem(self)\n",
      " |      D.popitem() -> (k, v), remove and return some (key, value) pair\n",
      " |      as a 2-tuple; but raise KeyError if D is empty.\n",
      " |  \n",
      " |  setdefault(self, key, default=None)\n",
      " |      D.setdefault(k[,d]) -> D.get(k,d), also set D[k]=d if k not in D\n",
      " |  \n",
      " |  update(*args, **kwds)\n",
      " |      D.update([E, ]**F) -> None.  Update D from mapping/iterable E and F.\n",
      " |      If E present and has a .keys() method, does:     for k in E: D[k] = E[k]\n",
      " |      If E present and lacks .keys() method, does:     for (k, v) in E: D[k] = v\n",
      " |      In either case, this is followed by: for k, v in F.items(): D[k] = v\n",
      " |  \n",
      " |  ----------------------------------------------------------------------\n",
      " |  Methods inherited from collections.abc.Mapping:\n",
      " |  \n",
      " |  __eq__(self, other)\n",
      " |      Return self==value.\n",
      " |  \n",
      " |  items(self)\n",
      " |      D.items() -> a set-like object providing a view on D's items\n",
      " |  \n",
      " |  keys(self)\n",
      " |      D.keys() -> a set-like object providing a view on D's keys\n",
      " |  \n",
      " |  values(self)\n",
      " |      D.values() -> an object providing a view on D's values\n",
      " |  \n",
      " |  ----------------------------------------------------------------------\n",
      " |  Data and other attributes inherited from collections.abc.Mapping:\n",
      " |  \n",
      " |  __hash__ = None\n",
      " |  \n",
      " |  ----------------------------------------------------------------------\n",
      " |  Class methods inherited from collections.abc.Sized:\n",
      " |  \n",
      " |  __subclasshook__(C) from abc.ABCMeta\n",
      " |      Abstract classes can override this to customize issubclass().\n",
      " |      \n",
      " |      This is invoked early on by abc.ABCMeta.__subclasscheck__().\n",
      " |      It should return True, False or NotImplemented.  If it returns\n",
      " |      NotImplemented, the normal algorithm is used.  Otherwise, it\n",
      " |      overrides the normal algorithm (and the outcome is cached).\n",
      "\n"
     ]
    }
   ],
   "source": [
    "help(CFP['Default'])"
   ]
  },
  {
   "cell_type": "code",
   "execution_count": 6,
   "metadata": {},
   "outputs": [
    {
     "name": "stdout",
     "output_type": "stream",
     "text": [
      "cls_out = 4 <class 'str'>\n",
      "patch_size_str = 64,64,64 <class 'str'>\n",
      "overlap_add_num = 2 <class 'str'>\n",
      "prepost_pad = 5 <class 'str'>\n",
      "training_crop_pad = 0 <class 'str'>\n",
      "momentum = 0.9 <class 'str'>\n",
      "learning_rate_start = 1e-3 <class 'str'>\n",
      "learning_rate_reduce_life = 3000 <class 'str'>\n",
      "learning_rate_percentage = 0.5 <class 'str'>\n",
      "batch_size = 2 <class 'str'>\n",
      "batches_one_image = 32 <class 'str'>\n",
      "max_batch = 10000 <class 'str'>\n",
      "checkpoint_period = 2000 <class 'str'>\n",
      "checkpoint_dir = '/proj/NIRAL/users/siyangj/model_11012016/models/1/11021309' <class 'str'>\n",
      "last_trained_checkpoint = '/proj/NIRAL/users/jphong/6moSegData/IBIS/new_checkpoint/0' <class 'str'>\n",
      "restore_from_last' = True <class 'str'>\n",
      "aux1_weight = 0.33 <class 'str'>\n",
      "aux2_weight = 0.67 <class 'str'>\n",
      "main_weight = 1.0 <class 'str'>\n",
      "l2_loss_weight = 0.005 <class 'str'>\n",
      "train_data_dir = '/proj/NIRAL/users/siyangj/myData/BernNet/Train/' <class 'str'>\n",
      "hdf5_list_path = '/proj/NIRAL/users/siyangj/myData/BernNet/hdf5/all_data.list' <class 'str'>\n",
      "hdf5_train_list_path = '/proj/NIRAL/users/siyangj/myData/BernNet/hdf5/train_data.list' <class 'str'>\n",
      "hdf5_validation_list_path = '/proj/NIRAL/users/siyangj/myData/BernNet/hdf5/validation_data.list' <class 'str'>\n",
      "hdf5_dir = '/proj/NIRAL/users/siyangj/myData/BernNet/hdf5/' <class 'str'>\n",
      "from_pretrain = False <class 'str'>\n",
      "hdf5_hip_transfer_model = './pretrain_model/hip_pretrain_model.h5' <class 'str'>\n",
      "hdf5_sports_3d_model = './pretrain_model/sports1M_weights.h5' <class 'str'>\n",
      "model_saved_hdf5 = '/proj/NIRAL/users/jphong/6moSegData/IBIS/model/model.h5' <class 'str'>\n",
      "xavier_init = False <class 'str'>\n",
      "log_device_placement = False <class 'str'>\n",
      "random_seed = 19970215 <class 'str'>\n",
      "epsilon = 1e-8 <class 'str'>\n",
      "test_dir = '/proj/NIRAL/users/siyangj/myData/BernNet/Test' <class 'str'>\n"
     ]
    }
   ],
   "source": [
    "for k,d in CFP['Default'].items():\n",
    "    print(k,'=',d,type(d))"
   ]
  },
  {
   "cell_type": "code",
   "execution_count": 7,
   "metadata": {},
   "outputs": [],
   "source": [
    "def provide_argument(keyword,data_type=str):\n",
    "    if data_type==bool:\n",
    "        return CFP['Default'].getboolean(keyword)\n",
    "    raw = CFP['Default'].get(keyword)\n",
    "    if raw is None:\n",
    "        return None\n",
    "    return data_type(raw)"
   ]
  },
  {
   "cell_type": "code",
   "execution_count": 10,
   "metadata": {},
   "outputs": [],
   "source": [
    "ARG = CFP['Default']"
   ]
  },
  {
   "cell_type": "code",
   "execution_count": null,
   "metadata": {},
   "outputs": [],
   "source": [
    "ARG.get"
   ]
  },
  {
   "cell_type": "code",
   "execution_count": 66,
   "metadata": {},
   "outputs": [
    {
     "name": "stdout",
     "output_type": "stream",
     "text": [
      "False\n"
     ]
    }
   ],
   "source": [
    "print(CFP['Default'].getboolean('xavier_init'))"
   ]
  },
  {
   "cell_type": "code",
   "execution_count": 68,
   "metadata": {},
   "outputs": [
    {
     "data": {
      "text/plain": [
       "False"
      ]
     },
     "execution_count": 68,
     "metadata": {},
     "output_type": "execute_result"
    }
   ],
   "source": [
    "provide_argument('xavier_init',bool)"
   ]
  },
  {
   "cell_type": "code",
   "execution_count": 57,
   "metadata": {},
   "outputs": [],
   "source": [
    "a=bool"
   ]
  },
  {
   "cell_type": "code",
   "execution_count": 58,
   "metadata": {},
   "outputs": [
    {
     "data": {
      "text/plain": [
       "True"
      ]
     },
     "execution_count": 58,
     "metadata": {},
     "output_type": "execute_result"
    }
   ],
   "source": [
    "a==bool"
   ]
  },
  {
   "cell_type": "code",
   "execution_count": null,
   "metadata": {},
   "outputs": [],
   "source": []
  }
 ],
 "metadata": {
  "kernelspec": {
   "display_name": "Python 2",
   "language": "python",
   "name": "python2"
  },
  "language_info": {
   "codemirror_mode": {
    "name": "ipython",
    "version": 3
   },
   "file_extension": ".py",
   "mimetype": "text/x-python",
   "name": "python",
   "nbconvert_exporter": "python",
   "pygments_lexer": "ipython3",
   "version": "3.5.2"
  }
 },
 "nbformat": 4,
 "nbformat_minor": 2
}
