{
 "cells": [
  {
   "cell_type": "code",
   "execution_count": 2,
   "metadata": {},
   "outputs": [
    {
     "name": "stdout",
     "output_type": "stream",
     "text": [
      "INFO:tensorflow:TensorFlow version 1.9.0\n",
      "CRITICAL:tensorflow:Optional Python module cv2 not found, please install cv2 and retry if the application fails.\n",
      "INFO:tensorflow:Available Image Loaders:\n",
      "['nibabel', 'skimage', 'pillow', 'simpleitk', 'dummy'].\n"
     ]
    }
   ],
   "source": [
    "import tensorflow as tf\n",
    "import sys\n",
    "sys.path.append('/nas/longleaf/home/siyangj/NiftyNet/')\n",
    "import niftynet as nn\n",
    "import numpy as np\n",
    "import matplotlib.pyplot as plt\n",
    "%matplotlib inline\n",
    "import SimpleITK as sitk\n",
    "import nibabel as nib\n",
    "import os\n",
    "\n",
    "data_path = '/proj/NIRAL/users/siyangj/myData/min_normal/'\n",
    "inf_path = '/proj/NIRAL/users/siyangj/model_10112055/inference_21900_normal/'\n",
    "new_path = '/proj/NIRAL/users/siyangj/myData/min_normal/seg_inf_1/'"
   ]
  },
  {
   "cell_type": "code",
   "execution_count": 4,
   "metadata": {},
   "outputs": [],
   "source": [
    "## Normalize each image\n",
    "im_num = range(1,9)\n",
    "for n in im_num:\n",
    "    \n",
    "    im_T1  = sitk.ReadImage(data_path+'T1/' +str(n)+'.nrrd')\n",
    "    im_T2  = sitk.ReadImage(data_path+'T2/' +str(n)+'.nrrd')\n",
    "    im_seg = sitk.ReadImage(data_path+'seg/'+str(n)+'.nrrd')\n",
    "    im_inf = sitk.ReadImage(os.path.join(inf_path,'{}_niftynet_out.nii.gz'.format(str(n))))\n",
    "    \n",
    "    im_len = im_T2.GetSize()\n",
    "    \n",
    "    for i in range(im_len[0]):\n",
    "        for j in range(im_len[1]):\n",
    "            for k in range(im_len[2]):\n",
    "                if im_T1[i,j,k]>0 and im_T2[i,j,k]>0 and im_seg[i,j,k]==0:\n",
    "                    im_seg[i,j,k] = im_inf[i,j,k]\n",
    "                    im_T1[i,j,k] = 0\n",
    "                    im_T2[i,j,k] = 0\n",
    "    sitk.WriteImage(im_seg,os.path.join(new_path,'{}.nrrd'.format(str(n))))"
   ]
  },
  {
   "cell_type": "code",
   "execution_count": 6,
   "metadata": {},
   "outputs": [
    {
     "data": {
      "text/plain": [
       "<matplotlib.image.AxesImage at 0x7ff5bc971cc0>"
      ]
     },
     "execution_count": 6,
     "metadata": {},
     "output_type": "execute_result"
    },
    {
     "data": {
      "image/png": "[encoded data removed]",
      "text/plain": [
       "<Figure size 432x288 with 1 Axes>"
      ]
     },
     "metadata": {},
     "output_type": "display_data"
    }
   ],
   "source": [
    "plt.imshow(sitk.GetArrayFromImage(sitk.ReadImage('/proj/NIRAL/users/siyangj/myData/min_normal/seg_inf_1/8.nrrd'))[60,:,:])"
   ]
  },
  {
   "cell_type": "code",
   "execution_count": 7,
   "metadata": {},
   "outputs": [
    {
     "data": {
      "text/plain": [
       "<matplotlib.image.AxesImage at 0x7ff5bc937198>"
      ]
     },
     "execution_count": 7,
     "metadata": {},
     "output_type": "execute_result"
    },
    {
     "data": {
      "image/png": "[encoded data removed]",
      "text/plain": [
       "<Figure size 432x288 with 1 Axes>"
      ]
     },
     "metadata": {},
     "output_type": "display_data"
    }
   ],
   "source": [
    "plt.imshow(sitk.GetArrayFromImage(sitk.ReadImage('/proj/NIRAL/users/siyangj/myData/min_normal/seg/8.nrrd'))[60,:,:])"
   ]
  },
  {
   "cell_type": "code",
   "execution_count": 4,
   "metadata": {},
   "outputs": [
    {
     "name": "stdout",
     "output_type": "stream",
     "text": [
      "4916\n",
      "276529\n",
      "2\n",
      "22\n",
      "861\n",
      "257\n",
      "103\n",
      "92\n"
     ]
    }
   ],
   "source": [
    "for i in range(1,9):\n",
    "\n",
    "    ai = sitk.GetArrayFromImage(sitk.ReadImage('/proj/NIRAL/users/siyangj/myData/min_normal/seg_inf_1/{:d}.nrrd'.format(i)))\n",
    "    a1 = sitk.GetArrayFromImage(sitk.ReadImage('/proj/NIRAL/users/siyangj/myData/min_normal/T1/{:d}.nrrd'.format(i)))\n",
    "    a2 = sitk.GetArrayFromImage(sitk.ReadImage('/proj/NIRAL/users/siyangj/myData/min_normal/T2/{:d}.nrrd'.format(i)))\n",
    "    ag = sitk.GetArrayFromImage(sitk.ReadImage('/proj/NIRAL/users/siyangj/myData/min_normal/seg/{:d}.nrrd'.format(i)))\n",
    "\n",
    "    print(np.logical_xor(np.logical_and(a1>0,a2>0),ai>0).sum())"
   ]
  },
  {
   "cell_type": "code",
   "execution_count": 41,
   "metadata": {},
   "outputs": [
    {
     "data": {
      "text/plain": [
       "541719"
      ]
     },
     "execution_count": 41,
     "metadata": {},
     "output_type": "execute_result"
    }
   ],
   "source": [
    "(ai>0).sum()"
   ]
  },
  {
   "cell_type": "code",
   "execution_count": 42,
   "metadata": {},
   "outputs": [
    {
     "data": {
      "text/plain": [
       "4916"
      ]
     },
     "execution_count": 42,
     "metadata": {},
     "output_type": "execute_result"
    }
   ],
   "source": [
    "np.logical_xor(np.logical_and(a1>0,a2>0),ai>0).sum()"
   ]
  },
  {
   "cell_type": "code",
   "execution_count": 3,
   "metadata": {},
   "outputs": [],
   "source": [
    "def Dice(pred,true,labels=[0,1,2,3]):\n",
    "    l = len(labels)\n",
    "    ret = np.zeros(l)\n",
    "    for i in range(l):\n",
    "        lab = labels[i]\n",
    "        p = pred==lab\n",
    "        t = true==lab\n",
    "        ret[i] = 2*np.logical_and(p,t).sum()/(p.sum()+t.sum())\n",
    "    return ret"
   ]
  },
  {
   "cell_type": "code",
   "execution_count": 52,
   "metadata": {},
   "outputs": [
    {
     "name": "stdout",
     "output_type": "stream",
     "text": [
      "[0.9956538  1.         0.99896022 0.98141006]\n",
      "[0.99649289 0.99993923 0.99737149 0.9832011 ]\n",
      "[1. 1. 1. 1.]\n",
      "[0.99826935 1.         0.99730621 0.9926607 ]\n",
      "[0.94142738 0.99887685 0.96544385 0.80583123]\n",
      "[0.95626525 0.99910188 0.96331651 0.71248829]\n",
      "[0.95545518 0.99892323 0.95581414 0.70867574]\n",
      "[0.96351325 0.99871609 0.95499634 0.77855566]\n"
     ]
    }
   ],
   "source": [
    "for i in range(1,9):\n",
    "    ai = sitk.GetArrayFromImage(sitk.ReadImage('/proj/NIRAL/users/siyangj/myData/min_normal/seg_inf_1/{:d}.nrrd'.format(i)))\n",
    "    ag = sitk.GetArrayFromImage(sitk.ReadImage('/proj/NIRAL/users/siyangj/myData/min_normal/seg/{:d}.nrrd'.format(i)))\n",
    "    print(Dice(ai,ag))"
   ]
  },
  {
   "cell_type": "code",
   "execution_count": 55,
   "metadata": {},
   "outputs": [
    {
     "data": {
      "text/plain": [
       "136087"
      ]
     },
     "execution_count": 55,
     "metadata": {},
     "output_type": "execute_result"
    }
   ],
   "source": [
    "(ai==1).sum()"
   ]
  },
  {
   "cell_type": "code",
   "execution_count": 56,
   "metadata": {},
   "outputs": [
    {
     "data": {
      "text/plain": [
       "135738"
      ]
     },
     "execution_count": 56,
     "metadata": {},
     "output_type": "execute_result"
    }
   ],
   "source": [
    "(ag==1).sum()"
   ]
  },
  {
   "cell_type": "code",
   "execution_count": 6,
   "metadata": {},
   "outputs": [
    {
     "name": "stdout",
     "output_type": "stream",
     "text": [
      "0.9987161\n"
     ]
    }
   ],
   "source": [
    "print('{:.7f}'.format(2*np.logical_and(ai==1,ag==1).sum() / ((ag==1).sum()+(ai==1).sum())))"
   ]
  },
  {
   "cell_type": "code",
   "execution_count": 60,
   "metadata": {},
   "outputs": [
    {
     "data": {
      "text/plain": [
       "0.9974354640781264"
      ]
     },
     "execution_count": 60,
     "metadata": {},
     "output_type": "execute_result"
    }
   ],
   "source": [
    "135738/136087"
   ]
  },
  {
   "cell_type": "code",
   "execution_count": null,
   "metadata": {},
   "outputs": [],
   "source": []
  }
 ],
 "metadata": {
  "kernelspec": {
   "display_name": "Python 2",
   "language": "python",
   "name": "python2"
  },
  "language_info": {
   "codemirror_mode": {
    "name": "ipython",
    "version": 3
   },
   "file_extension": ".py",
   "mimetype": "text/x-python",
   "name": "python",
   "nbconvert_exporter": "python",
   "pygments_lexer": "ipython3",
   "version": "3.5.2"
  }
 },
 "nbformat": 4,
 "nbformat_minor": 2
}
