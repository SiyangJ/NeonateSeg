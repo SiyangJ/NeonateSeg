{
 "cells": [
  {
   "cell_type": "code",
   "execution_count": 2,
   "metadata": {},
   "outputs": [],
   "source": [
    "#import tensorflow as tf\n",
    "import sys\n",
    "sys.path.append('/nas/longleaf/home/siyangj/NiftyNet/')\n",
    "#import niftynet as nn\n",
    "import numpy as np\n",
    "import matplotlib.pyplot as plt\n",
    "%matplotlib inline\n",
    "import SimpleITK as sitk\n",
    "import os\n",
    "import re\n",
    "import sklearn as skl\n",
    "import pandas as pd\n",
    "\n",
    "pd.options.display.max_colwidth = 100\n",
    "pd.options.display.max_columns = 10000"
   ]
  },
  {
   "cell_type": "code",
   "execution_count": 3,
   "metadata": {},
   "outputs": [],
   "source": [
    "def Dice(pred,true,labels=[0,1,2,3]):\n",
    "    l = len(labels)\n",
    "    ret = np.zeros(l)\n",
    "    for i in range(l):\n",
    "        lab = labels[i]\n",
    "        p = pred==lab\n",
    "        t = true==lab\n",
    "        ret[i] = 2*np.logical_and(p,t).sum()/(p.sum()+t.sum())\n",
    "    return ret"
   ]
  },
  {
   "cell_type": "code",
   "execution_count": 3,
   "metadata": {},
   "outputs": [],
   "source": [
    "def inference_eval(model,inf_dir,data_path,eval_df,test_im,\n",
    "                   seg_suffix='seg/',skip_if_exist=True):\n",
    "    inf_re = re.compile(r'inference.*')\n",
    "    im_re = re.compile(r'.*\\.nii\\.gz')\n",
    "    model_path = '/proj/NIRAL/users/siyangj/model_{}/'.format(model)\n",
    "    \n",
    "    inf_ims = {f[0]:os.path.join(inf_dir,f) for f in os.listdir(inf_dir) \n",
    "            if (os.path.isfile(os.path.join(inf_dir, f)) and im_re.match(f) is not None)}\n",
    "    l = len(eval_df.index)\n",
    "    if len(eval_df.loc[eval_df['inf_dir']==inf_dir])>0:\n",
    "        if skip_if_exist:\n",
    "            return\n",
    "        l = np.where(eval_df['inf_dir']==inf_dir)[0][0]\n",
    "    eval_df.loc[l,'inf_dir']=inf_dir\n",
    "    eval_df.loc[l,'model']=model\n",
    "    eval_df.loc[l,'test_im']=test_im\n",
    "    for im_num,im in inf_ims.items():\n",
    "        true_im = os.path.join(data_path,seg_suffix,im_num+'.nrrd')\n",
    "        true_arr = sitk.GetArrayFromImage(sitk.ReadImage(true_im))\n",
    "        #print(true_arr.shape)\n",
    "        inf_arr = sitk.GetArrayFromImage(sitk.ReadImage(im))\n",
    "        #print(inf_arr.shape)\n",
    "        c_mat = skl.metrics.confusion_matrix(true_arr.flatten(),inf_arr.flatten())\n",
    "        p_mat = c_mat.T / c_mat.astype(np.float).sum(axis=1)\n",
    "        eval_df.loc[l,im_num]=[p_mat.T]\n",
    "        if im_num == test_im:\n",
    "            eval_df.loc[l,'test_11'] = p_mat[1,1]\n",
    "            eval_df.loc[l,'test_12'] = p_mat[2,1]\n",
    "            eval_df.loc[l,'test_21'] = p_mat[1,2]\n",
    "            eval_df.loc[l,'test_22'] = p_mat[2,2]\n",
    "            eval_df.loc[l,'test_11+22'] = eval_df.loc[l,'test_11']+eval_df.loc[l,'test_22']\n",
    "            eval_df.loc[l,'test_12+21'] = eval_df.loc[l,'test_12']+eval_df.loc[l,'test_21']\n",
    "            Dice0123 = Dice(inf_arr,true_arr)\n",
    "            eval_df.loc[l,'Dice0'] = Dice0123[0]\n",
    "            eval_df.loc[l,'Dice1'] = Dice0123[1]\n",
    "            eval_df.loc[l,'Dice2'] = Dice0123[2]\n",
    "            eval_df.loc[l,'Dice3'] = Dice0123[3]"
   ]
  },
  {
   "cell_type": "code",
   "execution_count": 55,
   "metadata": {},
   "outputs": [],
   "source": [
    "seg = sitk.ReadImage('/proj/NIRAL/users/siyangj/myData/min_normal/seg_inf_1/1.nrrd')"
   ]
  },
  {
   "cell_type": "code",
   "execution_count": 56,
   "metadata": {},
   "outputs": [],
   "source": [
    "inf = sitk.ReadImage('/proj/NIRAL/users/siyangj/NiftyNetModels/model_10112055/inference_21900_normal/1_niftynet_out.nii.gz')"
   ]
  },
  {
   "cell_type": "code",
   "execution_count": 57,
   "metadata": {},
   "outputs": [],
   "source": [
    "cr_mask = sitk.ReadImage('/proj/NIRAL/users/siyangj/myData/min_normal/CerebellumMask/1.nrrd')"
   ]
  },
  {
   "cell_type": "code",
   "execution_count": 66,
   "metadata": {},
   "outputs": [],
   "source": [
    "seg_arr = sitk.GetArrayFromImage(seg)\n",
    "inf_arr = sitk.GetArrayFromImage(inf)\n",
    "mask_arr = sitk.GetArrayFromImage(cr_mask)"
   ]
  },
  {
   "cell_type": "code",
   "execution_count": 67,
   "metadata": {},
   "outputs": [
    {
     "data": {
      "text/plain": [
       "<matplotlib.image.AxesImage at 0x7fece5f2c048>"
      ]
     },
     "execution_count": 67,
     "metadata": {},
     "output_type": "execute_result"
    },
    {
     "data": {
      "image/png": "[encoded data removed]",
      "text/plain": [
       "<Figure size 432x288 with 1 Axes>"
      ]
     },
     "metadata": {},
     "output_type": "display_data"
    }
   ],
   "source": [
    "plt.imshow(mask_arr[:,70,:])"
   ]
  },
  {
   "cell_type": "code",
   "execution_count": 68,
   "metadata": {},
   "outputs": [
    {
     "data": {
      "text/plain": [
       "<matplotlib.image.AxesImage at 0x7fece5edd6a0>"
      ]
     },
     "execution_count": 68,
     "metadata": {},
     "output_type": "execute_result"
    },
    {
     "data": {
      "image/png": "[encoded data removed]",
      "text/plain": [
       "<Figure size 432x288 with 1 Axes>"
      ]
     },
     "metadata": {},
     "output_type": "display_data"
    }
   ],
   "source": [
    "plt.imshow(seg_arr[:,70,:])"
   ]
  },
  {
   "cell_type": "code",
   "execution_count": 69,
   "metadata": {},
   "outputs": [
    {
     "data": {
      "text/plain": [
       "<matplotlib.image.AxesImage at 0x7fece5f10cf8>"
      ]
     },
     "execution_count": 69,
     "metadata": {},
     "output_type": "execute_result"
    },
    {
     "data": {
      "image/png": "[encoded data removed]",
      "text/plain": [
       "<Figure size 432x288 with 1 Axes>"
      ]
     },
     "metadata": {},
     "output_type": "display_data"
    }
   ],
   "source": [
    "plt.imshow(inf_arr[:,70,:])"
   ]
  },
  {
   "cell_type": "code",
   "execution_count": 70,
   "metadata": {},
   "outputs": [],
   "source": [
    "cr_part_mask = mask_arr==1\n",
    "non_cr_mask = mask_arr==0"
   ]
  },
  {
   "cell_type": "code",
   "execution_count": 71,
   "metadata": {},
   "outputs": [],
   "source": [
    "inf_non_cr = np.copy(inf_arr)\n",
    "inf_non_cr[cr_part_mask]=0\n",
    "inf_cr = np.copy(inf_arr)\n",
    "inf_cr[non_cr_mask]=0\n",
    "seg_non_cr = np.copy(seg_arr)\n",
    "seg_non_cr[cr_part_mask]=0\n",
    "seg_cr = np.copy(seg_arr)\n",
    "seg_cr[non_cr_mask]=0"
   ]
  },
  {
   "cell_type": "code",
   "execution_count": 81,
   "metadata": {},
   "outputs": [
    {
     "data": {
      "text/plain": [
       "<matplotlib.image.AxesImage at 0x7fece1e2eac8>"
      ]
     },
     "execution_count": 81,
     "metadata": {},
     "output_type": "execute_result"
    },
    {
     "data": {
      "image/png": "[encoded data removed]",
      "text/plain": [
       "<Figure size 432x288 with 1 Axes>"
      ]
     },
     "metadata": {},
     "output_type": "display_data"
    }
   ],
   "source": [
    "plt.imshow(seg_non_cr[:,80,:])"
   ]
  },
  {
   "cell_type": "code",
   "execution_count": 73,
   "metadata": {},
   "outputs": [
    {
     "data": {
      "text/plain": [
       "array([0.99751389, 0.86081243, 0.85482516, 0.86913558])"
      ]
     },
     "execution_count": 73,
     "metadata": {},
     "output_type": "execute_result"
    }
   ],
   "source": [
    "Dice(inf_non_cr,seg_non_cr)"
   ]
  },
  {
   "cell_type": "code",
   "execution_count": 74,
   "metadata": {},
   "outputs": [
    {
     "data": {
      "text/plain": [
       "array([0.9992949 , 0.52222164, 0.79935967, 0.75541118])"
      ]
     },
     "execution_count": 74,
     "metadata": {},
     "output_type": "execute_result"
    }
   ],
   "source": [
    "Dice(inf_cr,seg_cr)"
   ]
  }
 ],
 "metadata": {
  "kernelspec": {
   "display_name": "Python 3",
   "language": "python",
   "name": "python3"
  },
  "language_info": {
   "codemirror_mode": {
    "name": "ipython",
    "version": 3
   },
   "file_extension": ".py",
   "mimetype": "text/x-python",
   "name": "python",
   "nbconvert_exporter": "python",
   "pygments_lexer": "ipython3",
   "version": "3.6.7"
  }
 },
 "nbformat": 4,
 "nbformat_minor": 2
}
